{
 "cells": [
  {
   "cell_type": "markdown",
   "metadata": {},
   "source": [
    "# Import libraries and dataset"
   ]
  },
  {
   "cell_type": "markdown",
   "metadata": {},
   "source": [
    "## Libraries"
   ]
  },
  {
   "cell_type": "code",
   "execution_count": 1,
   "metadata": {},
   "outputs": [],
   "source": [
    "import pandas as pd\n",
    "from pandas import ExcelWriter\n",
    "from pandas import ExcelFile"
   ]
  },
  {
   "cell_type": "markdown",
   "metadata": {},
   "source": [
    "## Dataset"
   ]
  },
  {
   "cell_type": "code",
   "execution_count": 2,
   "metadata": {},
   "outputs": [],
   "source": [
    "# how to read in an excel file: https://pythonspot.com/read-excel-with-pandas/\n",
    "df = pd.read_excel('Hands-on+Dataset+(unlockanalytics.com).xlsx')"
   ]
  },
  {
   "cell_type": "code",
   "execution_count": 3,
   "metadata": {},
   "outputs": [
    {
     "data": {
      "text/html": [
       "<div>\n",
       "<style scoped>\n",
       "    .dataframe tbody tr th:only-of-type {\n",
       "        vertical-align: middle;\n",
       "    }\n",
       "\n",
       "    .dataframe tbody tr th {\n",
       "        vertical-align: top;\n",
       "    }\n",
       "\n",
       "    .dataframe thead th {\n",
       "        text-align: right;\n",
       "    }\n",
       "</style>\n",
       "<table border=\"1\" class=\"dataframe\">\n",
       "  <thead>\n",
       "    <tr style=\"text-align: right;\">\n",
       "      <th></th>\n",
       "      <th>e_code</th>\n",
       "      <th>status</th>\n",
       "      <th>hire_date</th>\n",
       "      <th>service_agreement</th>\n",
       "      <th>job_level</th>\n",
       "      <th>performance_rating_2018</th>\n",
       "      <th>performance_rating_2017</th>\n",
       "      <th>year_of_birth</th>\n",
       "      <th>gender</th>\n",
       "      <th>distance_from_home</th>\n",
       "      <th>...</th>\n",
       "      <th>potential_rating</th>\n",
       "      <th>bonus</th>\n",
       "      <th>no_courses_taken</th>\n",
       "      <th>time_in_position</th>\n",
       "      <th>awards</th>\n",
       "      <th>signon</th>\n",
       "      <th>manager_sat</th>\n",
       "      <th>employee_sat</th>\n",
       "      <th>salary_2017</th>\n",
       "      <th>salary_2018</th>\n",
       "    </tr>\n",
       "  </thead>\n",
       "  <tbody>\n",
       "    <tr>\n",
       "      <th>0</th>\n",
       "      <td>45631</td>\n",
       "      <td>0</td>\n",
       "      <td>1990-09-17</td>\n",
       "      <td>N</td>\n",
       "      <td>3</td>\n",
       "      <td>4</td>\n",
       "      <td>3</td>\n",
       "      <td>1967</td>\n",
       "      <td>M</td>\n",
       "      <td>0.52</td>\n",
       "      <td>...</td>\n",
       "      <td>5</td>\n",
       "      <td>0</td>\n",
       "      <td>8</td>\n",
       "      <td>30</td>\n",
       "      <td>N</td>\n",
       "      <td>N</td>\n",
       "      <td>81</td>\n",
       "      <td>80</td>\n",
       "      <td>119968</td>\n",
       "      <td>124173</td>\n",
       "    </tr>\n",
       "    <tr>\n",
       "      <th>1</th>\n",
       "      <td>45632</td>\n",
       "      <td>0</td>\n",
       "      <td>1995-10-23</td>\n",
       "      <td>N</td>\n",
       "      <td>2</td>\n",
       "      <td>1</td>\n",
       "      <td>2</td>\n",
       "      <td>1971</td>\n",
       "      <td>M</td>\n",
       "      <td>0.08</td>\n",
       "      <td>...</td>\n",
       "      <td>5</td>\n",
       "      <td>2242</td>\n",
       "      <td>6</td>\n",
       "      <td>5</td>\n",
       "      <td>N</td>\n",
       "      <td>N</td>\n",
       "      <td>88</td>\n",
       "      <td>84</td>\n",
       "      <td>99330</td>\n",
       "      <td>100822</td>\n",
       "    </tr>\n",
       "    <tr>\n",
       "      <th>2</th>\n",
       "      <td>45633</td>\n",
       "      <td>0</td>\n",
       "      <td>1996-03-10</td>\n",
       "      <td>N</td>\n",
       "      <td>2</td>\n",
       "      <td>4</td>\n",
       "      <td>4</td>\n",
       "      <td>1972</td>\n",
       "      <td>M</td>\n",
       "      <td>0.51</td>\n",
       "      <td>...</td>\n",
       "      <td>3</td>\n",
       "      <td>0</td>\n",
       "      <td>2</td>\n",
       "      <td>53</td>\n",
       "      <td>N</td>\n",
       "      <td>N</td>\n",
       "      <td>83</td>\n",
       "      <td>93</td>\n",
       "      <td>102511</td>\n",
       "      <td>115500</td>\n",
       "    </tr>\n",
       "    <tr>\n",
       "      <th>3</th>\n",
       "      <td>45634</td>\n",
       "      <td>0</td>\n",
       "      <td>1998-07-13</td>\n",
       "      <td>N</td>\n",
       "      <td>1</td>\n",
       "      <td>3</td>\n",
       "      <td>3</td>\n",
       "      <td>1968</td>\n",
       "      <td>F</td>\n",
       "      <td>0.81</td>\n",
       "      <td>...</td>\n",
       "      <td>5</td>\n",
       "      <td>2320</td>\n",
       "      <td>2</td>\n",
       "      <td>36</td>\n",
       "      <td>N</td>\n",
       "      <td>N</td>\n",
       "      <td>86</td>\n",
       "      <td>83</td>\n",
       "      <td>56674</td>\n",
       "      <td>58806</td>\n",
       "    </tr>\n",
       "    <tr>\n",
       "      <th>4</th>\n",
       "      <td>45635</td>\n",
       "      <td>0</td>\n",
       "      <td>1991-09-16</td>\n",
       "      <td>N</td>\n",
       "      <td>2</td>\n",
       "      <td>3</td>\n",
       "      <td>3</td>\n",
       "      <td>1961</td>\n",
       "      <td>M</td>\n",
       "      <td>0.06</td>\n",
       "      <td>...</td>\n",
       "      <td>5</td>\n",
       "      <td>0</td>\n",
       "      <td>10</td>\n",
       "      <td>2</td>\n",
       "      <td>N</td>\n",
       "      <td>N</td>\n",
       "      <td>79</td>\n",
       "      <td>80</td>\n",
       "      <td>122021</td>\n",
       "      <td>122021</td>\n",
       "    </tr>\n",
       "    <tr>\n",
       "      <th>...</th>\n",
       "      <td>...</td>\n",
       "      <td>...</td>\n",
       "      <td>...</td>\n",
       "      <td>...</td>\n",
       "      <td>...</td>\n",
       "      <td>...</td>\n",
       "      <td>...</td>\n",
       "      <td>...</td>\n",
       "      <td>...</td>\n",
       "      <td>...</td>\n",
       "      <td>...</td>\n",
       "      <td>...</td>\n",
       "      <td>...</td>\n",
       "      <td>...</td>\n",
       "      <td>...</td>\n",
       "      <td>...</td>\n",
       "      <td>...</td>\n",
       "      <td>...</td>\n",
       "      <td>...</td>\n",
       "      <td>...</td>\n",
       "      <td>...</td>\n",
       "    </tr>\n",
       "    <tr>\n",
       "      <th>681</th>\n",
       "      <td>46267</td>\n",
       "      <td>1</td>\n",
       "      <td>2008-07-07</td>\n",
       "      <td>N</td>\n",
       "      <td>3</td>\n",
       "      <td>3</td>\n",
       "      <td>3</td>\n",
       "      <td>1966</td>\n",
       "      <td>M</td>\n",
       "      <td>1.10</td>\n",
       "      <td>...</td>\n",
       "      <td>4</td>\n",
       "      <td>6438</td>\n",
       "      <td>0</td>\n",
       "      <td>17</td>\n",
       "      <td>N</td>\n",
       "      <td>N</td>\n",
       "      <td>79</td>\n",
       "      <td>80</td>\n",
       "      <td>74999</td>\n",
       "      <td>75900</td>\n",
       "    </tr>\n",
       "    <tr>\n",
       "      <th>682</th>\n",
       "      <td>46290</td>\n",
       "      <td>1</td>\n",
       "      <td>2011-07-25</td>\n",
       "      <td>N</td>\n",
       "      <td>1</td>\n",
       "      <td>2</td>\n",
       "      <td>3</td>\n",
       "      <td>1981</td>\n",
       "      <td>M</td>\n",
       "      <td>25.27</td>\n",
       "      <td>...</td>\n",
       "      <td>3</td>\n",
       "      <td>0</td>\n",
       "      <td>0</td>\n",
       "      <td>17</td>\n",
       "      <td>N</td>\n",
       "      <td>N</td>\n",
       "      <td>79</td>\n",
       "      <td>80</td>\n",
       "      <td>74999</td>\n",
       "      <td>75900</td>\n",
       "    </tr>\n",
       "    <tr>\n",
       "      <th>683</th>\n",
       "      <td>46312</td>\n",
       "      <td>1</td>\n",
       "      <td>2012-11-26</td>\n",
       "      <td>N</td>\n",
       "      <td>1</td>\n",
       "      <td>3</td>\n",
       "      <td>3</td>\n",
       "      <td>1967</td>\n",
       "      <td>M</td>\n",
       "      <td>1.09</td>\n",
       "      <td>...</td>\n",
       "      <td>3</td>\n",
       "      <td>0</td>\n",
       "      <td>3</td>\n",
       "      <td>43</td>\n",
       "      <td>N</td>\n",
       "      <td>N</td>\n",
       "      <td>79</td>\n",
       "      <td>80</td>\n",
       "      <td>74999</td>\n",
       "      <td>75900</td>\n",
       "    </tr>\n",
       "    <tr>\n",
       "      <th>684</th>\n",
       "      <td>46336</td>\n",
       "      <td>1</td>\n",
       "      <td>2002-07-04</td>\n",
       "      <td>N</td>\n",
       "      <td>1</td>\n",
       "      <td>3</td>\n",
       "      <td>3</td>\n",
       "      <td>1980</td>\n",
       "      <td>F</td>\n",
       "      <td>0.34</td>\n",
       "      <td>...</td>\n",
       "      <td>4</td>\n",
       "      <td>0</td>\n",
       "      <td>3</td>\n",
       "      <td>27</td>\n",
       "      <td>Y</td>\n",
       "      <td>N</td>\n",
       "      <td>79</td>\n",
       "      <td>80</td>\n",
       "      <td>74999</td>\n",
       "      <td>75900</td>\n",
       "    </tr>\n",
       "    <tr>\n",
       "      <th>685</th>\n",
       "      <td>46359</td>\n",
       "      <td>1</td>\n",
       "      <td>2015-03-02</td>\n",
       "      <td>Y</td>\n",
       "      <td>4</td>\n",
       "      <td>3</td>\n",
       "      <td>3</td>\n",
       "      <td>1963</td>\n",
       "      <td>M</td>\n",
       "      <td>38.62</td>\n",
       "      <td>...</td>\n",
       "      <td>5</td>\n",
       "      <td>10476</td>\n",
       "      <td>0</td>\n",
       "      <td>14</td>\n",
       "      <td>N</td>\n",
       "      <td>Y</td>\n",
       "      <td>79</td>\n",
       "      <td>80</td>\n",
       "      <td>74000</td>\n",
       "      <td>75900</td>\n",
       "    </tr>\n",
       "  </tbody>\n",
       "</table>\n",
       "<p>686 rows × 23 columns</p>\n",
       "</div>"
      ],
      "text/plain": [
       "     e_code  status  hire_date service_agreement  job_level  \\\n",
       "0     45631       0 1990-09-17                 N          3   \n",
       "1     45632       0 1995-10-23                 N          2   \n",
       "2     45633       0 1996-03-10                 N          2   \n",
       "3     45634       0 1998-07-13                 N          1   \n",
       "4     45635       0 1991-09-16                 N          2   \n",
       "..      ...     ...        ...               ...        ...   \n",
       "681   46267       1 2008-07-07                 N          3   \n",
       "682   46290       1 2011-07-25                 N          1   \n",
       "683   46312       1 2012-11-26                 N          1   \n",
       "684   46336       1 2002-07-04                 N          1   \n",
       "685   46359       1 2015-03-02                 Y          4   \n",
       "\n",
       "     performance_rating_2018  performance_rating_2017  year_of_birth gender  \\\n",
       "0                          4                        3           1967      M   \n",
       "1                          1                        2           1971      M   \n",
       "2                          4                        4           1972      M   \n",
       "3                          3                        3           1968      F   \n",
       "4                          3                        3           1961      M   \n",
       "..                       ...                      ...            ...    ...   \n",
       "681                        3                        3           1966      M   \n",
       "682                        2                        3           1981      M   \n",
       "683                        3                        3           1967      M   \n",
       "684                        3                        3           1980      F   \n",
       "685                        3                        3           1963      M   \n",
       "\n",
       "     distance_from_home  ...  potential_rating  bonus  no_courses_taken  \\\n",
       "0                  0.52  ...                 5      0                 8   \n",
       "1                  0.08  ...                 5   2242                 6   \n",
       "2                  0.51  ...                 3      0                 2   \n",
       "3                  0.81  ...                 5   2320                 2   \n",
       "4                  0.06  ...                 5      0                10   \n",
       "..                  ...  ...               ...    ...               ...   \n",
       "681                1.10  ...                 4   6438                 0   \n",
       "682               25.27  ...                 3      0                 0   \n",
       "683                1.09  ...                 3      0                 3   \n",
       "684                0.34  ...                 4      0                 3   \n",
       "685               38.62  ...                 5  10476                 0   \n",
       "\n",
       "     time_in_position  awards  signon  manager_sat employee_sat salary_2017  \\\n",
       "0                  30       N       N           81           80      119968   \n",
       "1                   5       N       N           88           84       99330   \n",
       "2                  53       N       N           83           93      102511   \n",
       "3                  36       N       N           86           83       56674   \n",
       "4                   2       N       N           79           80      122021   \n",
       "..                ...     ...     ...          ...          ...         ...   \n",
       "681                17       N       N           79           80       74999   \n",
       "682                17       N       N           79           80       74999   \n",
       "683                43       N       N           79           80       74999   \n",
       "684                27       Y       N           79           80       74999   \n",
       "685                14       N       Y           79           80       74000   \n",
       "\n",
       "     salary_2018  \n",
       "0         124173  \n",
       "1         100822  \n",
       "2         115500  \n",
       "3          58806  \n",
       "4         122021  \n",
       "..           ...  \n",
       "681        75900  \n",
       "682        75900  \n",
       "683        75900  \n",
       "684        75900  \n",
       "685        75900  \n",
       "\n",
       "[686 rows x 23 columns]"
      ]
     },
     "execution_count": 3,
     "metadata": {},
     "output_type": "execute_result"
    }
   ],
   "source": [
    "df"
   ]
  },
  {
   "cell_type": "code",
   "execution_count": 4,
   "metadata": {},
   "outputs": [
    {
     "data": {
      "text/plain": [
       "(686, 23)"
      ]
     },
     "execution_count": 4,
     "metadata": {},
     "output_type": "execute_result"
    }
   ],
   "source": [
    "df.shape # rows, columns"
   ]
  },
  {
   "cell_type": "markdown",
   "metadata": {
    "heading_collapsed": true
   },
   "source": [
    "# To see entire dataframe (not with ...)"
   ]
  },
  {
   "cell_type": "markdown",
   "metadata": {
    "hidden": true
   },
   "source": [
    "To see the entire dataframe: https://discuss.analyticsvidhya.com/t/how-to-display-full-dataframe-in-pandas/23298/3"
   ]
  },
  {
   "cell_type": "markdown",
   "metadata": {
    "hidden": true
   },
   "source": [
    "https://pandas.pydata.org/pandas-docs/version/0.22.0/generated/pandas.get_option.html"
   ]
  },
  {
   "cell_type": "code",
   "execution_count": null,
   "metadata": {
    "hidden": true
   },
   "outputs": [],
   "source": [
    "pd.set_option('display.max_rows', None)"
   ]
  },
  {
   "cell_type": "code",
   "execution_count": null,
   "metadata": {
    "hidden": true,
    "scrolled": true
   },
   "outputs": [],
   "source": [
    "df"
   ]
  },
  {
   "cell_type": "code",
   "execution_count": null,
   "metadata": {
    "hidden": true
   },
   "outputs": [],
   "source": [
    "pd.reset_option('display.max_rows', None)"
   ]
  },
  {
   "cell_type": "code",
   "execution_count": null,
   "metadata": {
    "hidden": true
   },
   "outputs": [],
   "source": [
    "df"
   ]
  },
  {
   "cell_type": "markdown",
   "metadata": {},
   "source": [
    "# Univariate Analysis"
   ]
  },
  {
   "cell_type": "markdown",
   "metadata": {},
   "source": [
    "## Check Dataset"
   ]
  },
  {
   "cell_type": "code",
   "execution_count": 5,
   "metadata": {},
   "outputs": [
    {
     "name": "stdout",
     "output_type": "stream",
     "text": [
      "<class 'pandas.core.frame.DataFrame'>\n",
      "RangeIndex: 686 entries, 0 to 685\n",
      "Data columns (total 23 columns):\n",
      " #   Column                   Non-Null Count  Dtype         \n",
      "---  ------                   --------------  -----         \n",
      " 0   e_code                   686 non-null    int64         \n",
      " 1   status                   686 non-null    int64         \n",
      " 2   hire_date                686 non-null    datetime64[ns]\n",
      " 3   service_agreement        686 non-null    object        \n",
      " 4   job_level                686 non-null    int64         \n",
      " 5   performance_rating_2018  686 non-null    int64         \n",
      " 6   performance_rating_2017  686 non-null    int64         \n",
      " 7   year_of_birth            686 non-null    int64         \n",
      " 8   gender                   686 non-null    object        \n",
      " 9   distance_from_home       686 non-null    float64       \n",
      " 10  manager_changes          686 non-null    int64         \n",
      " 11  no_of_promotions         686 non-null    int64         \n",
      " 12  risk_of_attrition        686 non-null    int64         \n",
      " 13  potential_rating         686 non-null    int64         \n",
      " 14  bonus                    686 non-null    int64         \n",
      " 15  no_courses_taken         686 non-null    int64         \n",
      " 16  time_in_position         686 non-null    int64         \n",
      " 17  awards                   686 non-null    object        \n",
      " 18  signon                   686 non-null    object        \n",
      " 19  manager_sat              686 non-null    int64         \n",
      " 20  employee_sat             686 non-null    int64         \n",
      " 21  salary_2017              686 non-null    int64         \n",
      " 22  salary_2018              686 non-null    int64         \n",
      "dtypes: datetime64[ns](1), float64(1), int64(17), object(4)\n",
      "memory usage: 123.4+ KB\n"
     ]
    }
   ],
   "source": [
    "df.info()"
   ]
  },
  {
   "cell_type": "code",
   "execution_count": 6,
   "metadata": {},
   "outputs": [
    {
     "data": {
      "text/plain": [
       "0    516\n",
       "1    170\n",
       "Name: status, dtype: int64"
      ]
     },
     "execution_count": 6,
     "metadata": {},
     "output_type": "execute_result"
    }
   ],
   "source": [
    "# create a table - to see a column to see the distribution\n",
    "# for status\n",
    "df.status.value_counts()"
   ]
  },
  {
   "cell_type": "code",
   "execution_count": 7,
   "metadata": {},
   "outputs": [
    {
     "data": {
      "text/plain": [
       "24.78134110787172"
      ]
     },
     "execution_count": 7,
     "metadata": {},
     "output_type": "execute_result"
    }
   ],
   "source": [
    "(170/686)*100\n",
    "# gives us the people who are attributed from the organizationx"
   ]
  },
  {
   "cell_type": "markdown",
   "metadata": {},
   "source": [
    "## Descriptive Statistics"
   ]
  },
  {
   "cell_type": "markdown",
   "metadata": {},
   "source": [
    "Univariate Analysis - performing initial investigation on the data.  Discover patterns, spot anamolies, test hypothesis, check assumptions but using graphical representations"
   ]
  },
  {
   "cell_type": "markdown",
   "metadata": {},
   "source": [
    "### `df.describe()`"
   ]
  },
  {
   "cell_type": "code",
   "execution_count": 8,
   "metadata": {},
   "outputs": [
    {
     "data": {
      "text/html": [
       "<div>\n",
       "<style scoped>\n",
       "    .dataframe tbody tr th:only-of-type {\n",
       "        vertical-align: middle;\n",
       "    }\n",
       "\n",
       "    .dataframe tbody tr th {\n",
       "        vertical-align: top;\n",
       "    }\n",
       "\n",
       "    .dataframe thead th {\n",
       "        text-align: right;\n",
       "    }\n",
       "</style>\n",
       "<table border=\"1\" class=\"dataframe\">\n",
       "  <thead>\n",
       "    <tr style=\"text-align: right;\">\n",
       "      <th></th>\n",
       "      <th>e_code</th>\n",
       "      <th>status</th>\n",
       "      <th>job_level</th>\n",
       "      <th>performance_rating_2018</th>\n",
       "      <th>performance_rating_2017</th>\n",
       "      <th>year_of_birth</th>\n",
       "      <th>distance_from_home</th>\n",
       "      <th>manager_changes</th>\n",
       "      <th>no_of_promotions</th>\n",
       "      <th>risk_of_attrition</th>\n",
       "      <th>potential_rating</th>\n",
       "      <th>bonus</th>\n",
       "      <th>no_courses_taken</th>\n",
       "      <th>time_in_position</th>\n",
       "      <th>manager_sat</th>\n",
       "      <th>employee_sat</th>\n",
       "      <th>salary_2017</th>\n",
       "      <th>salary_2018</th>\n",
       "    </tr>\n",
       "  </thead>\n",
       "  <tbody>\n",
       "    <tr>\n",
       "      <th>count</th>\n",
       "      <td>686.000000</td>\n",
       "      <td>686.000000</td>\n",
       "      <td>686.000000</td>\n",
       "      <td>686.000000</td>\n",
       "      <td>686.000000</td>\n",
       "      <td>686.000000</td>\n",
       "      <td>686.000000</td>\n",
       "      <td>686.000000</td>\n",
       "      <td>686.000000</td>\n",
       "      <td>686.000000</td>\n",
       "      <td>686.000000</td>\n",
       "      <td>686.000000</td>\n",
       "      <td>686.000000</td>\n",
       "      <td>686.000000</td>\n",
       "      <td>686.000000</td>\n",
       "      <td>686.000000</td>\n",
       "      <td>686.000000</td>\n",
       "      <td>686.000000</td>\n",
       "    </tr>\n",
       "    <tr>\n",
       "      <th>mean</th>\n",
       "      <td>46015.237609</td>\n",
       "      <td>0.247813</td>\n",
       "      <td>1.753644</td>\n",
       "      <td>2.895044</td>\n",
       "      <td>2.967930</td>\n",
       "      <td>1972.532070</td>\n",
       "      <td>3.204534</td>\n",
       "      <td>2.332362</td>\n",
       "      <td>0.615160</td>\n",
       "      <td>2.558309</td>\n",
       "      <td>3.693878</td>\n",
       "      <td>1097.536443</td>\n",
       "      <td>3.247813</td>\n",
       "      <td>27.345481</td>\n",
       "      <td>82.177843</td>\n",
       "      <td>81.214286</td>\n",
       "      <td>114289.116618</td>\n",
       "      <td>119135.456268</td>\n",
       "    </tr>\n",
       "    <tr>\n",
       "      <th>std</th>\n",
       "      <td>214.878836</td>\n",
       "      <td>0.432058</td>\n",
       "      <td>0.957007</td>\n",
       "      <td>1.124669</td>\n",
       "      <td>0.674125</td>\n",
       "      <td>7.734348</td>\n",
       "      <td>8.441646</td>\n",
       "      <td>2.431611</td>\n",
       "      <td>1.190229</td>\n",
       "      <td>0.734119</td>\n",
       "      <td>1.088570</td>\n",
       "      <td>2128.097198</td>\n",
       "      <td>3.063291</td>\n",
       "      <td>31.375641</td>\n",
       "      <td>4.838758</td>\n",
       "      <td>5.005909</td>\n",
       "      <td>60820.924620</td>\n",
       "      <td>60925.702367</td>\n",
       "    </tr>\n",
       "    <tr>\n",
       "      <th>min</th>\n",
       "      <td>45631.000000</td>\n",
       "      <td>0.000000</td>\n",
       "      <td>1.000000</td>\n",
       "      <td>1.000000</td>\n",
       "      <td>1.000000</td>\n",
       "      <td>1959.000000</td>\n",
       "      <td>0.000000</td>\n",
       "      <td>0.000000</td>\n",
       "      <td>0.000000</td>\n",
       "      <td>1.000000</td>\n",
       "      <td>1.000000</td>\n",
       "      <td>0.000000</td>\n",
       "      <td>0.000000</td>\n",
       "      <td>0.000000</td>\n",
       "      <td>76.000000</td>\n",
       "      <td>70.000000</td>\n",
       "      <td>39600.000000</td>\n",
       "      <td>43903.000000</td>\n",
       "    </tr>\n",
       "    <tr>\n",
       "      <th>25%</th>\n",
       "      <td>45833.250000</td>\n",
       "      <td>0.000000</td>\n",
       "      <td>1.000000</td>\n",
       "      <td>2.000000</td>\n",
       "      <td>3.000000</td>\n",
       "      <td>1966.000000</td>\n",
       "      <td>0.242500</td>\n",
       "      <td>0.000000</td>\n",
       "      <td>0.000000</td>\n",
       "      <td>2.000000</td>\n",
       "      <td>3.000000</td>\n",
       "      <td>0.000000</td>\n",
       "      <td>1.000000</td>\n",
       "      <td>7.000000</td>\n",
       "      <td>79.000000</td>\n",
       "      <td>80.000000</td>\n",
       "      <td>77033.750000</td>\n",
       "      <td>81840.000000</td>\n",
       "    </tr>\n",
       "    <tr>\n",
       "      <th>50%</th>\n",
       "      <td>46017.500000</td>\n",
       "      <td>0.000000</td>\n",
       "      <td>1.000000</td>\n",
       "      <td>3.000000</td>\n",
       "      <td>3.000000</td>\n",
       "      <td>1973.000000</td>\n",
       "      <td>0.450000</td>\n",
       "      <td>2.000000</td>\n",
       "      <td>0.000000</td>\n",
       "      <td>3.000000</td>\n",
       "      <td>4.000000</td>\n",
       "      <td>0.000000</td>\n",
       "      <td>2.000000</td>\n",
       "      <td>18.000000</td>\n",
       "      <td>79.000000</td>\n",
       "      <td>80.000000</td>\n",
       "      <td>98000.000000</td>\n",
       "      <td>102716.000000</td>\n",
       "    </tr>\n",
       "    <tr>\n",
       "      <th>75%</th>\n",
       "      <td>46199.750000</td>\n",
       "      <td>0.000000</td>\n",
       "      <td>2.000000</td>\n",
       "      <td>4.000000</td>\n",
       "      <td>3.000000</td>\n",
       "      <td>1979.000000</td>\n",
       "      <td>0.980000</td>\n",
       "      <td>4.000000</td>\n",
       "      <td>1.000000</td>\n",
       "      <td>3.000000</td>\n",
       "      <td>5.000000</td>\n",
       "      <td>2051.000000</td>\n",
       "      <td>4.000000</td>\n",
       "      <td>37.000000</td>\n",
       "      <td>85.000000</td>\n",
       "      <td>80.000000</td>\n",
       "      <td>125705.500000</td>\n",
       "      <td>132000.000000</td>\n",
       "    </tr>\n",
       "    <tr>\n",
       "      <th>max</th>\n",
       "      <td>46387.000000</td>\n",
       "      <td>1.000000</td>\n",
       "      <td>5.000000</td>\n",
       "      <td>5.000000</td>\n",
       "      <td>4.000000</td>\n",
       "      <td>1990.000000</td>\n",
       "      <td>50.000000</td>\n",
       "      <td>15.000000</td>\n",
       "      <td>10.000000</td>\n",
       "      <td>4.000000</td>\n",
       "      <td>5.000000</td>\n",
       "      <td>19853.000000</td>\n",
       "      <td>20.000000</td>\n",
       "      <td>278.000000</td>\n",
       "      <td>100.000000</td>\n",
       "      <td>100.000000</td>\n",
       "      <td>511500.000000</td>\n",
       "      <td>511500.000000</td>\n",
       "    </tr>\n",
       "  </tbody>\n",
       "</table>\n",
       "</div>"
      ],
      "text/plain": [
       "             e_code      status   job_level  performance_rating_2018  \\\n",
       "count    686.000000  686.000000  686.000000               686.000000   \n",
       "mean   46015.237609    0.247813    1.753644                 2.895044   \n",
       "std      214.878836    0.432058    0.957007                 1.124669   \n",
       "min    45631.000000    0.000000    1.000000                 1.000000   \n",
       "25%    45833.250000    0.000000    1.000000                 2.000000   \n",
       "50%    46017.500000    0.000000    1.000000                 3.000000   \n",
       "75%    46199.750000    0.000000    2.000000                 4.000000   \n",
       "max    46387.000000    1.000000    5.000000                 5.000000   \n",
       "\n",
       "       performance_rating_2017  year_of_birth  distance_from_home  \\\n",
       "count               686.000000     686.000000          686.000000   \n",
       "mean                  2.967930    1972.532070            3.204534   \n",
       "std                   0.674125       7.734348            8.441646   \n",
       "min                   1.000000    1959.000000            0.000000   \n",
       "25%                   3.000000    1966.000000            0.242500   \n",
       "50%                   3.000000    1973.000000            0.450000   \n",
       "75%                   3.000000    1979.000000            0.980000   \n",
       "max                   4.000000    1990.000000           50.000000   \n",
       "\n",
       "       manager_changes  no_of_promotions  risk_of_attrition  potential_rating  \\\n",
       "count       686.000000        686.000000         686.000000        686.000000   \n",
       "mean          2.332362          0.615160           2.558309          3.693878   \n",
       "std           2.431611          1.190229           0.734119          1.088570   \n",
       "min           0.000000          0.000000           1.000000          1.000000   \n",
       "25%           0.000000          0.000000           2.000000          3.000000   \n",
       "50%           2.000000          0.000000           3.000000          4.000000   \n",
       "75%           4.000000          1.000000           3.000000          5.000000   \n",
       "max          15.000000         10.000000           4.000000          5.000000   \n",
       "\n",
       "              bonus  no_courses_taken  time_in_position  manager_sat  \\\n",
       "count    686.000000        686.000000        686.000000   686.000000   \n",
       "mean    1097.536443          3.247813         27.345481    82.177843   \n",
       "std     2128.097198          3.063291         31.375641     4.838758   \n",
       "min        0.000000          0.000000          0.000000    76.000000   \n",
       "25%        0.000000          1.000000          7.000000    79.000000   \n",
       "50%        0.000000          2.000000         18.000000    79.000000   \n",
       "75%     2051.000000          4.000000         37.000000    85.000000   \n",
       "max    19853.000000         20.000000        278.000000   100.000000   \n",
       "\n",
       "       employee_sat    salary_2017    salary_2018  \n",
       "count    686.000000     686.000000     686.000000  \n",
       "mean      81.214286  114289.116618  119135.456268  \n",
       "std        5.005909   60820.924620   60925.702367  \n",
       "min       70.000000   39600.000000   43903.000000  \n",
       "25%       80.000000   77033.750000   81840.000000  \n",
       "50%       80.000000   98000.000000  102716.000000  \n",
       "75%       80.000000  125705.500000  132000.000000  \n",
       "max      100.000000  511500.000000  511500.000000  "
      ]
     },
     "execution_count": 8,
     "metadata": {},
     "output_type": "execute_result"
    }
   ],
   "source": [
    "df.describe()\n",
    "# just for the numerical values not objects (categorical)\n",
    "# to see what the categorical ones are use df.info()\n",
    "# and then see how many counts are in them by using\n",
    "# df.column-name.value_counts()"
   ]
  },
  {
   "cell_type": "markdown",
   "metadata": {},
   "source": [
    "### Histogram - `df.columnname.hist()`"
   ]
  },
  {
   "cell_type": "code",
   "execution_count": 9,
   "metadata": {},
   "outputs": [],
   "source": [
    "df.salary_2018.hist();\n",
    "# right skewed, because the median is less than the mean\n",
    "# NOTE: When the mean is less than the median, left skewed"
   ]
  },
  {
   "cell_type": "markdown",
   "metadata": {},
   "source": [
    "## Change Datatypes"
   ]
  },
  {
   "cell_type": "markdown",
   "metadata": {},
   "source": [
    "Categorical (in R - factors) -- levels not mathematical computations \n",
    "Such as:\n",
    "1. Status (yes or no)\n",
    "2. Job Level (can't find the mean of a job_level) - the count\n",
    "3. Number of promotions\n",
    "4. Risk of attrition\n",
    "5. potential rating\n",
    "Since these are categorical in nature -- make them category types.\n",
    "\n",
    "Note, that object types can only be text.\n",
    "\n",
    "\n",
    "Find the value counts for categorical variables that are listed as object."
   ]
  },
  {
   "cell_type": "code",
   "execution_count": 10,
   "metadata": {},
   "outputs": [
    {
     "name": "stdout",
     "output_type": "stream",
     "text": [
      "<class 'pandas.core.frame.DataFrame'>\n",
      "RangeIndex: 686 entries, 0 to 685\n",
      "Data columns (total 23 columns):\n",
      " #   Column                   Non-Null Count  Dtype         \n",
      "---  ------                   --------------  -----         \n",
      " 0   e_code                   686 non-null    int64         \n",
      " 1   status                   686 non-null    int64         \n",
      " 2   hire_date                686 non-null    datetime64[ns]\n",
      " 3   service_agreement        686 non-null    object        \n",
      " 4   job_level                686 non-null    int64         \n",
      " 5   performance_rating_2018  686 non-null    int64         \n",
      " 6   performance_rating_2017  686 non-null    int64         \n",
      " 7   year_of_birth            686 non-null    int64         \n",
      " 8   gender                   686 non-null    object        \n",
      " 9   distance_from_home       686 non-null    float64       \n",
      " 10  manager_changes          686 non-null    int64         \n",
      " 11  no_of_promotions         686 non-null    int64         \n",
      " 12  risk_of_attrition        686 non-null    int64         \n",
      " 13  potential_rating         686 non-null    int64         \n",
      " 14  bonus                    686 non-null    int64         \n",
      " 15  no_courses_taken         686 non-null    int64         \n",
      " 16  time_in_position         686 non-null    int64         \n",
      " 17  awards                   686 non-null    object        \n",
      " 18  signon                   686 non-null    object        \n",
      " 19  manager_sat              686 non-null    int64         \n",
      " 20  employee_sat             686 non-null    int64         \n",
      " 21  salary_2017              686 non-null    int64         \n",
      " 22  salary_2018              686 non-null    int64         \n",
      "dtypes: datetime64[ns](1), float64(1), int64(17), object(4)\n",
      "memory usage: 123.4+ KB\n"
     ]
    }
   ],
   "source": [
    "df.info()"
   ]
  },
  {
   "cell_type": "markdown",
   "metadata": {},
   "source": [
    "## Category - `.astype('category')`"
   ]
  },
  {
   "cell_type": "code",
   "execution_count": 11,
   "metadata": {},
   "outputs": [],
   "source": [
    "# source: https://stackoverflow.com/questions/28910851/python-pandas-changing-some-column-types-to-categories\n",
    "# change columns to category because they are categorical in nature\n",
    "for col in ['status', 'job_level', 'no_of_promotions', 'risk_of_attrition', 'potential_rating']:\n",
    "    df[col]= df[col].astype('category')"
   ]
  },
  {
   "cell_type": "code",
   "execution_count": 12,
   "metadata": {},
   "outputs": [
    {
     "name": "stdout",
     "output_type": "stream",
     "text": [
      "<class 'pandas.core.frame.DataFrame'>\n",
      "RangeIndex: 686 entries, 0 to 685\n",
      "Data columns (total 23 columns):\n",
      " #   Column                   Non-Null Count  Dtype         \n",
      "---  ------                   --------------  -----         \n",
      " 0   e_code                   686 non-null    int64         \n",
      " 1   status                   686 non-null    category      \n",
      " 2   hire_date                686 non-null    datetime64[ns]\n",
      " 3   service_agreement        686 non-null    object        \n",
      " 4   job_level                686 non-null    category      \n",
      " 5   performance_rating_2018  686 non-null    int64         \n",
      " 6   performance_rating_2017  686 non-null    int64         \n",
      " 7   year_of_birth            686 non-null    int64         \n",
      " 8   gender                   686 non-null    object        \n",
      " 9   distance_from_home       686 non-null    float64       \n",
      " 10  manager_changes          686 non-null    int64         \n",
      " 11  no_of_promotions         686 non-null    category      \n",
      " 12  risk_of_attrition        686 non-null    category      \n",
      " 13  potential_rating         686 non-null    category      \n",
      " 14  bonus                    686 non-null    int64         \n",
      " 15  no_courses_taken         686 non-null    int64         \n",
      " 16  time_in_position         686 non-null    int64         \n",
      " 17  awards                   686 non-null    object        \n",
      " 18  signon                   686 non-null    object        \n",
      " 19  manager_sat              686 non-null    int64         \n",
      " 20  employee_sat             686 non-null    int64         \n",
      " 21  salary_2017              686 non-null    int64         \n",
      " 22  salary_2018              686 non-null    int64         \n",
      "dtypes: category(5), datetime64[ns](1), float64(1), int64(12), object(4)\n",
      "memory usage: 101.0+ KB\n"
     ]
    }
   ],
   "source": [
    "df.info()"
   ]
  },
  {
   "cell_type": "markdown",
   "metadata": {},
   "source": [
    "## Checking the statistics of all - `df.describe(include='all')`"
   ]
  },
  {
   "cell_type": "code",
   "execution_count": 13,
   "metadata": {},
   "outputs": [
    {
     "data": {
      "text/html": [
       "<div>\n",
       "<style scoped>\n",
       "    .dataframe tbody tr th:only-of-type {\n",
       "        vertical-align: middle;\n",
       "    }\n",
       "\n",
       "    .dataframe tbody tr th {\n",
       "        vertical-align: top;\n",
       "    }\n",
       "\n",
       "    .dataframe thead th {\n",
       "        text-align: right;\n",
       "    }\n",
       "</style>\n",
       "<table border=\"1\" class=\"dataframe\">\n",
       "  <thead>\n",
       "    <tr style=\"text-align: right;\">\n",
       "      <th></th>\n",
       "      <th>count</th>\n",
       "      <th>unique</th>\n",
       "      <th>top</th>\n",
       "      <th>freq</th>\n",
       "      <th>first</th>\n",
       "      <th>last</th>\n",
       "      <th>mean</th>\n",
       "      <th>std</th>\n",
       "      <th>min</th>\n",
       "      <th>25%</th>\n",
       "      <th>50%</th>\n",
       "      <th>75%</th>\n",
       "      <th>max</th>\n",
       "    </tr>\n",
       "  </thead>\n",
       "  <tbody>\n",
       "    <tr>\n",
       "      <th>e_code</th>\n",
       "      <td>686</td>\n",
       "      <td>NaN</td>\n",
       "      <td>NaN</td>\n",
       "      <td>NaN</td>\n",
       "      <td>NaT</td>\n",
       "      <td>NaT</td>\n",
       "      <td>46015.2</td>\n",
       "      <td>214.879</td>\n",
       "      <td>45631</td>\n",
       "      <td>45833.2</td>\n",
       "      <td>46017.5</td>\n",
       "      <td>46199.8</td>\n",
       "      <td>46387</td>\n",
       "    </tr>\n",
       "    <tr>\n",
       "      <th>status</th>\n",
       "      <td>686</td>\n",
       "      <td>2</td>\n",
       "      <td>0</td>\n",
       "      <td>516</td>\n",
       "      <td>NaT</td>\n",
       "      <td>NaT</td>\n",
       "      <td>NaN</td>\n",
       "      <td>NaN</td>\n",
       "      <td>NaN</td>\n",
       "      <td>NaN</td>\n",
       "      <td>NaN</td>\n",
       "      <td>NaN</td>\n",
       "      <td>NaN</td>\n",
       "    </tr>\n",
       "    <tr>\n",
       "      <th>hire_date</th>\n",
       "      <td>686</td>\n",
       "      <td>570</td>\n",
       "      <td>2018-01-22 00:00:00</td>\n",
       "      <td>6</td>\n",
       "      <td>1978-10-02</td>\n",
       "      <td>2018-03-26</td>\n",
       "      <td>NaN</td>\n",
       "      <td>NaN</td>\n",
       "      <td>NaN</td>\n",
       "      <td>NaN</td>\n",
       "      <td>NaN</td>\n",
       "      <td>NaN</td>\n",
       "      <td>NaN</td>\n",
       "    </tr>\n",
       "    <tr>\n",
       "      <th>service_agreement</th>\n",
       "      <td>686</td>\n",
       "      <td>2</td>\n",
       "      <td>N</td>\n",
       "      <td>576</td>\n",
       "      <td>NaT</td>\n",
       "      <td>NaT</td>\n",
       "      <td>NaN</td>\n",
       "      <td>NaN</td>\n",
       "      <td>NaN</td>\n",
       "      <td>NaN</td>\n",
       "      <td>NaN</td>\n",
       "      <td>NaN</td>\n",
       "      <td>NaN</td>\n",
       "    </tr>\n",
       "    <tr>\n",
       "      <th>job_level</th>\n",
       "      <td>686</td>\n",
       "      <td>5</td>\n",
       "      <td>1</td>\n",
       "      <td>353</td>\n",
       "      <td>NaT</td>\n",
       "      <td>NaT</td>\n",
       "      <td>NaN</td>\n",
       "      <td>NaN</td>\n",
       "      <td>NaN</td>\n",
       "      <td>NaN</td>\n",
       "      <td>NaN</td>\n",
       "      <td>NaN</td>\n",
       "      <td>NaN</td>\n",
       "    </tr>\n",
       "    <tr>\n",
       "      <th>performance_rating_2018</th>\n",
       "      <td>686</td>\n",
       "      <td>NaN</td>\n",
       "      <td>NaN</td>\n",
       "      <td>NaN</td>\n",
       "      <td>NaT</td>\n",
       "      <td>NaT</td>\n",
       "      <td>2.89504</td>\n",
       "      <td>1.12467</td>\n",
       "      <td>1</td>\n",
       "      <td>2</td>\n",
       "      <td>3</td>\n",
       "      <td>4</td>\n",
       "      <td>5</td>\n",
       "    </tr>\n",
       "    <tr>\n",
       "      <th>performance_rating_2017</th>\n",
       "      <td>686</td>\n",
       "      <td>NaN</td>\n",
       "      <td>NaN</td>\n",
       "      <td>NaN</td>\n",
       "      <td>NaT</td>\n",
       "      <td>NaT</td>\n",
       "      <td>2.96793</td>\n",
       "      <td>0.674125</td>\n",
       "      <td>1</td>\n",
       "      <td>3</td>\n",
       "      <td>3</td>\n",
       "      <td>3</td>\n",
       "      <td>4</td>\n",
       "    </tr>\n",
       "    <tr>\n",
       "      <th>year_of_birth</th>\n",
       "      <td>686</td>\n",
       "      <td>NaN</td>\n",
       "      <td>NaN</td>\n",
       "      <td>NaN</td>\n",
       "      <td>NaT</td>\n",
       "      <td>NaT</td>\n",
       "      <td>1972.53</td>\n",
       "      <td>7.73435</td>\n",
       "      <td>1959</td>\n",
       "      <td>1966</td>\n",
       "      <td>1973</td>\n",
       "      <td>1979</td>\n",
       "      <td>1990</td>\n",
       "    </tr>\n",
       "    <tr>\n",
       "      <th>gender</th>\n",
       "      <td>686</td>\n",
       "      <td>2</td>\n",
       "      <td>M</td>\n",
       "      <td>507</td>\n",
       "      <td>NaT</td>\n",
       "      <td>NaT</td>\n",
       "      <td>NaN</td>\n",
       "      <td>NaN</td>\n",
       "      <td>NaN</td>\n",
       "      <td>NaN</td>\n",
       "      <td>NaN</td>\n",
       "      <td>NaN</td>\n",
       "      <td>NaN</td>\n",
       "    </tr>\n",
       "    <tr>\n",
       "      <th>distance_from_home</th>\n",
       "      <td>686</td>\n",
       "      <td>NaN</td>\n",
       "      <td>NaN</td>\n",
       "      <td>NaN</td>\n",
       "      <td>NaT</td>\n",
       "      <td>NaT</td>\n",
       "      <td>3.20453</td>\n",
       "      <td>8.44165</td>\n",
       "      <td>0</td>\n",
       "      <td>0.2425</td>\n",
       "      <td>0.45</td>\n",
       "      <td>0.98</td>\n",
       "      <td>50</td>\n",
       "    </tr>\n",
       "    <tr>\n",
       "      <th>manager_changes</th>\n",
       "      <td>686</td>\n",
       "      <td>NaN</td>\n",
       "      <td>NaN</td>\n",
       "      <td>NaN</td>\n",
       "      <td>NaT</td>\n",
       "      <td>NaT</td>\n",
       "      <td>2.33236</td>\n",
       "      <td>2.43161</td>\n",
       "      <td>0</td>\n",
       "      <td>0</td>\n",
       "      <td>2</td>\n",
       "      <td>4</td>\n",
       "      <td>15</td>\n",
       "    </tr>\n",
       "    <tr>\n",
       "      <th>no_of_promotions</th>\n",
       "      <td>686</td>\n",
       "      <td>9</td>\n",
       "      <td>0</td>\n",
       "      <td>473</td>\n",
       "      <td>NaT</td>\n",
       "      <td>NaT</td>\n",
       "      <td>NaN</td>\n",
       "      <td>NaN</td>\n",
       "      <td>NaN</td>\n",
       "      <td>NaN</td>\n",
       "      <td>NaN</td>\n",
       "      <td>NaN</td>\n",
       "      <td>NaN</td>\n",
       "    </tr>\n",
       "    <tr>\n",
       "      <th>risk_of_attrition</th>\n",
       "      <td>686</td>\n",
       "      <td>4</td>\n",
       "      <td>2</td>\n",
       "      <td>301</td>\n",
       "      <td>NaT</td>\n",
       "      <td>NaT</td>\n",
       "      <td>NaN</td>\n",
       "      <td>NaN</td>\n",
       "      <td>NaN</td>\n",
       "      <td>NaN</td>\n",
       "      <td>NaN</td>\n",
       "      <td>NaN</td>\n",
       "      <td>NaN</td>\n",
       "    </tr>\n",
       "    <tr>\n",
       "      <th>potential_rating</th>\n",
       "      <td>686</td>\n",
       "      <td>5</td>\n",
       "      <td>3</td>\n",
       "      <td>225</td>\n",
       "      <td>NaT</td>\n",
       "      <td>NaT</td>\n",
       "      <td>NaN</td>\n",
       "      <td>NaN</td>\n",
       "      <td>NaN</td>\n",
       "      <td>NaN</td>\n",
       "      <td>NaN</td>\n",
       "      <td>NaN</td>\n",
       "      <td>NaN</td>\n",
       "    </tr>\n",
       "    <tr>\n",
       "      <th>bonus</th>\n",
       "      <td>686</td>\n",
       "      <td>NaN</td>\n",
       "      <td>NaN</td>\n",
       "      <td>NaN</td>\n",
       "      <td>NaT</td>\n",
       "      <td>NaT</td>\n",
       "      <td>1097.54</td>\n",
       "      <td>2128.1</td>\n",
       "      <td>0</td>\n",
       "      <td>0</td>\n",
       "      <td>0</td>\n",
       "      <td>2051</td>\n",
       "      <td>19853</td>\n",
       "    </tr>\n",
       "    <tr>\n",
       "      <th>no_courses_taken</th>\n",
       "      <td>686</td>\n",
       "      <td>NaN</td>\n",
       "      <td>NaN</td>\n",
       "      <td>NaN</td>\n",
       "      <td>NaT</td>\n",
       "      <td>NaT</td>\n",
       "      <td>3.24781</td>\n",
       "      <td>3.06329</td>\n",
       "      <td>0</td>\n",
       "      <td>1</td>\n",
       "      <td>2</td>\n",
       "      <td>4</td>\n",
       "      <td>20</td>\n",
       "    </tr>\n",
       "    <tr>\n",
       "      <th>time_in_position</th>\n",
       "      <td>686</td>\n",
       "      <td>NaN</td>\n",
       "      <td>NaN</td>\n",
       "      <td>NaN</td>\n",
       "      <td>NaT</td>\n",
       "      <td>NaT</td>\n",
       "      <td>27.3455</td>\n",
       "      <td>31.3756</td>\n",
       "      <td>0</td>\n",
       "      <td>7</td>\n",
       "      <td>18</td>\n",
       "      <td>37</td>\n",
       "      <td>278</td>\n",
       "    </tr>\n",
       "    <tr>\n",
       "      <th>awards</th>\n",
       "      <td>686</td>\n",
       "      <td>2</td>\n",
       "      <td>N</td>\n",
       "      <td>626</td>\n",
       "      <td>NaT</td>\n",
       "      <td>NaT</td>\n",
       "      <td>NaN</td>\n",
       "      <td>NaN</td>\n",
       "      <td>NaN</td>\n",
       "      <td>NaN</td>\n",
       "      <td>NaN</td>\n",
       "      <td>NaN</td>\n",
       "      <td>NaN</td>\n",
       "    </tr>\n",
       "    <tr>\n",
       "      <th>signon</th>\n",
       "      <td>686</td>\n",
       "      <td>2</td>\n",
       "      <td>N</td>\n",
       "      <td>675</td>\n",
       "      <td>NaT</td>\n",
       "      <td>NaT</td>\n",
       "      <td>NaN</td>\n",
       "      <td>NaN</td>\n",
       "      <td>NaN</td>\n",
       "      <td>NaN</td>\n",
       "      <td>NaN</td>\n",
       "      <td>NaN</td>\n",
       "      <td>NaN</td>\n",
       "    </tr>\n",
       "    <tr>\n",
       "      <th>manager_sat</th>\n",
       "      <td>686</td>\n",
       "      <td>NaN</td>\n",
       "      <td>NaN</td>\n",
       "      <td>NaN</td>\n",
       "      <td>NaT</td>\n",
       "      <td>NaT</td>\n",
       "      <td>82.1778</td>\n",
       "      <td>4.83876</td>\n",
       "      <td>76</td>\n",
       "      <td>79</td>\n",
       "      <td>79</td>\n",
       "      <td>85</td>\n",
       "      <td>100</td>\n",
       "    </tr>\n",
       "    <tr>\n",
       "      <th>employee_sat</th>\n",
       "      <td>686</td>\n",
       "      <td>NaN</td>\n",
       "      <td>NaN</td>\n",
       "      <td>NaN</td>\n",
       "      <td>NaT</td>\n",
       "      <td>NaT</td>\n",
       "      <td>81.2143</td>\n",
       "      <td>5.00591</td>\n",
       "      <td>70</td>\n",
       "      <td>80</td>\n",
       "      <td>80</td>\n",
       "      <td>80</td>\n",
       "      <td>100</td>\n",
       "    </tr>\n",
       "    <tr>\n",
       "      <th>salary_2017</th>\n",
       "      <td>686</td>\n",
       "      <td>NaN</td>\n",
       "      <td>NaN</td>\n",
       "      <td>NaN</td>\n",
       "      <td>NaT</td>\n",
       "      <td>NaT</td>\n",
       "      <td>114289</td>\n",
       "      <td>60820.9</td>\n",
       "      <td>39600</td>\n",
       "      <td>77033.8</td>\n",
       "      <td>98000</td>\n",
       "      <td>125706</td>\n",
       "      <td>511500</td>\n",
       "    </tr>\n",
       "    <tr>\n",
       "      <th>salary_2018</th>\n",
       "      <td>686</td>\n",
       "      <td>NaN</td>\n",
       "      <td>NaN</td>\n",
       "      <td>NaN</td>\n",
       "      <td>NaT</td>\n",
       "      <td>NaT</td>\n",
       "      <td>119135</td>\n",
       "      <td>60925.7</td>\n",
       "      <td>43903</td>\n",
       "      <td>81840</td>\n",
       "      <td>102716</td>\n",
       "      <td>132000</td>\n",
       "      <td>511500</td>\n",
       "    </tr>\n",
       "  </tbody>\n",
       "</table>\n",
       "</div>"
      ],
      "text/plain": [
       "                        count unique                  top freq      first  \\\n",
       "e_code                    686    NaN                  NaN  NaN        NaT   \n",
       "status                    686      2                    0  516        NaT   \n",
       "hire_date                 686    570  2018-01-22 00:00:00    6 1978-10-02   \n",
       "service_agreement         686      2                    N  576        NaT   \n",
       "job_level                 686      5                    1  353        NaT   \n",
       "performance_rating_2018   686    NaN                  NaN  NaN        NaT   \n",
       "performance_rating_2017   686    NaN                  NaN  NaN        NaT   \n",
       "year_of_birth             686    NaN                  NaN  NaN        NaT   \n",
       "gender                    686      2                    M  507        NaT   \n",
       "distance_from_home        686    NaN                  NaN  NaN        NaT   \n",
       "manager_changes           686    NaN                  NaN  NaN        NaT   \n",
       "no_of_promotions          686      9                    0  473        NaT   \n",
       "risk_of_attrition         686      4                    2  301        NaT   \n",
       "potential_rating          686      5                    3  225        NaT   \n",
       "bonus                     686    NaN                  NaN  NaN        NaT   \n",
       "no_courses_taken          686    NaN                  NaN  NaN        NaT   \n",
       "time_in_position          686    NaN                  NaN  NaN        NaT   \n",
       "awards                    686      2                    N  626        NaT   \n",
       "signon                    686      2                    N  675        NaT   \n",
       "manager_sat               686    NaN                  NaN  NaN        NaT   \n",
       "employee_sat              686    NaN                  NaN  NaN        NaT   \n",
       "salary_2017               686    NaN                  NaN  NaN        NaT   \n",
       "salary_2018               686    NaN                  NaN  NaN        NaT   \n",
       "\n",
       "                              last     mean       std    min      25%  \\\n",
       "e_code                         NaT  46015.2   214.879  45631  45833.2   \n",
       "status                         NaT      NaN       NaN    NaN      NaN   \n",
       "hire_date               2018-03-26      NaN       NaN    NaN      NaN   \n",
       "service_agreement              NaT      NaN       NaN    NaN      NaN   \n",
       "job_level                      NaT      NaN       NaN    NaN      NaN   \n",
       "performance_rating_2018        NaT  2.89504   1.12467      1        2   \n",
       "performance_rating_2017        NaT  2.96793  0.674125      1        3   \n",
       "year_of_birth                  NaT  1972.53   7.73435   1959     1966   \n",
       "gender                         NaT      NaN       NaN    NaN      NaN   \n",
       "distance_from_home             NaT  3.20453   8.44165      0   0.2425   \n",
       "manager_changes                NaT  2.33236   2.43161      0        0   \n",
       "no_of_promotions               NaT      NaN       NaN    NaN      NaN   \n",
       "risk_of_attrition              NaT      NaN       NaN    NaN      NaN   \n",
       "potential_rating               NaT      NaN       NaN    NaN      NaN   \n",
       "bonus                          NaT  1097.54    2128.1      0        0   \n",
       "no_courses_taken               NaT  3.24781   3.06329      0        1   \n",
       "time_in_position               NaT  27.3455   31.3756      0        7   \n",
       "awards                         NaT      NaN       NaN    NaN      NaN   \n",
       "signon                         NaT      NaN       NaN    NaN      NaN   \n",
       "manager_sat                    NaT  82.1778   4.83876     76       79   \n",
       "employee_sat                   NaT  81.2143   5.00591     70       80   \n",
       "salary_2017                    NaT   114289   60820.9  39600  77033.8   \n",
       "salary_2018                    NaT   119135   60925.7  43903    81840   \n",
       "\n",
       "                             50%      75%     max  \n",
       "e_code                   46017.5  46199.8   46387  \n",
       "status                       NaN      NaN     NaN  \n",
       "hire_date                    NaN      NaN     NaN  \n",
       "service_agreement            NaN      NaN     NaN  \n",
       "job_level                    NaN      NaN     NaN  \n",
       "performance_rating_2018        3        4       5  \n",
       "performance_rating_2017        3        3       4  \n",
       "year_of_birth               1973     1979    1990  \n",
       "gender                       NaN      NaN     NaN  \n",
       "distance_from_home          0.45     0.98      50  \n",
       "manager_changes                2        4      15  \n",
       "no_of_promotions             NaN      NaN     NaN  \n",
       "risk_of_attrition            NaN      NaN     NaN  \n",
       "potential_rating             NaN      NaN     NaN  \n",
       "bonus                          0     2051   19853  \n",
       "no_courses_taken               2        4      20  \n",
       "time_in_position              18       37     278  \n",
       "awards                       NaN      NaN     NaN  \n",
       "signon                       NaN      NaN     NaN  \n",
       "manager_sat                   79       85     100  \n",
       "employee_sat                  80       80     100  \n",
       "salary_2017                98000   125706  511500  \n",
       "salary_2018               102716   132000  511500  "
      ]
     },
     "execution_count": 13,
     "metadata": {},
     "output_type": "execute_result"
    }
   ],
   "source": [
    "df.describe(include='all').T"
   ]
  },
  {
   "cell_type": "markdown",
   "metadata": {},
   "source": [
    "___"
   ]
  },
  {
   "cell_type": "markdown",
   "metadata": {
    "heading_collapsed": true
   },
   "source": [
    "## Summary Statistics Alternative"
   ]
  },
  {
   "cell_type": "markdown",
   "metadata": {
    "hidden": true
   },
   "source": [
    "Summary equivalent from R in Python:\n",
    "https://stackoverflow.com/questions/33889310/r-summary-equivalent-in-numpy/33917585"
   ]
  },
  {
   "cell_type": "code",
   "execution_count": null,
   "metadata": {
    "hidden": true
   },
   "outputs": [],
   "source": [
    "summary = df.describe()"
   ]
  },
  {
   "cell_type": "code",
   "execution_count": null,
   "metadata": {
    "hidden": true
   },
   "outputs": [],
   "source": [
    "summary = summary.T"
   ]
  },
  {
   "cell_type": "code",
   "execution_count": null,
   "metadata": {
    "hidden": true
   },
   "outputs": [],
   "source": [
    "summary"
   ]
  },
  {
   "cell_type": "code",
   "execution_count": null,
   "metadata": {
    "hidden": true
   },
   "outputs": [],
   "source": [
    "# includes all the columns \n",
    "new = df.describe(include='all')"
   ]
  },
  {
   "cell_type": "code",
   "execution_count": null,
   "metadata": {
    "hidden": true
   },
   "outputs": [],
   "source": [
    "new = new.T"
   ]
  },
  {
   "cell_type": "code",
   "execution_count": null,
   "metadata": {
    "hidden": true
   },
   "outputs": [],
   "source": [
    "new"
   ]
  },
  {
   "cell_type": "markdown",
   "metadata": {
    "hidden": true
   },
   "source": [
    "___"
   ]
  },
  {
   "cell_type": "markdown",
   "metadata": {
    "heading_collapsed": true
   },
   "source": [
    "## Checking value counts of category types"
   ]
  },
  {
   "cell_type": "code",
   "execution_count": null,
   "metadata": {
    "hidden": true
   },
   "outputs": [],
   "source": [
    "# To see the counts of all the category types \n",
    "# Not as pretty.. but a possibility \n",
    "cat = []\n",
    "for col in ['status', 'job_level', 'no_of_promotions', 'risk_of_attrition', 'potential_rating']:\n",
    "    cat.append(df[col].value_counts())"
   ]
  },
  {
   "cell_type": "code",
   "execution_count": null,
   "metadata": {
    "hidden": true
   },
   "outputs": [],
   "source": [
    "cat_df = pd.DataFrame(cat) "
   ]
  },
  {
   "cell_type": "code",
   "execution_count": null,
   "metadata": {
    "hidden": true
   },
   "outputs": [],
   "source": [
    "cat_df.T"
   ]
  },
  {
   "cell_type": "code",
   "execution_count": null,
   "metadata": {
    "hidden": true
   },
   "outputs": [],
   "source": [
    "for col in ['status', 'job_level', 'no_of_promotions', 'risk_of_attrition', 'potential_rating']:\n",
    "    print(df[col].value_counts())"
   ]
  },
  {
   "cell_type": "code",
   "execution_count": null,
   "metadata": {
    "hidden": true
   },
   "outputs": [],
   "source": [
    "# and then see the other ones\n",
    "df.describe().T"
   ]
  },
  {
   "cell_type": "markdown",
   "metadata": {
    "hidden": true
   },
   "source": [
    "We're still missing the object information for this data.  Try to take out the values.  No variable conversion, get the descriptive statistical of the object variables.\n",
    "IN R, it is summary tools."
   ]
  },
  {
   "cell_type": "markdown",
   "metadata": {
    "hidden": true
   },
   "source": [
    "**____**"
   ]
  },
  {
   "cell_type": "markdown",
   "metadata": {
    "heading_collapsed": true
   },
   "source": [
    "## Trying out ProfileReport"
   ]
  },
  {
   "cell_type": "code",
   "execution_count": null,
   "metadata": {
    "hidden": true
   },
   "outputs": [],
   "source": [
    "from pandas_profiling import ProfileReport\n",
    "# https://pandas-profiling.github.io/pandas-profiling/docs/master/rtd/pages/getting_started.html"
   ]
  },
  {
   "cell_type": "code",
   "execution_count": null,
   "metadata": {
    "hidden": true
   },
   "outputs": [],
   "source": [
    "profile = ProfileReport(df, title='Pandas Profiling Report')"
   ]
  },
  {
   "cell_type": "code",
   "execution_count": null,
   "metadata": {
    "hidden": true,
    "scrolled": true
   },
   "outputs": [],
   "source": [
    "profile.to_notebook_iframe()"
   ]
  },
  {
   "cell_type": "markdown",
   "metadata": {
    "hidden": true
   },
   "source": [
    "**____**"
   ]
  },
  {
   "cell_type": "markdown",
   "metadata": {},
   "source": [
    "## Object types Statistics - `df.describe(include=['object']`"
   ]
  },
  {
   "cell_type": "code",
   "execution_count": 14,
   "metadata": {},
   "outputs": [
    {
     "name": "stdout",
     "output_type": "stream",
     "text": [
      "       service_agreement gender awards signon\n",
      "count                686    686    686    686\n",
      "unique                 2      2      2      2\n",
      "top                    N      M      N      N\n",
      "freq                 576    507    626    675\n"
     ]
    }
   ],
   "source": [
    "# http://www.datasciencemadesimple.com/descriptive-summary-statistics-python-pandas/\n",
    "# just the object columns\n",
    "print(df.describe(include=['object']))"
   ]
  },
  {
   "cell_type": "markdown",
   "metadata": {},
   "source": [
    "What exactly do you want to do with this analytics?  Creating new variables with the 'numeric' datatypes (int)"
   ]
  },
  {
   "cell_type": "markdown",
   "metadata": {},
   "source": [
    "## Checking Missing Values"
   ]
  },
  {
   "cell_type": "code",
   "execution_count": 15,
   "metadata": {},
   "outputs": [
    {
     "data": {
      "text/plain": [
       "e_code                     0\n",
       "status                     0\n",
       "hire_date                  0\n",
       "service_agreement          0\n",
       "job_level                  0\n",
       "performance_rating_2018    0\n",
       "performance_rating_2017    0\n",
       "year_of_birth              0\n",
       "gender                     0\n",
       "distance_from_home         0\n",
       "manager_changes            0\n",
       "no_of_promotions           0\n",
       "risk_of_attrition          0\n",
       "potential_rating           0\n",
       "bonus                      0\n",
       "no_courses_taken           0\n",
       "time_in_position           0\n",
       "awards                     0\n",
       "signon                     0\n",
       "manager_sat                0\n",
       "employee_sat               0\n",
       "salary_2017                0\n",
       "salary_2018                0\n",
       "dtype: int64"
      ]
     },
     "execution_count": 15,
     "metadata": {},
     "output_type": "execute_result"
    }
   ],
   "source": [
    "# find missing values\n",
    "df.isnull().sum()"
   ]
  },
  {
   "cell_type": "markdown",
   "metadata": {},
   "source": [
    "## Ways of getting descriptive statistics:\n",
    "- From beginning to end (all stats)"
   ]
  },
  {
   "cell_type": "code",
   "execution_count": 16,
   "metadata": {},
   "outputs": [
    {
     "data": {
      "text/html": [
       "<div>\n",
       "<style scoped>\n",
       "    .dataframe tbody tr th:only-of-type {\n",
       "        vertical-align: middle;\n",
       "    }\n",
       "\n",
       "    .dataframe tbody tr th {\n",
       "        vertical-align: top;\n",
       "    }\n",
       "\n",
       "    .dataframe thead th {\n",
       "        text-align: right;\n",
       "    }\n",
       "</style>\n",
       "<table border=\"1\" class=\"dataframe\">\n",
       "  <thead>\n",
       "    <tr style=\"text-align: right;\">\n",
       "      <th></th>\n",
       "      <th>count</th>\n",
       "      <th>mean</th>\n",
       "      <th>std</th>\n",
       "      <th>min</th>\n",
       "      <th>25%</th>\n",
       "      <th>50%</th>\n",
       "      <th>75%</th>\n",
       "      <th>max</th>\n",
       "    </tr>\n",
       "  </thead>\n",
       "  <tbody>\n",
       "    <tr>\n",
       "      <th>e_code</th>\n",
       "      <td>686.0</td>\n",
       "      <td>46015.237609</td>\n",
       "      <td>214.878836</td>\n",
       "      <td>45631.0</td>\n",
       "      <td>45833.2500</td>\n",
       "      <td>46017.50</td>\n",
       "      <td>46199.75</td>\n",
       "      <td>46387.0</td>\n",
       "    </tr>\n",
       "    <tr>\n",
       "      <th>performance_rating_2018</th>\n",
       "      <td>686.0</td>\n",
       "      <td>2.895044</td>\n",
       "      <td>1.124669</td>\n",
       "      <td>1.0</td>\n",
       "      <td>2.0000</td>\n",
       "      <td>3.00</td>\n",
       "      <td>4.00</td>\n",
       "      <td>5.0</td>\n",
       "    </tr>\n",
       "    <tr>\n",
       "      <th>performance_rating_2017</th>\n",
       "      <td>686.0</td>\n",
       "      <td>2.967930</td>\n",
       "      <td>0.674125</td>\n",
       "      <td>1.0</td>\n",
       "      <td>3.0000</td>\n",
       "      <td>3.00</td>\n",
       "      <td>3.00</td>\n",
       "      <td>4.0</td>\n",
       "    </tr>\n",
       "    <tr>\n",
       "      <th>year_of_birth</th>\n",
       "      <td>686.0</td>\n",
       "      <td>1972.532070</td>\n",
       "      <td>7.734348</td>\n",
       "      <td>1959.0</td>\n",
       "      <td>1966.0000</td>\n",
       "      <td>1973.00</td>\n",
       "      <td>1979.00</td>\n",
       "      <td>1990.0</td>\n",
       "    </tr>\n",
       "    <tr>\n",
       "      <th>distance_from_home</th>\n",
       "      <td>686.0</td>\n",
       "      <td>3.204534</td>\n",
       "      <td>8.441646</td>\n",
       "      <td>0.0</td>\n",
       "      <td>0.2425</td>\n",
       "      <td>0.45</td>\n",
       "      <td>0.98</td>\n",
       "      <td>50.0</td>\n",
       "    </tr>\n",
       "    <tr>\n",
       "      <th>manager_changes</th>\n",
       "      <td>686.0</td>\n",
       "      <td>2.332362</td>\n",
       "      <td>2.431611</td>\n",
       "      <td>0.0</td>\n",
       "      <td>0.0000</td>\n",
       "      <td>2.00</td>\n",
       "      <td>4.00</td>\n",
       "      <td>15.0</td>\n",
       "    </tr>\n",
       "    <tr>\n",
       "      <th>bonus</th>\n",
       "      <td>686.0</td>\n",
       "      <td>1097.536443</td>\n",
       "      <td>2128.097198</td>\n",
       "      <td>0.0</td>\n",
       "      <td>0.0000</td>\n",
       "      <td>0.00</td>\n",
       "      <td>2051.00</td>\n",
       "      <td>19853.0</td>\n",
       "    </tr>\n",
       "    <tr>\n",
       "      <th>no_courses_taken</th>\n",
       "      <td>686.0</td>\n",
       "      <td>3.247813</td>\n",
       "      <td>3.063291</td>\n",
       "      <td>0.0</td>\n",
       "      <td>1.0000</td>\n",
       "      <td>2.00</td>\n",
       "      <td>4.00</td>\n",
       "      <td>20.0</td>\n",
       "    </tr>\n",
       "    <tr>\n",
       "      <th>time_in_position</th>\n",
       "      <td>686.0</td>\n",
       "      <td>27.345481</td>\n",
       "      <td>31.375641</td>\n",
       "      <td>0.0</td>\n",
       "      <td>7.0000</td>\n",
       "      <td>18.00</td>\n",
       "      <td>37.00</td>\n",
       "      <td>278.0</td>\n",
       "    </tr>\n",
       "    <tr>\n",
       "      <th>manager_sat</th>\n",
       "      <td>686.0</td>\n",
       "      <td>82.177843</td>\n",
       "      <td>4.838758</td>\n",
       "      <td>76.0</td>\n",
       "      <td>79.0000</td>\n",
       "      <td>79.00</td>\n",
       "      <td>85.00</td>\n",
       "      <td>100.0</td>\n",
       "    </tr>\n",
       "    <tr>\n",
       "      <th>employee_sat</th>\n",
       "      <td>686.0</td>\n",
       "      <td>81.214286</td>\n",
       "      <td>5.005909</td>\n",
       "      <td>70.0</td>\n",
       "      <td>80.0000</td>\n",
       "      <td>80.00</td>\n",
       "      <td>80.00</td>\n",
       "      <td>100.0</td>\n",
       "    </tr>\n",
       "    <tr>\n",
       "      <th>salary_2017</th>\n",
       "      <td>686.0</td>\n",
       "      <td>114289.116618</td>\n",
       "      <td>60820.924620</td>\n",
       "      <td>39600.0</td>\n",
       "      <td>77033.7500</td>\n",
       "      <td>98000.00</td>\n",
       "      <td>125705.50</td>\n",
       "      <td>511500.0</td>\n",
       "    </tr>\n",
       "    <tr>\n",
       "      <th>salary_2018</th>\n",
       "      <td>686.0</td>\n",
       "      <td>119135.456268</td>\n",
       "      <td>60925.702367</td>\n",
       "      <td>43903.0</td>\n",
       "      <td>81840.0000</td>\n",
       "      <td>102716.00</td>\n",
       "      <td>132000.00</td>\n",
       "      <td>511500.0</td>\n",
       "    </tr>\n",
       "  </tbody>\n",
       "</table>\n",
       "</div>"
      ],
      "text/plain": [
       "                         count           mean           std      min  \\\n",
       "e_code                   686.0   46015.237609    214.878836  45631.0   \n",
       "performance_rating_2018  686.0       2.895044      1.124669      1.0   \n",
       "performance_rating_2017  686.0       2.967930      0.674125      1.0   \n",
       "year_of_birth            686.0    1972.532070      7.734348   1959.0   \n",
       "distance_from_home       686.0       3.204534      8.441646      0.0   \n",
       "manager_changes          686.0       2.332362      2.431611      0.0   \n",
       "bonus                    686.0    1097.536443   2128.097198      0.0   \n",
       "no_courses_taken         686.0       3.247813      3.063291      0.0   \n",
       "time_in_position         686.0      27.345481     31.375641      0.0   \n",
       "manager_sat              686.0      82.177843      4.838758     76.0   \n",
       "employee_sat             686.0      81.214286      5.005909     70.0   \n",
       "salary_2017              686.0  114289.116618  60820.924620  39600.0   \n",
       "salary_2018              686.0  119135.456268  60925.702367  43903.0   \n",
       "\n",
       "                                25%        50%        75%       max  \n",
       "e_code                   45833.2500   46017.50   46199.75   46387.0  \n",
       "performance_rating_2018      2.0000       3.00       4.00       5.0  \n",
       "performance_rating_2017      3.0000       3.00       3.00       4.0  \n",
       "year_of_birth             1966.0000    1973.00    1979.00    1990.0  \n",
       "distance_from_home           0.2425       0.45       0.98      50.0  \n",
       "manager_changes              0.0000       2.00       4.00      15.0  \n",
       "bonus                        0.0000       0.00    2051.00   19853.0  \n",
       "no_courses_taken             1.0000       2.00       4.00      20.0  \n",
       "time_in_position             7.0000      18.00      37.00     278.0  \n",
       "manager_sat                 79.0000      79.00      85.00     100.0  \n",
       "employee_sat                80.0000      80.00      80.00     100.0  \n",
       "salary_2017              77033.7500   98000.00  125705.50  511500.0  \n",
       "salary_2018              81840.0000  102716.00  132000.00  511500.0  "
      ]
     },
     "execution_count": 16,
     "metadata": {},
     "output_type": "execute_result"
    }
   ],
   "source": [
    "# int\n",
    "df.describe().T "
   ]
  },
  {
   "cell_type": "code",
   "execution_count": 17,
   "metadata": {},
   "outputs": [
    {
     "name": "stdout",
     "output_type": "stream",
     "text": [
      "0    516\n",
      "1    170\n",
      "Name: status, dtype: int64\n",
      "1    353\n",
      "2    204\n",
      "3     85\n",
      "4     33\n",
      "5     11\n",
      "Name: job_level, dtype: int64\n",
      "0     473\n",
      "1     104\n",
      "2      59\n",
      "3      22\n",
      "4      17\n",
      "5       6\n",
      "7       2\n",
      "6       2\n",
      "10      1\n",
      "Name: no_of_promotions, dtype: int64\n",
      "2    301\n",
      "3    285\n",
      "4     66\n",
      "1     34\n",
      "Name: risk_of_attrition, dtype: int64\n",
      "3    225\n",
      "4    196\n",
      "5    193\n",
      "2     38\n",
      "1     34\n",
      "Name: potential_rating, dtype: int64\n"
     ]
    }
   ],
   "source": [
    "cat_col = ['status', 'job_level', 'no_of_promotions', 'risk_of_attrition', 'potential_rating']\n",
    "for i in cat_col:\n",
    "    print(df[i].value_counts())"
   ]
  },
  {
   "cell_type": "code",
   "execution_count": 18,
   "metadata": {},
   "outputs": [
    {
     "data": {
      "text/html": [
       "<div>\n",
       "<style scoped>\n",
       "    .dataframe tbody tr th:only-of-type {\n",
       "        vertical-align: middle;\n",
       "    }\n",
       "\n",
       "    .dataframe tbody tr th {\n",
       "        vertical-align: top;\n",
       "    }\n",
       "\n",
       "    .dataframe thead th {\n",
       "        text-align: right;\n",
       "    }\n",
       "</style>\n",
       "<table border=\"1\" class=\"dataframe\">\n",
       "  <thead>\n",
       "    <tr style=\"text-align: right;\">\n",
       "      <th></th>\n",
       "      <th>count</th>\n",
       "      <th>unique</th>\n",
       "      <th>top</th>\n",
       "      <th>freq</th>\n",
       "      <th>first</th>\n",
       "      <th>last</th>\n",
       "      <th>mean</th>\n",
       "      <th>std</th>\n",
       "      <th>min</th>\n",
       "      <th>25%</th>\n",
       "      <th>50%</th>\n",
       "      <th>75%</th>\n",
       "      <th>max</th>\n",
       "    </tr>\n",
       "  </thead>\n",
       "  <tbody>\n",
       "    <tr>\n",
       "      <th>e_code</th>\n",
       "      <td>686</td>\n",
       "      <td>NaN</td>\n",
       "      <td>NaN</td>\n",
       "      <td>NaN</td>\n",
       "      <td>NaT</td>\n",
       "      <td>NaT</td>\n",
       "      <td>46015.2</td>\n",
       "      <td>214.879</td>\n",
       "      <td>45631</td>\n",
       "      <td>45833.2</td>\n",
       "      <td>46017.5</td>\n",
       "      <td>46199.8</td>\n",
       "      <td>46387</td>\n",
       "    </tr>\n",
       "    <tr>\n",
       "      <th>status</th>\n",
       "      <td>686</td>\n",
       "      <td>2</td>\n",
       "      <td>0</td>\n",
       "      <td>516</td>\n",
       "      <td>NaT</td>\n",
       "      <td>NaT</td>\n",
       "      <td>NaN</td>\n",
       "      <td>NaN</td>\n",
       "      <td>NaN</td>\n",
       "      <td>NaN</td>\n",
       "      <td>NaN</td>\n",
       "      <td>NaN</td>\n",
       "      <td>NaN</td>\n",
       "    </tr>\n",
       "    <tr>\n",
       "      <th>hire_date</th>\n",
       "      <td>686</td>\n",
       "      <td>570</td>\n",
       "      <td>2018-01-22 00:00:00</td>\n",
       "      <td>6</td>\n",
       "      <td>1978-10-02</td>\n",
       "      <td>2018-03-26</td>\n",
       "      <td>NaN</td>\n",
       "      <td>NaN</td>\n",
       "      <td>NaN</td>\n",
       "      <td>NaN</td>\n",
       "      <td>NaN</td>\n",
       "      <td>NaN</td>\n",
       "      <td>NaN</td>\n",
       "    </tr>\n",
       "    <tr>\n",
       "      <th>service_agreement</th>\n",
       "      <td>686</td>\n",
       "      <td>2</td>\n",
       "      <td>N</td>\n",
       "      <td>576</td>\n",
       "      <td>NaT</td>\n",
       "      <td>NaT</td>\n",
       "      <td>NaN</td>\n",
       "      <td>NaN</td>\n",
       "      <td>NaN</td>\n",
       "      <td>NaN</td>\n",
       "      <td>NaN</td>\n",
       "      <td>NaN</td>\n",
       "      <td>NaN</td>\n",
       "    </tr>\n",
       "    <tr>\n",
       "      <th>job_level</th>\n",
       "      <td>686</td>\n",
       "      <td>5</td>\n",
       "      <td>1</td>\n",
       "      <td>353</td>\n",
       "      <td>NaT</td>\n",
       "      <td>NaT</td>\n",
       "      <td>NaN</td>\n",
       "      <td>NaN</td>\n",
       "      <td>NaN</td>\n",
       "      <td>NaN</td>\n",
       "      <td>NaN</td>\n",
       "      <td>NaN</td>\n",
       "      <td>NaN</td>\n",
       "    </tr>\n",
       "    <tr>\n",
       "      <th>performance_rating_2018</th>\n",
       "      <td>686</td>\n",
       "      <td>NaN</td>\n",
       "      <td>NaN</td>\n",
       "      <td>NaN</td>\n",
       "      <td>NaT</td>\n",
       "      <td>NaT</td>\n",
       "      <td>2.89504</td>\n",
       "      <td>1.12467</td>\n",
       "      <td>1</td>\n",
       "      <td>2</td>\n",
       "      <td>3</td>\n",
       "      <td>4</td>\n",
       "      <td>5</td>\n",
       "    </tr>\n",
       "    <tr>\n",
       "      <th>performance_rating_2017</th>\n",
       "      <td>686</td>\n",
       "      <td>NaN</td>\n",
       "      <td>NaN</td>\n",
       "      <td>NaN</td>\n",
       "      <td>NaT</td>\n",
       "      <td>NaT</td>\n",
       "      <td>2.96793</td>\n",
       "      <td>0.674125</td>\n",
       "      <td>1</td>\n",
       "      <td>3</td>\n",
       "      <td>3</td>\n",
       "      <td>3</td>\n",
       "      <td>4</td>\n",
       "    </tr>\n",
       "    <tr>\n",
       "      <th>year_of_birth</th>\n",
       "      <td>686</td>\n",
       "      <td>NaN</td>\n",
       "      <td>NaN</td>\n",
       "      <td>NaN</td>\n",
       "      <td>NaT</td>\n",
       "      <td>NaT</td>\n",
       "      <td>1972.53</td>\n",
       "      <td>7.73435</td>\n",
       "      <td>1959</td>\n",
       "      <td>1966</td>\n",
       "      <td>1973</td>\n",
       "      <td>1979</td>\n",
       "      <td>1990</td>\n",
       "    </tr>\n",
       "    <tr>\n",
       "      <th>gender</th>\n",
       "      <td>686</td>\n",
       "      <td>2</td>\n",
       "      <td>M</td>\n",
       "      <td>507</td>\n",
       "      <td>NaT</td>\n",
       "      <td>NaT</td>\n",
       "      <td>NaN</td>\n",
       "      <td>NaN</td>\n",
       "      <td>NaN</td>\n",
       "      <td>NaN</td>\n",
       "      <td>NaN</td>\n",
       "      <td>NaN</td>\n",
       "      <td>NaN</td>\n",
       "    </tr>\n",
       "    <tr>\n",
       "      <th>distance_from_home</th>\n",
       "      <td>686</td>\n",
       "      <td>NaN</td>\n",
       "      <td>NaN</td>\n",
       "      <td>NaN</td>\n",
       "      <td>NaT</td>\n",
       "      <td>NaT</td>\n",
       "      <td>3.20453</td>\n",
       "      <td>8.44165</td>\n",
       "      <td>0</td>\n",
       "      <td>0.2425</td>\n",
       "      <td>0.45</td>\n",
       "      <td>0.98</td>\n",
       "      <td>50</td>\n",
       "    </tr>\n",
       "    <tr>\n",
       "      <th>manager_changes</th>\n",
       "      <td>686</td>\n",
       "      <td>NaN</td>\n",
       "      <td>NaN</td>\n",
       "      <td>NaN</td>\n",
       "      <td>NaT</td>\n",
       "      <td>NaT</td>\n",
       "      <td>2.33236</td>\n",
       "      <td>2.43161</td>\n",
       "      <td>0</td>\n",
       "      <td>0</td>\n",
       "      <td>2</td>\n",
       "      <td>4</td>\n",
       "      <td>15</td>\n",
       "    </tr>\n",
       "    <tr>\n",
       "      <th>no_of_promotions</th>\n",
       "      <td>686</td>\n",
       "      <td>9</td>\n",
       "      <td>0</td>\n",
       "      <td>473</td>\n",
       "      <td>NaT</td>\n",
       "      <td>NaT</td>\n",
       "      <td>NaN</td>\n",
       "      <td>NaN</td>\n",
       "      <td>NaN</td>\n",
       "      <td>NaN</td>\n",
       "      <td>NaN</td>\n",
       "      <td>NaN</td>\n",
       "      <td>NaN</td>\n",
       "    </tr>\n",
       "    <tr>\n",
       "      <th>risk_of_attrition</th>\n",
       "      <td>686</td>\n",
       "      <td>4</td>\n",
       "      <td>2</td>\n",
       "      <td>301</td>\n",
       "      <td>NaT</td>\n",
       "      <td>NaT</td>\n",
       "      <td>NaN</td>\n",
       "      <td>NaN</td>\n",
       "      <td>NaN</td>\n",
       "      <td>NaN</td>\n",
       "      <td>NaN</td>\n",
       "      <td>NaN</td>\n",
       "      <td>NaN</td>\n",
       "    </tr>\n",
       "    <tr>\n",
       "      <th>potential_rating</th>\n",
       "      <td>686</td>\n",
       "      <td>5</td>\n",
       "      <td>3</td>\n",
       "      <td>225</td>\n",
       "      <td>NaT</td>\n",
       "      <td>NaT</td>\n",
       "      <td>NaN</td>\n",
       "      <td>NaN</td>\n",
       "      <td>NaN</td>\n",
       "      <td>NaN</td>\n",
       "      <td>NaN</td>\n",
       "      <td>NaN</td>\n",
       "      <td>NaN</td>\n",
       "    </tr>\n",
       "    <tr>\n",
       "      <th>bonus</th>\n",
       "      <td>686</td>\n",
       "      <td>NaN</td>\n",
       "      <td>NaN</td>\n",
       "      <td>NaN</td>\n",
       "      <td>NaT</td>\n",
       "      <td>NaT</td>\n",
       "      <td>1097.54</td>\n",
       "      <td>2128.1</td>\n",
       "      <td>0</td>\n",
       "      <td>0</td>\n",
       "      <td>0</td>\n",
       "      <td>2051</td>\n",
       "      <td>19853</td>\n",
       "    </tr>\n",
       "    <tr>\n",
       "      <th>no_courses_taken</th>\n",
       "      <td>686</td>\n",
       "      <td>NaN</td>\n",
       "      <td>NaN</td>\n",
       "      <td>NaN</td>\n",
       "      <td>NaT</td>\n",
       "      <td>NaT</td>\n",
       "      <td>3.24781</td>\n",
       "      <td>3.06329</td>\n",
       "      <td>0</td>\n",
       "      <td>1</td>\n",
       "      <td>2</td>\n",
       "      <td>4</td>\n",
       "      <td>20</td>\n",
       "    </tr>\n",
       "    <tr>\n",
       "      <th>time_in_position</th>\n",
       "      <td>686</td>\n",
       "      <td>NaN</td>\n",
       "      <td>NaN</td>\n",
       "      <td>NaN</td>\n",
       "      <td>NaT</td>\n",
       "      <td>NaT</td>\n",
       "      <td>27.3455</td>\n",
       "      <td>31.3756</td>\n",
       "      <td>0</td>\n",
       "      <td>7</td>\n",
       "      <td>18</td>\n",
       "      <td>37</td>\n",
       "      <td>278</td>\n",
       "    </tr>\n",
       "    <tr>\n",
       "      <th>awards</th>\n",
       "      <td>686</td>\n",
       "      <td>2</td>\n",
       "      <td>N</td>\n",
       "      <td>626</td>\n",
       "      <td>NaT</td>\n",
       "      <td>NaT</td>\n",
       "      <td>NaN</td>\n",
       "      <td>NaN</td>\n",
       "      <td>NaN</td>\n",
       "      <td>NaN</td>\n",
       "      <td>NaN</td>\n",
       "      <td>NaN</td>\n",
       "      <td>NaN</td>\n",
       "    </tr>\n",
       "    <tr>\n",
       "      <th>signon</th>\n",
       "      <td>686</td>\n",
       "      <td>2</td>\n",
       "      <td>N</td>\n",
       "      <td>675</td>\n",
       "      <td>NaT</td>\n",
       "      <td>NaT</td>\n",
       "      <td>NaN</td>\n",
       "      <td>NaN</td>\n",
       "      <td>NaN</td>\n",
       "      <td>NaN</td>\n",
       "      <td>NaN</td>\n",
       "      <td>NaN</td>\n",
       "      <td>NaN</td>\n",
       "    </tr>\n",
       "    <tr>\n",
       "      <th>manager_sat</th>\n",
       "      <td>686</td>\n",
       "      <td>NaN</td>\n",
       "      <td>NaN</td>\n",
       "      <td>NaN</td>\n",
       "      <td>NaT</td>\n",
       "      <td>NaT</td>\n",
       "      <td>82.1778</td>\n",
       "      <td>4.83876</td>\n",
       "      <td>76</td>\n",
       "      <td>79</td>\n",
       "      <td>79</td>\n",
       "      <td>85</td>\n",
       "      <td>100</td>\n",
       "    </tr>\n",
       "    <tr>\n",
       "      <th>employee_sat</th>\n",
       "      <td>686</td>\n",
       "      <td>NaN</td>\n",
       "      <td>NaN</td>\n",
       "      <td>NaN</td>\n",
       "      <td>NaT</td>\n",
       "      <td>NaT</td>\n",
       "      <td>81.2143</td>\n",
       "      <td>5.00591</td>\n",
       "      <td>70</td>\n",
       "      <td>80</td>\n",
       "      <td>80</td>\n",
       "      <td>80</td>\n",
       "      <td>100</td>\n",
       "    </tr>\n",
       "    <tr>\n",
       "      <th>salary_2017</th>\n",
       "      <td>686</td>\n",
       "      <td>NaN</td>\n",
       "      <td>NaN</td>\n",
       "      <td>NaN</td>\n",
       "      <td>NaT</td>\n",
       "      <td>NaT</td>\n",
       "      <td>114289</td>\n",
       "      <td>60820.9</td>\n",
       "      <td>39600</td>\n",
       "      <td>77033.8</td>\n",
       "      <td>98000</td>\n",
       "      <td>125706</td>\n",
       "      <td>511500</td>\n",
       "    </tr>\n",
       "    <tr>\n",
       "      <th>salary_2018</th>\n",
       "      <td>686</td>\n",
       "      <td>NaN</td>\n",
       "      <td>NaN</td>\n",
       "      <td>NaN</td>\n",
       "      <td>NaT</td>\n",
       "      <td>NaT</td>\n",
       "      <td>119135</td>\n",
       "      <td>60925.7</td>\n",
       "      <td>43903</td>\n",
       "      <td>81840</td>\n",
       "      <td>102716</td>\n",
       "      <td>132000</td>\n",
       "      <td>511500</td>\n",
       "    </tr>\n",
       "  </tbody>\n",
       "</table>\n",
       "</div>"
      ],
      "text/plain": [
       "                        count unique                  top freq      first  \\\n",
       "e_code                    686    NaN                  NaN  NaN        NaT   \n",
       "status                    686      2                    0  516        NaT   \n",
       "hire_date                 686    570  2018-01-22 00:00:00    6 1978-10-02   \n",
       "service_agreement         686      2                    N  576        NaT   \n",
       "job_level                 686      5                    1  353        NaT   \n",
       "performance_rating_2018   686    NaN                  NaN  NaN        NaT   \n",
       "performance_rating_2017   686    NaN                  NaN  NaN        NaT   \n",
       "year_of_birth             686    NaN                  NaN  NaN        NaT   \n",
       "gender                    686      2                    M  507        NaT   \n",
       "distance_from_home        686    NaN                  NaN  NaN        NaT   \n",
       "manager_changes           686    NaN                  NaN  NaN        NaT   \n",
       "no_of_promotions          686      9                    0  473        NaT   \n",
       "risk_of_attrition         686      4                    2  301        NaT   \n",
       "potential_rating          686      5                    3  225        NaT   \n",
       "bonus                     686    NaN                  NaN  NaN        NaT   \n",
       "no_courses_taken          686    NaN                  NaN  NaN        NaT   \n",
       "time_in_position          686    NaN                  NaN  NaN        NaT   \n",
       "awards                    686      2                    N  626        NaT   \n",
       "signon                    686      2                    N  675        NaT   \n",
       "manager_sat               686    NaN                  NaN  NaN        NaT   \n",
       "employee_sat              686    NaN                  NaN  NaN        NaT   \n",
       "salary_2017               686    NaN                  NaN  NaN        NaT   \n",
       "salary_2018               686    NaN                  NaN  NaN        NaT   \n",
       "\n",
       "                              last     mean       std    min      25%  \\\n",
       "e_code                         NaT  46015.2   214.879  45631  45833.2   \n",
       "status                         NaT      NaN       NaN    NaN      NaN   \n",
       "hire_date               2018-03-26      NaN       NaN    NaN      NaN   \n",
       "service_agreement              NaT      NaN       NaN    NaN      NaN   \n",
       "job_level                      NaT      NaN       NaN    NaN      NaN   \n",
       "performance_rating_2018        NaT  2.89504   1.12467      1        2   \n",
       "performance_rating_2017        NaT  2.96793  0.674125      1        3   \n",
       "year_of_birth                  NaT  1972.53   7.73435   1959     1966   \n",
       "gender                         NaT      NaN       NaN    NaN      NaN   \n",
       "distance_from_home             NaT  3.20453   8.44165      0   0.2425   \n",
       "manager_changes                NaT  2.33236   2.43161      0        0   \n",
       "no_of_promotions               NaT      NaN       NaN    NaN      NaN   \n",
       "risk_of_attrition              NaT      NaN       NaN    NaN      NaN   \n",
       "potential_rating               NaT      NaN       NaN    NaN      NaN   \n",
       "bonus                          NaT  1097.54    2128.1      0        0   \n",
       "no_courses_taken               NaT  3.24781   3.06329      0        1   \n",
       "time_in_position               NaT  27.3455   31.3756      0        7   \n",
       "awards                         NaT      NaN       NaN    NaN      NaN   \n",
       "signon                         NaT      NaN       NaN    NaN      NaN   \n",
       "manager_sat                    NaT  82.1778   4.83876     76       79   \n",
       "employee_sat                   NaT  81.2143   5.00591     70       80   \n",
       "salary_2017                    NaT   114289   60820.9  39600  77033.8   \n",
       "salary_2018                    NaT   119135   60925.7  43903    81840   \n",
       "\n",
       "                             50%      75%     max  \n",
       "e_code                   46017.5  46199.8   46387  \n",
       "status                       NaN      NaN     NaN  \n",
       "hire_date                    NaN      NaN     NaN  \n",
       "service_agreement            NaN      NaN     NaN  \n",
       "job_level                    NaN      NaN     NaN  \n",
       "performance_rating_2018        3        4       5  \n",
       "performance_rating_2017        3        3       4  \n",
       "year_of_birth               1973     1979    1990  \n",
       "gender                       NaN      NaN     NaN  \n",
       "distance_from_home          0.45     0.98      50  \n",
       "manager_changes                2        4      15  \n",
       "no_of_promotions             NaN      NaN     NaN  \n",
       "risk_of_attrition            NaN      NaN     NaN  \n",
       "potential_rating             NaN      NaN     NaN  \n",
       "bonus                          0     2051   19853  \n",
       "no_courses_taken               2        4      20  \n",
       "time_in_position              18       37     278  \n",
       "awards                       NaN      NaN     NaN  \n",
       "signon                       NaN      NaN     NaN  \n",
       "manager_sat                   79       85     100  \n",
       "employee_sat                  80       80     100  \n",
       "salary_2017                98000   125706  511500  \n",
       "salary_2018               102716   132000  511500  "
      ]
     },
     "execution_count": 18,
     "metadata": {},
     "output_type": "execute_result"
    }
   ],
   "source": [
    "df.describe(include='all').T\n",
    "# freq is giving you of the top, you can see that you subtract the count from freq to get the other one.\n",
    "# you can also do the value counts of each object, to see how many of each there is and what each letter is"
   ]
  },
  {
   "cell_type": "code",
   "execution_count": 19,
   "metadata": {},
   "outputs": [
    {
     "data": {
      "text/html": [
       "<div>\n",
       "<style scoped>\n",
       "    .dataframe tbody tr th:only-of-type {\n",
       "        vertical-align: middle;\n",
       "    }\n",
       "\n",
       "    .dataframe tbody tr th {\n",
       "        vertical-align: top;\n",
       "    }\n",
       "\n",
       "    .dataframe thead th {\n",
       "        text-align: right;\n",
       "    }\n",
       "</style>\n",
       "<table border=\"1\" class=\"dataframe\">\n",
       "  <thead>\n",
       "    <tr style=\"text-align: right;\">\n",
       "      <th></th>\n",
       "      <th>service_agreement</th>\n",
       "      <th>gender</th>\n",
       "      <th>awards</th>\n",
       "      <th>signon</th>\n",
       "    </tr>\n",
       "  </thead>\n",
       "  <tbody>\n",
       "    <tr>\n",
       "      <th>count</th>\n",
       "      <td>686</td>\n",
       "      <td>686</td>\n",
       "      <td>686</td>\n",
       "      <td>686</td>\n",
       "    </tr>\n",
       "    <tr>\n",
       "      <th>unique</th>\n",
       "      <td>2</td>\n",
       "      <td>2</td>\n",
       "      <td>2</td>\n",
       "      <td>2</td>\n",
       "    </tr>\n",
       "    <tr>\n",
       "      <th>top</th>\n",
       "      <td>N</td>\n",
       "      <td>M</td>\n",
       "      <td>N</td>\n",
       "      <td>N</td>\n",
       "    </tr>\n",
       "    <tr>\n",
       "      <th>freq</th>\n",
       "      <td>576</td>\n",
       "      <td>507</td>\n",
       "      <td>626</td>\n",
       "      <td>675</td>\n",
       "    </tr>\n",
       "  </tbody>\n",
       "</table>\n",
       "</div>"
      ],
      "text/plain": [
       "       service_agreement gender awards signon\n",
       "count                686    686    686    686\n",
       "unique                 2      2      2      2\n",
       "top                    N      M      N      N\n",
       "freq                 576    507    626    675"
      ]
     },
     "execution_count": 19,
     "metadata": {},
     "output_type": "execute_result"
    }
   ],
   "source": [
    "# just the object ones\n",
    "df.describe(include=['object'])"
   ]
  },
  {
   "cell_type": "code",
   "execution_count": 20,
   "metadata": {},
   "outputs": [
    {
     "data": {
      "text/html": [
       "<div>\n",
       "<style scoped>\n",
       "    .dataframe tbody tr th:only-of-type {\n",
       "        vertical-align: middle;\n",
       "    }\n",
       "\n",
       "    .dataframe tbody tr th {\n",
       "        vertical-align: top;\n",
       "    }\n",
       "\n",
       "    .dataframe thead th {\n",
       "        text-align: right;\n",
       "    }\n",
       "</style>\n",
       "<table border=\"1\" class=\"dataframe\">\n",
       "  <thead>\n",
       "    <tr style=\"text-align: right;\">\n",
       "      <th></th>\n",
       "      <th>status</th>\n",
       "      <th>job_level</th>\n",
       "      <th>no_of_promotions</th>\n",
       "      <th>risk_of_attrition</th>\n",
       "      <th>potential_rating</th>\n",
       "    </tr>\n",
       "  </thead>\n",
       "  <tbody>\n",
       "    <tr>\n",
       "      <th>count</th>\n",
       "      <td>686</td>\n",
       "      <td>686</td>\n",
       "      <td>686</td>\n",
       "      <td>686</td>\n",
       "      <td>686</td>\n",
       "    </tr>\n",
       "    <tr>\n",
       "      <th>unique</th>\n",
       "      <td>2</td>\n",
       "      <td>5</td>\n",
       "      <td>9</td>\n",
       "      <td>4</td>\n",
       "      <td>5</td>\n",
       "    </tr>\n",
       "    <tr>\n",
       "      <th>top</th>\n",
       "      <td>0</td>\n",
       "      <td>1</td>\n",
       "      <td>0</td>\n",
       "      <td>2</td>\n",
       "      <td>3</td>\n",
       "    </tr>\n",
       "    <tr>\n",
       "      <th>freq</th>\n",
       "      <td>516</td>\n",
       "      <td>353</td>\n",
       "      <td>473</td>\n",
       "      <td>301</td>\n",
       "      <td>225</td>\n",
       "    </tr>\n",
       "  </tbody>\n",
       "</table>\n",
       "</div>"
      ],
      "text/plain": [
       "        status  job_level  no_of_promotions  risk_of_attrition  \\\n",
       "count      686        686               686                686   \n",
       "unique       2          5                 9                  4   \n",
       "top          0          1                 0                  2   \n",
       "freq       516        353               473                301   \n",
       "\n",
       "        potential_rating  \n",
       "count                686  \n",
       "unique                 5  \n",
       "top                    3  \n",
       "freq                 225  "
      ]
     },
     "execution_count": 20,
     "metadata": {},
     "output_type": "execute_result"
    }
   ],
   "source": [
    "# just the category ones\n",
    "df.describe(include=['category'])"
   ]
  },
  {
   "cell_type": "markdown",
   "metadata": {},
   "source": [
    "# Feature Engineering Part I\n",
    "\n",
    "- making a new feature from current feature (variables or column names)\n",
    "\n",
    "Divided into 3 ways:\n",
    "1. Data transformation\n",
    "    - Process that chances the distribution of the relationship with \n",
    "2. Dimension reduction \n",
    "    - the process reduction the number of random variables under consideration by updating a set of principle variables\n",
    "3. Variable creation\n",
    "    - deriving a new variable an artificial variable creation technique which is called an attribute\n",
    "\n",
    "Note: Reduce variables when there are more than 30% missing values"
   ]
  },
  {
   "cell_type": "code",
   "execution_count": 21,
   "metadata": {},
   "outputs": [
    {
     "name": "stdout",
     "output_type": "stream",
     "text": [
      "<class 'pandas.core.frame.DataFrame'>\n",
      "RangeIndex: 686 entries, 0 to 685\n",
      "Data columns (total 23 columns):\n",
      " #   Column                   Non-Null Count  Dtype         \n",
      "---  ------                   --------------  -----         \n",
      " 0   e_code                   686 non-null    int64         \n",
      " 1   status                   686 non-null    category      \n",
      " 2   hire_date                686 non-null    datetime64[ns]\n",
      " 3   service_agreement        686 non-null    object        \n",
      " 4   job_level                686 non-null    category      \n",
      " 5   performance_rating_2018  686 non-null    int64         \n",
      " 6   performance_rating_2017  686 non-null    int64         \n",
      " 7   year_of_birth            686 non-null    int64         \n",
      " 8   gender                   686 non-null    object        \n",
      " 9   distance_from_home       686 non-null    float64       \n",
      " 10  manager_changes          686 non-null    int64         \n",
      " 11  no_of_promotions         686 non-null    category      \n",
      " 12  risk_of_attrition        686 non-null    category      \n",
      " 13  potential_rating         686 non-null    category      \n",
      " 14  bonus                    686 non-null    int64         \n",
      " 15  no_courses_taken         686 non-null    int64         \n",
      " 16  time_in_position         686 non-null    int64         \n",
      " 17  awards                   686 non-null    object        \n",
      " 18  signon                   686 non-null    object        \n",
      " 19  manager_sat              686 non-null    int64         \n",
      " 20  employee_sat             686 non-null    int64         \n",
      " 21  salary_2017              686 non-null    int64         \n",
      " 22  salary_2018              686 non-null    int64         \n",
      "dtypes: category(5), datetime64[ns](1), float64(1), int64(12), object(4)\n",
      "memory usage: 101.0+ KB\n"
     ]
    }
   ],
   "source": [
    "df.info()"
   ]
  },
  {
   "cell_type": "markdown",
   "metadata": {},
   "source": [
    "## Feature one: `var_rating`"
   ]
  },
  {
   "cell_type": "code",
   "execution_count": 22,
   "metadata": {},
   "outputs": [],
   "source": [
    "# var_rating -- performancing rating can be a reason for attrition -- look at the variance of rating for the\n",
    "# two years \n",
    "\n",
    "# subtract the performance_rating 17 and 18\n",
    "df['var_rating'] = (df['performance_rating_2018']-df['performance_rating_2017'])"
   ]
  },
  {
   "cell_type": "code",
   "execution_count": 23,
   "metadata": {},
   "outputs": [
    {
     "data": {
      "text/plain": [
       "0      1\n",
       "1     -1\n",
       "2      0\n",
       "3      0\n",
       "4      0\n",
       "      ..\n",
       "681    0\n",
       "682   -1\n",
       "683    0\n",
       "684    0\n",
       "685    0\n",
       "Name: var_rating, Length: 686, dtype: int64"
      ]
     },
     "execution_count": 23,
     "metadata": {},
     "output_type": "execute_result"
    }
   ],
   "source": [
    "df.var_rating"
   ]
  },
  {
   "cell_type": "code",
   "execution_count": 24,
   "metadata": {},
   "outputs": [],
   "source": [
    "# this needs to go in categorical because it is levels of performance \n",
    "df['var_rating'] = df['var_rating'].astype('category')"
   ]
  },
  {
   "cell_type": "code",
   "execution_count": 25,
   "metadata": {},
   "outputs": [
    {
     "name": "stdout",
     "output_type": "stream",
     "text": [
      "<class 'pandas.core.frame.DataFrame'>\n",
      "RangeIndex: 686 entries, 0 to 685\n",
      "Data columns (total 24 columns):\n",
      " #   Column                   Non-Null Count  Dtype         \n",
      "---  ------                   --------------  -----         \n",
      " 0   e_code                   686 non-null    int64         \n",
      " 1   status                   686 non-null    category      \n",
      " 2   hire_date                686 non-null    datetime64[ns]\n",
      " 3   service_agreement        686 non-null    object        \n",
      " 4   job_level                686 non-null    category      \n",
      " 5   performance_rating_2018  686 non-null    int64         \n",
      " 6   performance_rating_2017  686 non-null    int64         \n",
      " 7   year_of_birth            686 non-null    int64         \n",
      " 8   gender                   686 non-null    object        \n",
      " 9   distance_from_home       686 non-null    float64       \n",
      " 10  manager_changes          686 non-null    int64         \n",
      " 11  no_of_promotions         686 non-null    category      \n",
      " 12  risk_of_attrition        686 non-null    category      \n",
      " 13  potential_rating         686 non-null    category      \n",
      " 14  bonus                    686 non-null    int64         \n",
      " 15  no_courses_taken         686 non-null    int64         \n",
      " 16  time_in_position         686 non-null    int64         \n",
      " 17  awards                   686 non-null    object        \n",
      " 18  signon                   686 non-null    object        \n",
      " 19  manager_sat              686 non-null    int64         \n",
      " 20  employee_sat             686 non-null    int64         \n",
      " 21  salary_2017              686 non-null    int64         \n",
      " 22  salary_2018              686 non-null    int64         \n",
      " 23  var_rating               686 non-null    category      \n",
      "dtypes: category(6), datetime64[ns](1), float64(1), int64(12), object(4)\n",
      "memory usage: 101.9+ KB\n"
     ]
    }
   ],
   "source": [
    "df.info()"
   ]
  },
  {
   "cell_type": "markdown",
   "metadata": {},
   "source": [
    "## Feature two: `percent_salary_change`"
   ]
  },
  {
   "cell_type": "code",
   "execution_count": 26,
   "metadata": {},
   "outputs": [],
   "source": [
    "# create a new column - percentage salary change\n",
    "# if there is a low rise in salary -- it could be a reason for a person attriting\n",
    "# https://www.skillsyouneed.com/num/percent-change.html -- percent change ((new-old)/old )*100\n",
    "\n",
    "df['percent_salary_change'] = (((df['salary_2018']-df['salary_2017'])/df['salary_2017'])*100)"
   ]
  },
  {
   "cell_type": "code",
   "execution_count": 27,
   "metadata": {},
   "outputs": [
    {
     "data": {
      "text/plain": [
       "0       3.505101\n",
       "1       1.502064\n",
       "2      12.670835\n",
       "3       3.761866\n",
       "4       0.000000\n",
       "         ...    \n",
       "681     1.201349\n",
       "682     1.201349\n",
       "683     1.201349\n",
       "684     1.201349\n",
       "685     2.567568\n",
       "Name: percent_salary_change, Length: 686, dtype: float64"
      ]
     },
     "execution_count": 27,
     "metadata": {},
     "output_type": "execute_result"
    }
   ],
   "source": [
    "df.percent_salary_change"
   ]
  },
  {
   "cell_type": "markdown",
   "metadata": {},
   "source": [
    "## Feature three: `age`"
   ]
  },
  {
   "cell_type": "code",
   "execution_count": 28,
   "metadata": {},
   "outputs": [],
   "source": [
    "# age of the employee using the year_of_birth -- video is from 2018\n",
    "df['age'] = (2018-df['year_of_birth'])"
   ]
  },
  {
   "cell_type": "code",
   "execution_count": 29,
   "metadata": {},
   "outputs": [
    {
     "data": {
      "text/plain": [
       "0      51\n",
       "1      47\n",
       "2      46\n",
       "3      50\n",
       "4      57\n",
       "       ..\n",
       "681    52\n",
       "682    37\n",
       "683    51\n",
       "684    38\n",
       "685    55\n",
       "Name: age, Length: 686, dtype: int64"
      ]
     },
     "execution_count": 29,
     "metadata": {},
     "output_type": "execute_result"
    }
   ],
   "source": [
    "df.age"
   ]
  },
  {
   "cell_type": "code",
   "execution_count": 30,
   "metadata": {},
   "outputs": [
    {
     "data": {
      "text/html": [
       "<div>\n",
       "<style scoped>\n",
       "    .dataframe tbody tr th:only-of-type {\n",
       "        vertical-align: middle;\n",
       "    }\n",
       "\n",
       "    .dataframe tbody tr th {\n",
       "        vertical-align: top;\n",
       "    }\n",
       "\n",
       "    .dataframe thead th {\n",
       "        text-align: right;\n",
       "    }\n",
       "</style>\n",
       "<table border=\"1\" class=\"dataframe\">\n",
       "  <thead>\n",
       "    <tr style=\"text-align: right;\">\n",
       "      <th></th>\n",
       "      <th>count</th>\n",
       "      <th>mean</th>\n",
       "      <th>std</th>\n",
       "      <th>min</th>\n",
       "      <th>25%</th>\n",
       "      <th>50%</th>\n",
       "      <th>75%</th>\n",
       "      <th>max</th>\n",
       "    </tr>\n",
       "  </thead>\n",
       "  <tbody>\n",
       "    <tr>\n",
       "      <th>e_code</th>\n",
       "      <td>686.0</td>\n",
       "      <td>46015.237609</td>\n",
       "      <td>214.878836</td>\n",
       "      <td>45631.0</td>\n",
       "      <td>45833.250000</td>\n",
       "      <td>46017.500000</td>\n",
       "      <td>46199.750000</td>\n",
       "      <td>46387.000000</td>\n",
       "    </tr>\n",
       "    <tr>\n",
       "      <th>performance_rating_2018</th>\n",
       "      <td>686.0</td>\n",
       "      <td>2.895044</td>\n",
       "      <td>1.124669</td>\n",
       "      <td>1.0</td>\n",
       "      <td>2.000000</td>\n",
       "      <td>3.000000</td>\n",
       "      <td>4.000000</td>\n",
       "      <td>5.000000</td>\n",
       "    </tr>\n",
       "    <tr>\n",
       "      <th>performance_rating_2017</th>\n",
       "      <td>686.0</td>\n",
       "      <td>2.967930</td>\n",
       "      <td>0.674125</td>\n",
       "      <td>1.0</td>\n",
       "      <td>3.000000</td>\n",
       "      <td>3.000000</td>\n",
       "      <td>3.000000</td>\n",
       "      <td>4.000000</td>\n",
       "    </tr>\n",
       "    <tr>\n",
       "      <th>year_of_birth</th>\n",
       "      <td>686.0</td>\n",
       "      <td>1972.532070</td>\n",
       "      <td>7.734348</td>\n",
       "      <td>1959.0</td>\n",
       "      <td>1966.000000</td>\n",
       "      <td>1973.000000</td>\n",
       "      <td>1979.000000</td>\n",
       "      <td>1990.000000</td>\n",
       "    </tr>\n",
       "    <tr>\n",
       "      <th>distance_from_home</th>\n",
       "      <td>686.0</td>\n",
       "      <td>3.204534</td>\n",
       "      <td>8.441646</td>\n",
       "      <td>0.0</td>\n",
       "      <td>0.242500</td>\n",
       "      <td>0.450000</td>\n",
       "      <td>0.980000</td>\n",
       "      <td>50.000000</td>\n",
       "    </tr>\n",
       "    <tr>\n",
       "      <th>manager_changes</th>\n",
       "      <td>686.0</td>\n",
       "      <td>2.332362</td>\n",
       "      <td>2.431611</td>\n",
       "      <td>0.0</td>\n",
       "      <td>0.000000</td>\n",
       "      <td>2.000000</td>\n",
       "      <td>4.000000</td>\n",
       "      <td>15.000000</td>\n",
       "    </tr>\n",
       "    <tr>\n",
       "      <th>bonus</th>\n",
       "      <td>686.0</td>\n",
       "      <td>1097.536443</td>\n",
       "      <td>2128.097198</td>\n",
       "      <td>0.0</td>\n",
       "      <td>0.000000</td>\n",
       "      <td>0.000000</td>\n",
       "      <td>2051.000000</td>\n",
       "      <td>19853.000000</td>\n",
       "    </tr>\n",
       "    <tr>\n",
       "      <th>no_courses_taken</th>\n",
       "      <td>686.0</td>\n",
       "      <td>3.247813</td>\n",
       "      <td>3.063291</td>\n",
       "      <td>0.0</td>\n",
       "      <td>1.000000</td>\n",
       "      <td>2.000000</td>\n",
       "      <td>4.000000</td>\n",
       "      <td>20.000000</td>\n",
       "    </tr>\n",
       "    <tr>\n",
       "      <th>time_in_position</th>\n",
       "      <td>686.0</td>\n",
       "      <td>27.345481</td>\n",
       "      <td>31.375641</td>\n",
       "      <td>0.0</td>\n",
       "      <td>7.000000</td>\n",
       "      <td>18.000000</td>\n",
       "      <td>37.000000</td>\n",
       "      <td>278.000000</td>\n",
       "    </tr>\n",
       "    <tr>\n",
       "      <th>manager_sat</th>\n",
       "      <td>686.0</td>\n",
       "      <td>82.177843</td>\n",
       "      <td>4.838758</td>\n",
       "      <td>76.0</td>\n",
       "      <td>79.000000</td>\n",
       "      <td>79.000000</td>\n",
       "      <td>85.000000</td>\n",
       "      <td>100.000000</td>\n",
       "    </tr>\n",
       "    <tr>\n",
       "      <th>employee_sat</th>\n",
       "      <td>686.0</td>\n",
       "      <td>81.214286</td>\n",
       "      <td>5.005909</td>\n",
       "      <td>70.0</td>\n",
       "      <td>80.000000</td>\n",
       "      <td>80.000000</td>\n",
       "      <td>80.000000</td>\n",
       "      <td>100.000000</td>\n",
       "    </tr>\n",
       "    <tr>\n",
       "      <th>salary_2017</th>\n",
       "      <td>686.0</td>\n",
       "      <td>114289.116618</td>\n",
       "      <td>60820.924620</td>\n",
       "      <td>39600.0</td>\n",
       "      <td>77033.750000</td>\n",
       "      <td>98000.000000</td>\n",
       "      <td>125705.500000</td>\n",
       "      <td>511500.000000</td>\n",
       "    </tr>\n",
       "    <tr>\n",
       "      <th>salary_2018</th>\n",
       "      <td>686.0</td>\n",
       "      <td>119135.456268</td>\n",
       "      <td>60925.702367</td>\n",
       "      <td>43903.0</td>\n",
       "      <td>81840.000000</td>\n",
       "      <td>102716.000000</td>\n",
       "      <td>132000.000000</td>\n",
       "      <td>511500.000000</td>\n",
       "    </tr>\n",
       "    <tr>\n",
       "      <th>percent_salary_change</th>\n",
       "      <td>686.0</td>\n",
       "      <td>5.144859</td>\n",
       "      <td>6.818903</td>\n",
       "      <td>0.0</td>\n",
       "      <td>1.020408</td>\n",
       "      <td>3.002883</td>\n",
       "      <td>5.900076</td>\n",
       "      <td>57.608696</td>\n",
       "    </tr>\n",
       "    <tr>\n",
       "      <th>age</th>\n",
       "      <td>686.0</td>\n",
       "      <td>45.467930</td>\n",
       "      <td>7.734348</td>\n",
       "      <td>28.0</td>\n",
       "      <td>39.000000</td>\n",
       "      <td>45.000000</td>\n",
       "      <td>52.000000</td>\n",
       "      <td>59.000000</td>\n",
       "    </tr>\n",
       "  </tbody>\n",
       "</table>\n",
       "</div>"
      ],
      "text/plain": [
       "                         count           mean           std      min  \\\n",
       "e_code                   686.0   46015.237609    214.878836  45631.0   \n",
       "performance_rating_2018  686.0       2.895044      1.124669      1.0   \n",
       "performance_rating_2017  686.0       2.967930      0.674125      1.0   \n",
       "year_of_birth            686.0    1972.532070      7.734348   1959.0   \n",
       "distance_from_home       686.0       3.204534      8.441646      0.0   \n",
       "manager_changes          686.0       2.332362      2.431611      0.0   \n",
       "bonus                    686.0    1097.536443   2128.097198      0.0   \n",
       "no_courses_taken         686.0       3.247813      3.063291      0.0   \n",
       "time_in_position         686.0      27.345481     31.375641      0.0   \n",
       "manager_sat              686.0      82.177843      4.838758     76.0   \n",
       "employee_sat             686.0      81.214286      5.005909     70.0   \n",
       "salary_2017              686.0  114289.116618  60820.924620  39600.0   \n",
       "salary_2018              686.0  119135.456268  60925.702367  43903.0   \n",
       "percent_salary_change    686.0       5.144859      6.818903      0.0   \n",
       "age                      686.0      45.467930      7.734348     28.0   \n",
       "\n",
       "                                  25%            50%            75%  \\\n",
       "e_code                   45833.250000   46017.500000   46199.750000   \n",
       "performance_rating_2018      2.000000       3.000000       4.000000   \n",
       "performance_rating_2017      3.000000       3.000000       3.000000   \n",
       "year_of_birth             1966.000000    1973.000000    1979.000000   \n",
       "distance_from_home           0.242500       0.450000       0.980000   \n",
       "manager_changes              0.000000       2.000000       4.000000   \n",
       "bonus                        0.000000       0.000000    2051.000000   \n",
       "no_courses_taken             1.000000       2.000000       4.000000   \n",
       "time_in_position             7.000000      18.000000      37.000000   \n",
       "manager_sat                 79.000000      79.000000      85.000000   \n",
       "employee_sat                80.000000      80.000000      80.000000   \n",
       "salary_2017              77033.750000   98000.000000  125705.500000   \n",
       "salary_2018              81840.000000  102716.000000  132000.000000   \n",
       "percent_salary_change        1.020408       3.002883       5.900076   \n",
       "age                         39.000000      45.000000      52.000000   \n",
       "\n",
       "                                   max  \n",
       "e_code                    46387.000000  \n",
       "performance_rating_2018       5.000000  \n",
       "performance_rating_2017       4.000000  \n",
       "year_of_birth              1990.000000  \n",
       "distance_from_home           50.000000  \n",
       "manager_changes              15.000000  \n",
       "bonus                     19853.000000  \n",
       "no_courses_taken             20.000000  \n",
       "time_in_position            278.000000  \n",
       "manager_sat                 100.000000  \n",
       "employee_sat                100.000000  \n",
       "salary_2017              511500.000000  \n",
       "salary_2018              511500.000000  \n",
       "percent_salary_change        57.608696  \n",
       "age                          59.000000  "
      ]
     },
     "execution_count": 30,
     "metadata": {},
     "output_type": "execute_result"
    }
   ],
   "source": [
    "df.describe().T"
   ]
  },
  {
   "cell_type": "code",
   "execution_count": 31,
   "metadata": {},
   "outputs": [
    {
     "name": "stdout",
     "output_type": "stream",
     "text": [
      " 0    413\n",
      "-1    130\n",
      " 1    126\n",
      "-3     16\n",
      " 2      1\n",
      "Name: var_rating, dtype: int64\n"
     ]
    }
   ],
   "source": [
    "print(df.var_rating.value_counts())"
   ]
  },
  {
   "cell_type": "markdown",
   "metadata": {},
   "source": [
    "### What do we see now?"
   ]
  },
  {
   "cell_type": "markdown",
   "metadata": {},
   "source": [
    "What do we see with the new variables: \n",
    "1. For percent_salary_change \n",
    "    - The mean is 5% increase in the salary\n",
    "    - The median is 3% increase in salary\n",
    "    - The minimum increase is 0% -- no change in salary\n",
    "    - The maximum is 57.6% increase in salary\n",
    "2. For age:\n",
    "    - Mean age is 45.5\n",
    "    - The minimum age is 28\n",
    "    - The maximum age is 59\n",
    "3. For var_rating (look at the counts as well to see how many people fall into each rating):\n",
    "    - 16 employees where the the rating is -3 (which means that the rating decreased in one year by 3 points)\n",
    "    - 130 employees where the rating is -1 (means that the rating decreased in one year by 1)\n",
    "    - 126 employees have has improved (because 2018-2017 rating is a positive 1)\n",
    "    - 413 employees rating stayed the same because the difference is 0\n",
    "    - only one employee improved their performance rating by 2 points"
   ]
  },
  {
   "cell_type": "markdown",
   "metadata": {},
   "source": [
    "## Dropping the redundant variables\n",
    "- Dimension reduction \n",
    "    - get rid of the columns that were used in making the new features"
   ]
  },
  {
   "cell_type": "code",
   "execution_count": 32,
   "metadata": {},
   "outputs": [],
   "source": [
    "new_df = df.drop(['performance_rating_2018', 'performance_rating_2017', 'salary_2018', \n",
    "         'salary_2017', 'year_of_birth'], axis=1)"
   ]
  },
  {
   "cell_type": "code",
   "execution_count": 33,
   "metadata": {},
   "outputs": [
    {
     "name": "stdout",
     "output_type": "stream",
     "text": [
      "<class 'pandas.core.frame.DataFrame'>\n",
      "RangeIndex: 686 entries, 0 to 685\n",
      "Data columns (total 21 columns):\n",
      " #   Column                 Non-Null Count  Dtype         \n",
      "---  ------                 --------------  -----         \n",
      " 0   e_code                 686 non-null    int64         \n",
      " 1   status                 686 non-null    category      \n",
      " 2   hire_date              686 non-null    datetime64[ns]\n",
      " 3   service_agreement      686 non-null    object        \n",
      " 4   job_level              686 non-null    category      \n",
      " 5   gender                 686 non-null    object        \n",
      " 6   distance_from_home     686 non-null    float64       \n",
      " 7   manager_changes        686 non-null    int64         \n",
      " 8   no_of_promotions       686 non-null    category      \n",
      " 9   risk_of_attrition      686 non-null    category      \n",
      " 10  potential_rating       686 non-null    category      \n",
      " 11  bonus                  686 non-null    int64         \n",
      " 12  no_courses_taken       686 non-null    int64         \n",
      " 13  time_in_position       686 non-null    int64         \n",
      " 14  awards                 686 non-null    object        \n",
      " 15  signon                 686 non-null    object        \n",
      " 16  manager_sat            686 non-null    int64         \n",
      " 17  employee_sat           686 non-null    int64         \n",
      " 18  var_rating             686 non-null    category      \n",
      " 19  percent_salary_change  686 non-null    float64       \n",
      " 20  age                    686 non-null    int64         \n",
      "dtypes: category(6), datetime64[ns](1), float64(2), int64(8), object(4)\n",
      "memory usage: 85.8+ KB\n"
     ]
    }
   ],
   "source": [
    "new_df.info()"
   ]
  },
  {
   "cell_type": "code",
   "execution_count": 34,
   "metadata": {},
   "outputs": [],
   "source": [
    "# drop variables that will not give us alot of information\n",
    "new_df = new_df.drop(['e_code', 'hire_date'], axis=1)"
   ]
  },
  {
   "cell_type": "code",
   "execution_count": 35,
   "metadata": {},
   "outputs": [
    {
     "name": "stdout",
     "output_type": "stream",
     "text": [
      "<class 'pandas.core.frame.DataFrame'>\n",
      "RangeIndex: 686 entries, 0 to 685\n",
      "Data columns (total 19 columns):\n",
      " #   Column                 Non-Null Count  Dtype   \n",
      "---  ------                 --------------  -----   \n",
      " 0   status                 686 non-null    category\n",
      " 1   service_agreement      686 non-null    object  \n",
      " 2   job_level              686 non-null    category\n",
      " 3   gender                 686 non-null    object  \n",
      " 4   distance_from_home     686 non-null    float64 \n",
      " 5   manager_changes        686 non-null    int64   \n",
      " 6   no_of_promotions       686 non-null    category\n",
      " 7   risk_of_attrition      686 non-null    category\n",
      " 8   potential_rating       686 non-null    category\n",
      " 9   bonus                  686 non-null    int64   \n",
      " 10  no_courses_taken       686 non-null    int64   \n",
      " 11  time_in_position       686 non-null    int64   \n",
      " 12  awards                 686 non-null    object  \n",
      " 13  signon                 686 non-null    object  \n",
      " 14  manager_sat            686 non-null    int64   \n",
      " 15  employee_sat           686 non-null    int64   \n",
      " 16  var_rating             686 non-null    category\n",
      " 17  percent_salary_change  686 non-null    float64 \n",
      " 18  age                    686 non-null    int64   \n",
      "dtypes: category(6), float64(2), int64(7), object(4)\n",
      "memory usage: 75.1+ KB\n"
     ]
    }
   ],
   "source": [
    "new_df.info()"
   ]
  },
  {
   "cell_type": "markdown",
   "metadata": {},
   "source": [
    "# Bi-Variate Analysis Part 1 (Categorical-Categorical Variables)\n",
    "\n",
    "There are three ways of doing this:\n",
    "1. Numerical and numerical\n",
    "2. categorical and categorical\n",
    "3. numerical and categorical\n",
    "\n",
    "Note: Bi-variate means analyzing two variables together\n",
    "\n",
    "The problem we face - keep the status variable constant 0 and 1 -- the other variables (category and object) you want to analyze with it"
   ]
  },
  {
   "cell_type": "code",
   "execution_count": 36,
   "metadata": {},
   "outputs": [
    {
     "name": "stderr",
     "output_type": "stream",
     "text": [
      "/Users/juliettec/opt/anaconda3/lib/python3.7/site-packages/statsmodels/tools/_testing.py:19: FutureWarning: pandas.util.testing is deprecated. Use the functions in the public API at pandas.testing instead.\n",
      "  import pandas.util.testing as tm\n"
     ]
    }
   ],
   "source": [
    "import matplotlib.pyplot as plt\n",
    "from statsmodels.graphics.mosaicplot import mosaic"
   ]
  },
  {
   "cell_type": "markdown",
   "metadata": {},
   "source": [
    "## Status and Gender"
   ]
  },
  {
   "cell_type": "code",
   "execution_count": 37,
   "metadata": {},
   "outputs": [
    {
     "data": {
      "image/png": "[encoded data removed]",
      "text/plain": [
       "<Figure size 432x288 with 3 Axes>"
      ]
     },
     "metadata": {
      "needs_background": "light"
     },
     "output_type": "display_data"
    }
   ],
   "source": [
    "# do some level of visualization to check other variable against status\n",
    "# source: statsmodels.org/stable/generated/statsmodels.graphics.mosaicplot.mosaic.html\n",
    "# source for color change: https://stackoverflow.com/questions/61704718/choosing-another-color-palette-for-a-mosaic-plot\n",
    "# source for colors: https://python-graph-gallery.com/python-colors/\n",
    "props = {('1', 'F'): 'red', ('0', 'F'): 'red', ('1', 'M'): 'blue', ('0', 'M'): 'blue'}\n",
    "mosaic(new_df, ['status', 'gender'], title='Status', properties = lambda key: {'color': props[key]})\n",
    "plt.show()"
   ]
  },
  {
   "cell_type": "markdown",
   "metadata": {},
   "source": [
    "- Univariate (status)"
   ]
  },
  {
   "cell_type": "code",
   "execution_count": 38,
   "metadata": {},
   "outputs": [
    {
     "data": {
      "text/plain": [
       "0    516\n",
       "1    170\n",
       "Name: status, dtype: int64"
      ]
     },
     "execution_count": 38,
     "metadata": {},
     "output_type": "execute_result"
    }
   ],
   "source": [
    "# metric approach - to convert to proportions\n",
    "new_df.status.value_counts()"
   ]
  },
  {
   "cell_type": "code",
   "execution_count": 39,
   "metadata": {},
   "outputs": [
    {
     "data": {
      "text/plain": [
       "686"
      ]
     },
     "execution_count": 39,
     "metadata": {},
     "output_type": "execute_result"
    }
   ],
   "source": [
    "len(df.status)"
   ]
  },
  {
   "cell_type": "code",
   "execution_count": 40,
   "metadata": {},
   "outputs": [
    {
     "name": "stdout",
     "output_type": "stream",
     "text": [
      "proportion of 0 status: 0.7521865889212828\n",
      "proportion of 1 status: 0.2478134110787172\n"
     ]
    }
   ],
   "source": [
    "print('proportion of 0 status:', 516/686)\n",
    "print('proportion of 1 status:', 170/686)"
   ]
  },
  {
   "cell_type": "markdown",
   "metadata": {},
   "source": [
    "- Find the numbers for number of females and males in each status"
   ]
  },
  {
   "cell_type": "code",
   "execution_count": 41,
   "metadata": {},
   "outputs": [],
   "source": [
    "# metric approch\n",
    "# took from study group module 3 \"Probability > Probability Tables\"\n",
    "table_status_gender = pd.pivot_table(data=new_df[['status', 'gender']], columns=['gender'], index='status', aggfunc=len)"
   ]
  },
  {
   "cell_type": "code",
   "execution_count": 42,
   "metadata": {},
   "outputs": [
    {
     "data": {
      "text/html": [
       "<div>\n",
       "<style scoped>\n",
       "    .dataframe tbody tr th:only-of-type {\n",
       "        vertical-align: middle;\n",
       "    }\n",
       "\n",
       "    .dataframe tbody tr th {\n",
       "        vertical-align: top;\n",
       "    }\n",
       "\n",
       "    .dataframe thead th {\n",
       "        text-align: right;\n",
       "    }\n",
       "</style>\n",
       "<table border=\"1\" class=\"dataframe\">\n",
       "  <thead>\n",
       "    <tr style=\"text-align: right;\">\n",
       "      <th>gender</th>\n",
       "      <th>F</th>\n",
       "      <th>M</th>\n",
       "    </tr>\n",
       "    <tr>\n",
       "      <th>status</th>\n",
       "      <th></th>\n",
       "      <th></th>\n",
       "    </tr>\n",
       "  </thead>\n",
       "  <tbody>\n",
       "    <tr>\n",
       "      <th>0</th>\n",
       "      <td>136</td>\n",
       "      <td>380</td>\n",
       "    </tr>\n",
       "    <tr>\n",
       "      <th>1</th>\n",
       "      <td>43</td>\n",
       "      <td>127</td>\n",
       "    </tr>\n",
       "  </tbody>\n",
       "</table>\n",
       "</div>"
      ],
      "text/plain": [
       "gender    F    M\n",
       "status          \n",
       "0       136  380\n",
       "1        43  127"
      ]
     },
     "execution_count": 42,
     "metadata": {},
     "output_type": "execute_result"
    }
   ],
   "source": [
    "table_status_gender"
   ]
  },
  {
   "cell_type": "markdown",
   "metadata": {},
   "source": [
    "ROW\n",
    "- 26% of females are active (0)\n",
    "- 73% of males are active (0)\n",
    "\n",
    "COLUMN\n",
    "- 75% of females are active (0)\n",
    "\n",
    "\n",
    "- This is from a perspective of status so it tells us that 74% of employees who left work were males.\n",
    "- If we look at the perspective of gender, we can say seems like employees do not leave based on gender, because leaving between males and females are only 24%"
   ]
  },
  {
   "cell_type": "code",
   "execution_count": 43,
   "metadata": {},
   "outputs": [
    {
     "name": "stdout",
     "output_type": "stream",
     "text": [
      "% of Females with 0 status: 26.36\n",
      "% of Females with 1 status: 25.3\n",
      "% of Males with 0 status: 73.64\n",
      "% of Males Males with 1 status: 74.71\n"
     ]
    }
   ],
   "source": [
    "# with 0 status need over the total of 0's which is 516\n",
    "# with 1 status need over the total of 1's which is 170\n",
    "\n",
    "# row perspective -- status \n",
    "print('% of Females with 0 status:', round((136/516),4)*100)\n",
    "print('% of Females with 1 status:', round((43/170),3)*100)\n",
    "print('% of Males with 0 status:', round((380/516),4)*100)\n",
    "print('% of Males Males with 1 status:', round((127/170),4)*100)"
   ]
  },
  {
   "cell_type": "code",
   "execution_count": 44,
   "metadata": {},
   "outputs": [
    {
     "name": "stdout",
     "output_type": "stream",
     "text": [
      "% of Females who are active: 75.98\n",
      "% of Females who are not active: 24.0\n",
      "% of Males who are  status: 74.95\n",
      "% of Males with 1 status: 25.05\n"
     ]
    }
   ],
   "source": [
    "# column perspective -- gender\n",
    "\n",
    "print('% of Females who are active:', round((136/179),4)*100)\n",
    "print('% of Females who are not active:', round((43/179),3)*100)\n",
    "print('% of Males who are  status:', round((380/507),4)*100)\n",
    "print('% of Males with 1 status:', round((127/507),4)*100)"
   ]
  },
  {
   "cell_type": "markdown",
   "metadata": {},
   "source": [
    "## Status and Service Agreement"
   ]
  },
  {
   "cell_type": "code",
   "execution_count": 45,
   "metadata": {},
   "outputs": [
    {
     "data": {
      "image/png": "[encoded data removed]",
      "text/plain": [
       "<Figure size 432x288 with 3 Axes>"
      ]
     },
     "metadata": {
      "needs_background": "light"
     },
     "output_type": "display_data"
    }
   ],
   "source": [
    "props = {('1', 'N'): 'red', ('0', 'N'): 'red', ('1', 'Y'): 'blue', ('0', 'Y'): 'blue'}\n",
    "mosaic(new_df, ['status', 'service_agreement'], title='Status', properties = lambda key: {'color': props[key]})\n",
    "plt.show()"
   ]
  },
  {
   "cell_type": "code",
   "execution_count": 46,
   "metadata": {},
   "outputs": [],
   "source": [
    "table_status_service = pd.pivot_table(data=new_df[['status', 'service_agreement']], columns=['service_agreement'], index='status', aggfunc=len)"
   ]
  },
  {
   "cell_type": "code",
   "execution_count": 47,
   "metadata": {},
   "outputs": [
    {
     "data": {
      "text/html": [
       "<div>\n",
       "<style scoped>\n",
       "    .dataframe tbody tr th:only-of-type {\n",
       "        vertical-align: middle;\n",
       "    }\n",
       "\n",
       "    .dataframe tbody tr th {\n",
       "        vertical-align: top;\n",
       "    }\n",
       "\n",
       "    .dataframe thead th {\n",
       "        text-align: right;\n",
       "    }\n",
       "</style>\n",
       "<table border=\"1\" class=\"dataframe\">\n",
       "  <thead>\n",
       "    <tr style=\"text-align: right;\">\n",
       "      <th>service_agreement</th>\n",
       "      <th>N</th>\n",
       "      <th>Y</th>\n",
       "    </tr>\n",
       "    <tr>\n",
       "      <th>status</th>\n",
       "      <th></th>\n",
       "      <th></th>\n",
       "    </tr>\n",
       "  </thead>\n",
       "  <tbody>\n",
       "    <tr>\n",
       "      <th>0</th>\n",
       "      <td>422</td>\n",
       "      <td>94</td>\n",
       "    </tr>\n",
       "    <tr>\n",
       "      <th>1</th>\n",
       "      <td>154</td>\n",
       "      <td>16</td>\n",
       "    </tr>\n",
       "  </tbody>\n",
       "</table>\n",
       "</div>"
      ],
      "text/plain": [
       "service_agreement    N   Y\n",
       "status                    \n",
       "0                  422  94\n",
       "1                  154  16"
      ]
     },
     "execution_count": 47,
     "metadata": {},
     "output_type": "execute_result"
    }
   ],
   "source": [
    "table_status_service"
   ]
  },
  {
   "cell_type": "code",
   "execution_count": 48,
   "metadata": {},
   "outputs": [
    {
     "name": "stdout",
     "output_type": "stream",
     "text": [
      "% of N with 0 status: 81.78\n",
      "% of N with 1 status: 90.60000000000001\n",
      "% of Y with 0 status: 18.22\n",
      "% of Y with 1 status: 9.41\n"
     ]
    }
   ],
   "source": [
    "# row perspective -- status -- adding N+Y for 0 and 1 denominator\n",
    "print('% of N with 0 status:', round((422/516),4)*100)\n",
    "print('% of N with 1 status:', round((154/170),3)*100)\n",
    "print('% of Y with 0 status:', round((94/516),4)*100)\n",
    "print('% of Y with 1 status:', round((16/170),4)*100)"
   ]
  },
  {
   "cell_type": "code",
   "execution_count": 49,
   "metadata": {},
   "outputs": [
    {
     "name": "stdout",
     "output_type": "stream",
     "text": [
      "proportion of N with 0 status: 73.26\n",
      "proportion of N with 1 status: 26.700000000000003\n",
      "proportion of Y with 0 status: 85.45\n",
      "proportion of Y with 1 status: 14.549999999999999\n"
     ]
    }
   ],
   "source": [
    "# column perspective -- service_agreement -- adding 0 and 1 for total denominator \n",
    "# numerator is \n",
    "\n",
    "print('proportion of N with 0 status:', round(422/(422+154),4)*100)\n",
    "print('proportion of N with 1 status:', round(154/(422+154),3)*100)\n",
    "print('proportion of Y with 0 status:', round(94/(94+16),4)*100)\n",
    "print('proportion of Y with 1 status:', round(16/(94+16),4)*100)"
   ]
  },
  {
   "cell_type": "markdown",
   "metadata": {},
   "source": [
    "ROW\n",
    "- 82% of N are active (0)\n",
    "- approx. 91% of Y are inactive (1)\n",
    "- 18% of Y are active (0)\n",
    "\n",
    "COLUMN\n",
    "- 73% of N are active (0)\n",
    "\n",
    "\n",
    "- This is from a perspective of status so it tells us that 73% of employees who are working have a service agreement of N.  But 91% of employees who have left had a service agreement of N.  So this could show something.\n",
    "- If we look at the perspective of service agreement, we can say it seems like employees do not leave based on not having a service agreement."
   ]
  },
  {
   "cell_type": "markdown",
   "metadata": {},
   "source": [
    "## Status and Job Level"
   ]
  },
  {
   "cell_type": "code",
   "execution_count": 50,
   "metadata": {},
   "outputs": [
    {
     "data": {
      "image/png": "[encoded data removed]",
      "text/plain": [
       "<Figure size 432x288 with 3 Axes>"
      ]
     },
     "metadata": {
      "needs_background": "light"
     },
     "output_type": "display_data"
    }
   ],
   "source": [
    "props = {('0', '5'): 'red', ('1', '5'): 'red', ('0', '4'): 'blue', ('1', '4'): 'blue', ('0', '3'): 'green',\n",
    "        ('1', '3'): 'green', ('0', '2'): 'yellow', ('1', '2'): 'yellow', ('1', '1'): 'grey', ('0', '1'): 'grey'}\n",
    "mosaic(new_df, ['status', 'job_level'], title='Status', properties = lambda key: {'color': props[key]})\n",
    "plt.show()"
   ]
  },
  {
   "cell_type": "code",
   "execution_count": 51,
   "metadata": {},
   "outputs": [],
   "source": [
    "table_job_level = pd.pivot_table(data=new_df[['status', 'job_level']], columns=['job_level'], index='status', aggfunc=len)"
   ]
  },
  {
   "cell_type": "code",
   "execution_count": 52,
   "metadata": {},
   "outputs": [
    {
     "data": {
      "text/html": [
       "<div>\n",
       "<style scoped>\n",
       "    .dataframe tbody tr th:only-of-type {\n",
       "        vertical-align: middle;\n",
       "    }\n",
       "\n",
       "    .dataframe tbody tr th {\n",
       "        vertical-align: top;\n",
       "    }\n",
       "\n",
       "    .dataframe thead th {\n",
       "        text-align: right;\n",
       "    }\n",
       "</style>\n",
       "<table border=\"1\" class=\"dataframe\">\n",
       "  <thead>\n",
       "    <tr style=\"text-align: right;\">\n",
       "      <th>job_level</th>\n",
       "      <th>1</th>\n",
       "      <th>2</th>\n",
       "      <th>3</th>\n",
       "      <th>4</th>\n",
       "      <th>5</th>\n",
       "    </tr>\n",
       "    <tr>\n",
       "      <th>status</th>\n",
       "      <th></th>\n",
       "      <th></th>\n",
       "      <th></th>\n",
       "      <th></th>\n",
       "      <th></th>\n",
       "    </tr>\n",
       "  </thead>\n",
       "  <tbody>\n",
       "    <tr>\n",
       "      <th>0</th>\n",
       "      <td>265</td>\n",
       "      <td>158</td>\n",
       "      <td>62</td>\n",
       "      <td>22</td>\n",
       "      <td>9</td>\n",
       "    </tr>\n",
       "    <tr>\n",
       "      <th>1</th>\n",
       "      <td>88</td>\n",
       "      <td>46</td>\n",
       "      <td>23</td>\n",
       "      <td>11</td>\n",
       "      <td>2</td>\n",
       "    </tr>\n",
       "  </tbody>\n",
       "</table>\n",
       "</div>"
      ],
      "text/plain": [
       "job_level    1    2   3   4  5\n",
       "status                        \n",
       "0          265  158  62  22  9\n",
       "1           88   46  23  11  2"
      ]
     },
     "execution_count": 52,
     "metadata": {},
     "output_type": "execute_result"
    }
   ],
   "source": [
    "table_job_level"
   ]
  },
  {
   "cell_type": "code",
   "execution_count": 53,
   "metadata": {},
   "outputs": [],
   "source": [
    "# by row for every job level what is the proportion of people who left\n",
    "# by column the porportion of people who left per job level"
   ]
  },
  {
   "cell_type": "markdown",
   "metadata": {},
   "source": [
    "## Status and var_rating"
   ]
  },
  {
   "cell_type": "code",
   "execution_count": 54,
   "metadata": {},
   "outputs": [
    {
     "data": {
      "image/png": "[encoded data removed]",
      "text/plain": [
       "<Figure size 432x288 with 3 Axes>"
      ]
     },
     "metadata": {
      "needs_background": "light"
     },
     "output_type": "display_data"
    }
   ],
   "source": [
    "props = {('0', '-3'): 'red', ('1', '-3'): 'red', ('0', '2'): 'blue', ('1', '2'): 'blue', ('0', '0'): 'green',\n",
    "         ('1', '0'): 'green', ('0', '-1'): 'yellow', ('1', '-1'): 'yellow', ('0', '1'): 'grey', ('1', '1'): 'grey'}\n",
    "mosaic(new_df, ['status', 'var_rating'], title='Status', properties = lambda key: {'color': props[key]})\n",
    "plt.show()"
   ]
  },
  {
   "cell_type": "code",
   "execution_count": 55,
   "metadata": {},
   "outputs": [],
   "source": [
    "table_var_rating = pd.pivot_table(data=new_df[['status', 'var_rating']], columns=['var_rating'], index='status', aggfunc=len)"
   ]
  },
  {
   "cell_type": "code",
   "execution_count": 56,
   "metadata": {},
   "outputs": [
    {
     "data": {
      "text/html": [
       "<div>\n",
       "<style scoped>\n",
       "    .dataframe tbody tr th:only-of-type {\n",
       "        vertical-align: middle;\n",
       "    }\n",
       "\n",
       "    .dataframe tbody tr th {\n",
       "        vertical-align: top;\n",
       "    }\n",
       "\n",
       "    .dataframe thead th {\n",
       "        text-align: right;\n",
       "    }\n",
       "</style>\n",
       "<table border=\"1\" class=\"dataframe\">\n",
       "  <thead>\n",
       "    <tr style=\"text-align: right;\">\n",
       "      <th>var_rating</th>\n",
       "      <th>-3</th>\n",
       "      <th>-1</th>\n",
       "      <th>0</th>\n",
       "      <th>1</th>\n",
       "      <th>2</th>\n",
       "    </tr>\n",
       "    <tr>\n",
       "      <th>status</th>\n",
       "      <th></th>\n",
       "      <th></th>\n",
       "      <th></th>\n",
       "      <th></th>\n",
       "      <th></th>\n",
       "    </tr>\n",
       "  </thead>\n",
       "  <tbody>\n",
       "    <tr>\n",
       "      <th>0</th>\n",
       "      <td>16.0</td>\n",
       "      <td>105.0</td>\n",
       "      <td>291.0</td>\n",
       "      <td>103.0</td>\n",
       "      <td>1.0</td>\n",
       "    </tr>\n",
       "    <tr>\n",
       "      <th>1</th>\n",
       "      <td>NaN</td>\n",
       "      <td>25.0</td>\n",
       "      <td>122.0</td>\n",
       "      <td>23.0</td>\n",
       "      <td>NaN</td>\n",
       "    </tr>\n",
       "  </tbody>\n",
       "</table>\n",
       "</div>"
      ],
      "text/plain": [
       "var_rating    -3     -1      0      1    2\n",
       "status                                    \n",
       "0           16.0  105.0  291.0  103.0  1.0\n",
       "1            NaN   25.0  122.0   23.0  NaN"
      ]
     },
     "execution_count": 56,
     "metadata": {},
     "output_type": "execute_result"
    }
   ],
   "source": [
    "# need to make sure that NaN's are filled with 0, because there are no ratings of a different of 3 or 2 \n",
    "# for people who have left the company\n",
    "# need numbers there for hypothesis testing\n",
    "table_var_rating"
   ]
  },
  {
   "cell_type": "code",
   "execution_count": 57,
   "metadata": {},
   "outputs": [],
   "source": [
    "table_var_rating.fillna(0, inplace=True)"
   ]
  },
  {
   "cell_type": "code",
   "execution_count": 58,
   "metadata": {},
   "outputs": [
    {
     "data": {
      "text/html": [
       "<div>\n",
       "<style scoped>\n",
       "    .dataframe tbody tr th:only-of-type {\n",
       "        vertical-align: middle;\n",
       "    }\n",
       "\n",
       "    .dataframe tbody tr th {\n",
       "        vertical-align: top;\n",
       "    }\n",
       "\n",
       "    .dataframe thead th {\n",
       "        text-align: right;\n",
       "    }\n",
       "</style>\n",
       "<table border=\"1\" class=\"dataframe\">\n",
       "  <thead>\n",
       "    <tr style=\"text-align: right;\">\n",
       "      <th>var_rating</th>\n",
       "      <th>-3</th>\n",
       "      <th>-1</th>\n",
       "      <th>0</th>\n",
       "      <th>1</th>\n",
       "      <th>2</th>\n",
       "    </tr>\n",
       "    <tr>\n",
       "      <th>status</th>\n",
       "      <th></th>\n",
       "      <th></th>\n",
       "      <th></th>\n",
       "      <th></th>\n",
       "      <th></th>\n",
       "    </tr>\n",
       "  </thead>\n",
       "  <tbody>\n",
       "    <tr>\n",
       "      <th>0</th>\n",
       "      <td>16.0</td>\n",
       "      <td>105.0</td>\n",
       "      <td>291.0</td>\n",
       "      <td>103.0</td>\n",
       "      <td>1.0</td>\n",
       "    </tr>\n",
       "    <tr>\n",
       "      <th>1</th>\n",
       "      <td>0.0</td>\n",
       "      <td>25.0</td>\n",
       "      <td>122.0</td>\n",
       "      <td>23.0</td>\n",
       "      <td>0.0</td>\n",
       "    </tr>\n",
       "  </tbody>\n",
       "</table>\n",
       "</div>"
      ],
      "text/plain": [
       "var_rating    -3     -1      0      1    2\n",
       "status                                    \n",
       "0           16.0  105.0  291.0  103.0  1.0\n",
       "1            0.0   25.0  122.0   23.0  0.0"
      ]
     },
     "execution_count": 58,
     "metadata": {},
     "output_type": "execute_result"
    }
   ],
   "source": [
    "table_var_rating"
   ]
  },
  {
   "cell_type": "markdown",
   "metadata": {},
   "source": [
    "## Status and no_of_promotions"
   ]
  },
  {
   "cell_type": "code",
   "execution_count": 59,
   "metadata": {},
   "outputs": [],
   "source": [
    "table_promotions = pd.pivot_table(data=new_df[['status', 'no_of_promotions']], columns=['no_of_promotions'], index='status', aggfunc=len)"
   ]
  },
  {
   "cell_type": "code",
   "execution_count": 60,
   "metadata": {},
   "outputs": [
    {
     "data": {
      "text/html": [
       "<div>\n",
       "<style scoped>\n",
       "    .dataframe tbody tr th:only-of-type {\n",
       "        vertical-align: middle;\n",
       "    }\n",
       "\n",
       "    .dataframe tbody tr th {\n",
       "        vertical-align: top;\n",
       "    }\n",
       "\n",
       "    .dataframe thead th {\n",
       "        text-align: right;\n",
       "    }\n",
       "</style>\n",
       "<table border=\"1\" class=\"dataframe\">\n",
       "  <thead>\n",
       "    <tr style=\"text-align: right;\">\n",
       "      <th>no_of_promotions</th>\n",
       "      <th>0</th>\n",
       "      <th>1</th>\n",
       "      <th>2</th>\n",
       "      <th>3</th>\n",
       "      <th>4</th>\n",
       "      <th>5</th>\n",
       "      <th>6</th>\n",
       "      <th>7</th>\n",
       "      <th>10</th>\n",
       "    </tr>\n",
       "    <tr>\n",
       "      <th>status</th>\n",
       "      <th></th>\n",
       "      <th></th>\n",
       "      <th></th>\n",
       "      <th></th>\n",
       "      <th></th>\n",
       "      <th></th>\n",
       "      <th></th>\n",
       "      <th></th>\n",
       "      <th></th>\n",
       "    </tr>\n",
       "  </thead>\n",
       "  <tbody>\n",
       "    <tr>\n",
       "      <th>0</th>\n",
       "      <td>338.0</td>\n",
       "      <td>88.0</td>\n",
       "      <td>51.0</td>\n",
       "      <td>16.0</td>\n",
       "      <td>13.0</td>\n",
       "      <td>6.0</td>\n",
       "      <td>1.0</td>\n",
       "      <td>2.0</td>\n",
       "      <td>1.0</td>\n",
       "    </tr>\n",
       "    <tr>\n",
       "      <th>1</th>\n",
       "      <td>135.0</td>\n",
       "      <td>16.0</td>\n",
       "      <td>8.0</td>\n",
       "      <td>6.0</td>\n",
       "      <td>4.0</td>\n",
       "      <td>NaN</td>\n",
       "      <td>1.0</td>\n",
       "      <td>NaN</td>\n",
       "      <td>NaN</td>\n",
       "    </tr>\n",
       "  </tbody>\n",
       "</table>\n",
       "</div>"
      ],
      "text/plain": [
       "no_of_promotions     0     1     2     3     4    5    6    7    10\n",
       "status                                                             \n",
       "0                 338.0  88.0  51.0  16.0  13.0  6.0  1.0  2.0  1.0\n",
       "1                 135.0  16.0   8.0   6.0   4.0  NaN  1.0  NaN  NaN"
      ]
     },
     "execution_count": 60,
     "metadata": {},
     "output_type": "execute_result"
    }
   ],
   "source": [
    "table_promotions"
   ]
  },
  {
   "cell_type": "code",
   "execution_count": 61,
   "metadata": {},
   "outputs": [],
   "source": [
    "table_promotions.fillna(0, inplace=True)"
   ]
  },
  {
   "cell_type": "code",
   "execution_count": 62,
   "metadata": {},
   "outputs": [
    {
     "data": {
      "text/html": [
       "<div>\n",
       "<style scoped>\n",
       "    .dataframe tbody tr th:only-of-type {\n",
       "        vertical-align: middle;\n",
       "    }\n",
       "\n",
       "    .dataframe tbody tr th {\n",
       "        vertical-align: top;\n",
       "    }\n",
       "\n",
       "    .dataframe thead th {\n",
       "        text-align: right;\n",
       "    }\n",
       "</style>\n",
       "<table border=\"1\" class=\"dataframe\">\n",
       "  <thead>\n",
       "    <tr style=\"text-align: right;\">\n",
       "      <th>no_of_promotions</th>\n",
       "      <th>0</th>\n",
       "      <th>1</th>\n",
       "      <th>2</th>\n",
       "      <th>3</th>\n",
       "      <th>4</th>\n",
       "      <th>5</th>\n",
       "      <th>6</th>\n",
       "      <th>7</th>\n",
       "      <th>10</th>\n",
       "    </tr>\n",
       "    <tr>\n",
       "      <th>status</th>\n",
       "      <th></th>\n",
       "      <th></th>\n",
       "      <th></th>\n",
       "      <th></th>\n",
       "      <th></th>\n",
       "      <th></th>\n",
       "      <th></th>\n",
       "      <th></th>\n",
       "      <th></th>\n",
       "    </tr>\n",
       "  </thead>\n",
       "  <tbody>\n",
       "    <tr>\n",
       "      <th>0</th>\n",
       "      <td>338.0</td>\n",
       "      <td>88.0</td>\n",
       "      <td>51.0</td>\n",
       "      <td>16.0</td>\n",
       "      <td>13.0</td>\n",
       "      <td>6.0</td>\n",
       "      <td>1.0</td>\n",
       "      <td>2.0</td>\n",
       "      <td>1.0</td>\n",
       "    </tr>\n",
       "    <tr>\n",
       "      <th>1</th>\n",
       "      <td>135.0</td>\n",
       "      <td>16.0</td>\n",
       "      <td>8.0</td>\n",
       "      <td>6.0</td>\n",
       "      <td>4.0</td>\n",
       "      <td>0.0</td>\n",
       "      <td>1.0</td>\n",
       "      <td>0.0</td>\n",
       "      <td>0.0</td>\n",
       "    </tr>\n",
       "  </tbody>\n",
       "</table>\n",
       "</div>"
      ],
      "text/plain": [
       "no_of_promotions     0     1     2     3     4    5    6    7    10\n",
       "status                                                             \n",
       "0                 338.0  88.0  51.0  16.0  13.0  6.0  1.0  2.0  1.0\n",
       "1                 135.0  16.0   8.0   6.0   4.0  0.0  1.0  0.0  0.0"
      ]
     },
     "execution_count": 62,
     "metadata": {},
     "output_type": "execute_result"
    }
   ],
   "source": [
    "table_promotions"
   ]
  },
  {
   "cell_type": "markdown",
   "metadata": {},
   "source": [
    "## Status and risk_of_attrition"
   ]
  },
  {
   "cell_type": "code",
   "execution_count": 63,
   "metadata": {},
   "outputs": [],
   "source": [
    "table_attrition = pd.pivot_table(data=new_df[['status', 'risk_of_attrition']], columns=['risk_of_attrition'], index='status', aggfunc=len)"
   ]
  },
  {
   "cell_type": "code",
   "execution_count": 64,
   "metadata": {},
   "outputs": [
    {
     "data": {
      "text/html": [
       "<div>\n",
       "<style scoped>\n",
       "    .dataframe tbody tr th:only-of-type {\n",
       "        vertical-align: middle;\n",
       "    }\n",
       "\n",
       "    .dataframe tbody tr th {\n",
       "        vertical-align: top;\n",
       "    }\n",
       "\n",
       "    .dataframe thead th {\n",
       "        text-align: right;\n",
       "    }\n",
       "</style>\n",
       "<table border=\"1\" class=\"dataframe\">\n",
       "  <thead>\n",
       "    <tr style=\"text-align: right;\">\n",
       "      <th>risk_of_attrition</th>\n",
       "      <th>1</th>\n",
       "      <th>2</th>\n",
       "      <th>3</th>\n",
       "      <th>4</th>\n",
       "    </tr>\n",
       "    <tr>\n",
       "      <th>status</th>\n",
       "      <th></th>\n",
       "      <th></th>\n",
       "      <th></th>\n",
       "      <th></th>\n",
       "    </tr>\n",
       "  </thead>\n",
       "  <tbody>\n",
       "    <tr>\n",
       "      <th>0</th>\n",
       "      <td>15</td>\n",
       "      <td>261</td>\n",
       "      <td>204</td>\n",
       "      <td>36</td>\n",
       "    </tr>\n",
       "    <tr>\n",
       "      <th>1</th>\n",
       "      <td>19</td>\n",
       "      <td>40</td>\n",
       "      <td>81</td>\n",
       "      <td>30</td>\n",
       "    </tr>\n",
       "  </tbody>\n",
       "</table>\n",
       "</div>"
      ],
      "text/plain": [
       "risk_of_attrition   1    2    3   4\n",
       "status                             \n",
       "0                  15  261  204  36\n",
       "1                  19   40   81  30"
      ]
     },
     "execution_count": 64,
     "metadata": {},
     "output_type": "execute_result"
    }
   ],
   "source": [
    "table_attrition"
   ]
  },
  {
   "cell_type": "markdown",
   "metadata": {},
   "source": [
    "## Status and potential_rating"
   ]
  },
  {
   "cell_type": "code",
   "execution_count": 65,
   "metadata": {},
   "outputs": [],
   "source": [
    "table_potential = pd.pivot_table(data=new_df[['status', 'potential_rating']], columns=['potential_rating'], index='status', aggfunc=len)"
   ]
  },
  {
   "cell_type": "code",
   "execution_count": 66,
   "metadata": {},
   "outputs": [
    {
     "data": {
      "text/html": [
       "<div>\n",
       "<style scoped>\n",
       "    .dataframe tbody tr th:only-of-type {\n",
       "        vertical-align: middle;\n",
       "    }\n",
       "\n",
       "    .dataframe tbody tr th {\n",
       "        vertical-align: top;\n",
       "    }\n",
       "\n",
       "    .dataframe thead th {\n",
       "        text-align: right;\n",
       "    }\n",
       "</style>\n",
       "<table border=\"1\" class=\"dataframe\">\n",
       "  <thead>\n",
       "    <tr style=\"text-align: right;\">\n",
       "      <th>potential_rating</th>\n",
       "      <th>1</th>\n",
       "      <th>2</th>\n",
       "      <th>3</th>\n",
       "      <th>4</th>\n",
       "      <th>5</th>\n",
       "    </tr>\n",
       "    <tr>\n",
       "      <th>status</th>\n",
       "      <th></th>\n",
       "      <th></th>\n",
       "      <th></th>\n",
       "      <th></th>\n",
       "      <th></th>\n",
       "    </tr>\n",
       "  </thead>\n",
       "  <tbody>\n",
       "    <tr>\n",
       "      <th>0</th>\n",
       "      <td>15</td>\n",
       "      <td>30</td>\n",
       "      <td>168</td>\n",
       "      <td>141</td>\n",
       "      <td>162</td>\n",
       "    </tr>\n",
       "    <tr>\n",
       "      <th>1</th>\n",
       "      <td>19</td>\n",
       "      <td>8</td>\n",
       "      <td>57</td>\n",
       "      <td>55</td>\n",
       "      <td>31</td>\n",
       "    </tr>\n",
       "  </tbody>\n",
       "</table>\n",
       "</div>"
      ],
      "text/plain": [
       "potential_rating   1   2    3    4    5\n",
       "status                                 \n",
       "0                 15  30  168  141  162\n",
       "1                 19   8   57   55   31"
      ]
     },
     "execution_count": 66,
     "metadata": {},
     "output_type": "execute_result"
    }
   ],
   "source": [
    "table_potential"
   ]
  },
  {
   "cell_type": "markdown",
   "metadata": {},
   "source": [
    "## Status and awards"
   ]
  },
  {
   "cell_type": "code",
   "execution_count": 67,
   "metadata": {},
   "outputs": [],
   "source": [
    "table_awards = pd.pivot_table(data=new_df[['status', 'awards']], columns=['awards'], index='status', aggfunc=len)"
   ]
  },
  {
   "cell_type": "code",
   "execution_count": 68,
   "metadata": {},
   "outputs": [
    {
     "data": {
      "text/html": [
       "<div>\n",
       "<style scoped>\n",
       "    .dataframe tbody tr th:only-of-type {\n",
       "        vertical-align: middle;\n",
       "    }\n",
       "\n",
       "    .dataframe tbody tr th {\n",
       "        vertical-align: top;\n",
       "    }\n",
       "\n",
       "    .dataframe thead th {\n",
       "        text-align: right;\n",
       "    }\n",
       "</style>\n",
       "<table border=\"1\" class=\"dataframe\">\n",
       "  <thead>\n",
       "    <tr style=\"text-align: right;\">\n",
       "      <th>awards</th>\n",
       "      <th>N</th>\n",
       "      <th>Y</th>\n",
       "    </tr>\n",
       "    <tr>\n",
       "      <th>status</th>\n",
       "      <th></th>\n",
       "      <th></th>\n",
       "    </tr>\n",
       "  </thead>\n",
       "  <tbody>\n",
       "    <tr>\n",
       "      <th>0</th>\n",
       "      <td>482</td>\n",
       "      <td>34</td>\n",
       "    </tr>\n",
       "    <tr>\n",
       "      <th>1</th>\n",
       "      <td>144</td>\n",
       "      <td>26</td>\n",
       "    </tr>\n",
       "  </tbody>\n",
       "</table>\n",
       "</div>"
      ],
      "text/plain": [
       "awards    N   Y\n",
       "status         \n",
       "0       482  34\n",
       "1       144  26"
      ]
     },
     "execution_count": 68,
     "metadata": {},
     "output_type": "execute_result"
    }
   ],
   "source": [
    "table_awards"
   ]
  },
  {
   "cell_type": "markdown",
   "metadata": {},
   "source": [
    "## Status and signon"
   ]
  },
  {
   "cell_type": "code",
   "execution_count": 69,
   "metadata": {},
   "outputs": [],
   "source": [
    "table_signon = pd.pivot_table(data=new_df[['status', 'signon']], columns=['signon'], index='status', aggfunc=len)"
   ]
  },
  {
   "cell_type": "code",
   "execution_count": 70,
   "metadata": {},
   "outputs": [
    {
     "data": {
      "text/html": [
       "<div>\n",
       "<style scoped>\n",
       "    .dataframe tbody tr th:only-of-type {\n",
       "        vertical-align: middle;\n",
       "    }\n",
       "\n",
       "    .dataframe tbody tr th {\n",
       "        vertical-align: top;\n",
       "    }\n",
       "\n",
       "    .dataframe thead th {\n",
       "        text-align: right;\n",
       "    }\n",
       "</style>\n",
       "<table border=\"1\" class=\"dataframe\">\n",
       "  <thead>\n",
       "    <tr style=\"text-align: right;\">\n",
       "      <th>signon</th>\n",
       "      <th>N</th>\n",
       "      <th>Y</th>\n",
       "    </tr>\n",
       "    <tr>\n",
       "      <th>status</th>\n",
       "      <th></th>\n",
       "      <th></th>\n",
       "    </tr>\n",
       "  </thead>\n",
       "  <tbody>\n",
       "    <tr>\n",
       "      <th>0</th>\n",
       "      <td>506</td>\n",
       "      <td>10</td>\n",
       "    </tr>\n",
       "    <tr>\n",
       "      <th>1</th>\n",
       "      <td>169</td>\n",
       "      <td>1</td>\n",
       "    </tr>\n",
       "  </tbody>\n",
       "</table>\n",
       "</div>"
      ],
      "text/plain": [
       "signon    N   Y\n",
       "status         \n",
       "0       506  10\n",
       "1       169   1"
      ]
     },
     "execution_count": 70,
     "metadata": {},
     "output_type": "execute_result"
    }
   ],
   "source": [
    "table_signon"
   ]
  },
  {
   "cell_type": "markdown",
   "metadata": {},
   "source": [
    "# Bi-Variate Analysis (Categorical-Categorical Hypothesis Testing)\n",
    "Understand the output of a test\n",
    "We use chi-square test to determine if there is a significant relationship within two categorical variables\n",
    "\n",
    "Doing the hypothesis testing:\n",
    "- NULL - no relationship between the variables (independent)\n",
    "- Alternative - there is a relationship between the variables (there is a level of dependency between the variables)"
   ]
  },
  {
   "cell_type": "markdown",
   "metadata": {},
   "source": [
    "## Gender and Status\n",
    "- H0 Null - independent\n",
    "- H1 Alternative - dependent\n",
    "\n",
    "p-value:\n",
    "- if p-value < 0.05 - accept the alternative H1\n",
    "- if p-value > 0.05 - accept the null H0"
   ]
  },
  {
   "cell_type": "markdown",
   "metadata": {},
   "source": [
    "- H0 says that there is no relationship between gender and status (independent), if p > 0.05\n",
    "- H1 says that there is a relationship between gender and status (dependent), if p < 0.05"
   ]
  },
  {
   "cell_type": "code",
   "execution_count": 71,
   "metadata": {},
   "outputs": [
    {
     "name": "stdout",
     "output_type": "stream",
     "text": [
      "p value is 0.8627292328103568\n",
      "Independent (H0 holds true)\n"
     ]
    }
   ],
   "source": [
    "# source: https://www.geeksforgeeks.org/python-pearsons-chi-square-test/\n",
    "# chi-squared test with similar proportions\n",
    "from scipy.stats import chi2_contingency\n",
    "from scipy.stats import chi2\n",
    "\n",
    "stat, p, dof, expected = chi2_contingency(table_status_gender)\n",
    "\n",
    "# interpret p-value \n",
    "alpha = 0.05\n",
    "print(\"p value is \" + str(p)) \n",
    "if p <= alpha: \n",
    "    print('Dependent (reject H0)') \n",
    "else: \n",
    "    print('Independent (H0 holds true)') "
   ]
  },
  {
   "cell_type": "markdown",
   "metadata": {},
   "source": [
    "We can accept the Null Hypothesis, the p-value is greater than 0.05.  This suggests that gender and status are independent - no significance of gender to employee turnover."
   ]
  },
  {
   "cell_type": "markdown",
   "metadata": {},
   "source": [
    "## Status and service_agreement"
   ]
  },
  {
   "cell_type": "markdown",
   "metadata": {},
   "source": [
    "- H0 says that there is no relationship between service_agreement and status (independent), if p > 0.05\n",
    "- H1 says that there is a relationship between service_agreement and status (dependent), if p < 0.05"
   ]
  },
  {
   "cell_type": "code",
   "execution_count": 72,
   "metadata": {},
   "outputs": [
    {
     "name": "stdout",
     "output_type": "stream",
     "text": [
      "p value is 0.009511328983283338\n",
      "Dependent (reject H0)\n"
     ]
    }
   ],
   "source": [
    "stat, p, dof, expected = chi2_contingency(table_status_service)\n",
    "\n",
    "# interpret p-value \n",
    "alpha = 0.05\n",
    "print(\"p value is \" + str(p)) \n",
    "if p <= alpha: \n",
    "    print('Dependent (reject H0)') \n",
    "else: \n",
    "    print('Independent (H0 holds true)') "
   ]
  },
  {
   "cell_type": "markdown",
   "metadata": {},
   "source": [
    "Yes there is a relationship between the status of the employee with service agreement.  Service_agreement impacts status -- dependent"
   ]
  },
  {
   "cell_type": "markdown",
   "metadata": {},
   "source": [
    "## Status and job_level"
   ]
  },
  {
   "cell_type": "markdown",
   "metadata": {},
   "source": [
    "- H0 says that there is no relationship between job_level and status (independent), if p > 0.05\n",
    "- H1 says that there is a relationship between job_level and status (dependent), if p < 0.05"
   ]
  },
  {
   "cell_type": "code",
   "execution_count": 73,
   "metadata": {
    "scrolled": true
   },
   "outputs": [
    {
     "name": "stdout",
     "output_type": "stream",
     "text": [
      "p value is 0.6738877352129603\n",
      "Independent (H0 holds true)\n"
     ]
    }
   ],
   "source": [
    "stat, p, dof, expected = chi2_contingency(table_job_level)\n",
    "\n",
    "# interpret p-value \n",
    "alpha = 0.05\n",
    "print(\"p value is \" + str(p)) \n",
    "if p <= alpha: \n",
    "    print('Dependent (reject H0)') \n",
    "else: \n",
    "    print('Independent (H0 holds true)') "
   ]
  },
  {
   "cell_type": "markdown",
   "metadata": {},
   "source": [
    "We can accept the Null Hypothesis, the p-value is greater than 0.05.  There is no significant relationship between job_level and status -- they are independent of each other."
   ]
  },
  {
   "cell_type": "markdown",
   "metadata": {},
   "source": [
    "## Status and var_rating"
   ]
  },
  {
   "cell_type": "markdown",
   "metadata": {},
   "source": [
    "- H0 says that there is no relationship between var_rating and status (independent), if p > 0.05\n",
    "- H1 says that there is a relationship between var_rating and status (dependent), if p < 0.05"
   ]
  },
  {
   "cell_type": "code",
   "execution_count": 74,
   "metadata": {},
   "outputs": [
    {
     "name": "stdout",
     "output_type": "stream",
     "text": [
      "p value is 0.0035318724704160947\n",
      "Dependent (reject H0)\n"
     ]
    }
   ],
   "source": [
    "stat, p, dof, expected = chi2_contingency(table_var_rating)\n",
    "\n",
    "# interpret p-value \n",
    "alpha = 0.05\n",
    "print(\"p value is \" + str(p)) \n",
    "if p <= alpha: \n",
    "    print('Dependent (reject H0)') \n",
    "else: \n",
    "    print('Independent (H0 holds true)') "
   ]
  },
  {
   "cell_type": "markdown",
   "metadata": {},
   "source": [
    "Yes there is a relationship between the status of the employee with var_rating.  var_rating impacts status -- dependent."
   ]
  },
  {
   "cell_type": "markdown",
   "metadata": {},
   "source": [
    "## Status and no_of_promotions"
   ]
  },
  {
   "cell_type": "markdown",
   "metadata": {},
   "source": [
    "- H0 says that there is no relationship between no_of_promotions and status (independent), if p > 0.05\n",
    "- H1 says that there is a relationship between no_of_promotions and status (dependent), if p < 0.05"
   ]
  },
  {
   "cell_type": "code",
   "execution_count": 75,
   "metadata": {},
   "outputs": [
    {
     "name": "stdout",
     "output_type": "stream",
     "text": [
      "p value is 0.03913994369619338\n",
      "Dependent (reject H0)\n"
     ]
    }
   ],
   "source": [
    "stat, p, dof, expected = chi2_contingency(table_promotions)\n",
    "\n",
    "# interpret p-value \n",
    "alpha = 0.05\n",
    "print(\"p value is \" + str(p)) \n",
    "if p <= alpha: \n",
    "    print('Dependent (reject H0)') \n",
    "else: \n",
    "    print('Independent (H0 holds true)') "
   ]
  },
  {
   "cell_type": "markdown",
   "metadata": {},
   "source": [
    "Since we are rejecting the Null Hypothesis (H0), that means that we need to accept the Alternative Hypothesis that states that there is a relationship between no_of_promotions and status.  So, no_of_promotions impacts status -- dependent."
   ]
  },
  {
   "cell_type": "markdown",
   "metadata": {},
   "source": [
    "## Status and risk_of_attrition"
   ]
  },
  {
   "cell_type": "markdown",
   "metadata": {},
   "source": [
    "- H0 says that there is no relationship between risk_of_attrition and status (independent), if p > 0.05\n",
    "- H1 says that there is a relationship between risk_of_attrition and status (dependent), if p < 0.05"
   ]
  },
  {
   "cell_type": "code",
   "execution_count": 76,
   "metadata": {},
   "outputs": [
    {
     "name": "stdout",
     "output_type": "stream",
     "text": [
      "p value is 3.944526151206098e-12\n",
      "Dependent (reject H0)\n"
     ]
    }
   ],
   "source": [
    "stat, p, dof, expected = chi2_contingency(table_attrition)\n",
    "\n",
    "# interpret p-value \n",
    "alpha = 0.05\n",
    "print(\"p value is \" + str(p)) \n",
    "if p <= alpha: \n",
    "    print('Dependent (reject H0)') \n",
    "else: \n",
    "    print('Independent (H0 holds true)') "
   ]
  },
  {
   "cell_type": "markdown",
   "metadata": {},
   "source": [
    "Since we are rejecting the Null Hypothesis (H0), that means that we need to accept the Alternative Hypothesis that states that there is a relationship between risk_of_attrition and status.  So, risk_of_attrition impacts status -- dependent."
   ]
  },
  {
   "cell_type": "markdown",
   "metadata": {},
   "source": [
    "## Status and potential_rating"
   ]
  },
  {
   "cell_type": "markdown",
   "metadata": {},
   "source": [
    "- H0 says that there is no relationship between potential_rating and status (independent), if p > 0.05\n",
    "- H1 says that there is a relationship between potential_rating and status (dependent), if p < 0.05"
   ]
  },
  {
   "cell_type": "code",
   "execution_count": 77,
   "metadata": {},
   "outputs": [
    {
     "name": "stdout",
     "output_type": "stream",
     "text": [
      "p value is 2.0195451650873343e-05\n",
      "Dependent (reject H0)\n"
     ]
    }
   ],
   "source": [
    "stat, p, dof, expected = chi2_contingency(table_potential)\n",
    "\n",
    "# interpret p-value \n",
    "alpha = 0.05\n",
    "print(\"p value is \" + str(p)) \n",
    "if p <= alpha: \n",
    "    print('Dependent (reject H0)') \n",
    "else: \n",
    "    print('Independent (H0 holds true)') "
   ]
  },
  {
   "cell_type": "markdown",
   "metadata": {},
   "source": [
    "We can reject the Null Hypothesis (H0) that meas we can accept the Alternative Hypothesis that states that there is a relationship between potential_rating and status. That means there is a significant relationship between potential_rating and status.  So, potential_rating impacts status -- dependent."
   ]
  },
  {
   "cell_type": "markdown",
   "metadata": {},
   "source": [
    "## Status and awards\n",
    "- Are they important, do they affect an employee staying?"
   ]
  },
  {
   "cell_type": "markdown",
   "metadata": {},
   "source": [
    "- H0 says that there is no relationship between awards and status (independent), if p > 0.05\n",
    "- H1 says that there is a relationship between awards and status (dependent), if p < 0.05"
   ]
  },
  {
   "cell_type": "code",
   "execution_count": 78,
   "metadata": {},
   "outputs": [
    {
     "name": "stdout",
     "output_type": "stream",
     "text": [
      "p value is 0.000875372103862832\n",
      "Dependent (reject H0)\n"
     ]
    }
   ],
   "source": [
    "stat, p, dof, expected = chi2_contingency(table_awards)\n",
    "\n",
    "# interpret p-value \n",
    "alpha = 0.05\n",
    "print(\"p value is \" + str(p)) \n",
    "if p <= alpha: \n",
    "    print('Dependent (reject H0)') \n",
    "else: \n",
    "    print('Independent (H0 holds true)') "
   ]
  },
  {
   "cell_type": "markdown",
   "metadata": {},
   "source": [
    "We reject the Null Hypothesis (H0) that means that we can accept the alternative hypothesis that states that there is a relationship between awards and status.  So awards impacts status -- dependent."
   ]
  },
  {
   "cell_type": "markdown",
   "metadata": {},
   "source": [
    "## Status and signon"
   ]
  },
  {
   "cell_type": "markdown",
   "metadata": {},
   "source": [
    "- H0 says that there is no relationship between signon and status (independent), if p > 0.05\n",
    "- H1 says that there is a relationship between signon and status (dependent), if p < 0.05"
   ]
  },
  {
   "cell_type": "code",
   "execution_count": 79,
   "metadata": {},
   "outputs": [
    {
     "name": "stdout",
     "output_type": "stream",
     "text": [
      "p value is 0.3880831472807692\n",
      "Independent (H0 holds true)\n"
     ]
    }
   ],
   "source": [
    "stat, p, dof, expected = chi2_contingency(table_signon)\n",
    "\n",
    "# interpret p-value \n",
    "alpha = 0.05\n",
    "print(\"p value is \" + str(p)) \n",
    "if p <= alpha: \n",
    "    print('Dependent (reject H0)') \n",
    "else: \n",
    "    print('Independent (H0 holds true)') "
   ]
  },
  {
   "cell_type": "markdown",
   "metadata": {},
   "source": [
    "We can accept the Null Hypothesis here, because the p-value is greater than 0.05.  This means that there is no significant relationship between signon and status.  They are independent of each other."
   ]
  },
  {
   "cell_type": "markdown",
   "metadata": {},
   "source": [
    "## Recap:\n",
    "Idea is to analysis the categorical variables.\n",
    "- Created plots\n",
    "- Created tables and looked at proportions (row and column level)\n",
    "\n",
    "Then we looked at the hypothesis testing by looking at the p-value (greater than 0.05 or less than 0.05).\n",
    "Is that variable important or not important? -- Looking at dependence or independence\n",
    "    - Dependence -- impacts or affects\n",
    "    - Independence -- does not impact or affect\n",
    "   \n",
    "Some variables do impact employee turn over (attrition):\n",
    "1. `awards`\n",
    "2. `potential_rating`\n",
    "3. `risk_of_attrition`\n",
    "4. `num_of_promotions`\n",
    "5. `var_rating`\n",
    "6. `service_agreement`\n",
    "\n",
    "Note: Later remove the variables that do not impact attrition (independent ones to status)"
   ]
  },
  {
   "cell_type": "markdown",
   "metadata": {},
   "source": [
    "# Bi-Variate Analysis Part 2 (Numerical - Categorical)"
   ]
  },
  {
   "cell_type": "markdown",
   "metadata": {},
   "source": [
    "Showing status (target) with all the numerical types:\n",
    "\n",
    "1. `age`\n",
    "2. `distance_from_home`\n",
    "3. `manager_changes`\n",
    "4. `bonus`\n",
    "5. `no_courses_taken`\n",
    "6. `time_in_position`\n",
    "7. `manager_sat`\n",
    "8. `employee_sat`\n",
    "9. `percent_salary_change`\n",
    "\n",
    "Violin plot - close to what a box plot is.\n",
    "- How the data is distributed.  What is the distributed for 0 and 1, for age and status.  Show using box plot to be able to see the mean, median, min, and max clearly (in a graph).\n",
    "\n"
   ]
  },
  {
   "cell_type": "markdown",
   "metadata": {},
   "source": [
    "Thought process: I need to go through each row of the dataset:\n",
    "- What I want to pull out two columns, status and another and if the other column has a status of 0, what to find the mean.  If it has a status of 1, I want to find the mean"
   ]
  },
  {
   "cell_type": "code",
   "execution_count": 80,
   "metadata": {},
   "outputs": [],
   "source": [
    "# metrics\n",
    "# find the 4 values, mean, median, min, max of the people with status 0 and status 1\n",
    "\n",
    "import statistics\n",
    "def feature_mean(dataset, col_1, col_2):\n",
    "    column_with_1 = []\n",
    "    column_with_0 = []\n",
    "    for i, j in zip(dataset[col_1], dataset[col_2]):\n",
    "        if i == 1:\n",
    "            column_with_1.append(j)\n",
    "        if i == 0:\n",
    "            column_with_0.append(j)\n",
    "    return 'data status 1:', statistics.mean(column_with_1), 'data status 0:', statistics.mean(column_with_0)\n",
    "\n",
    "def feature_median(dataset, col_1, col_2):\n",
    "    column_with_1 = []\n",
    "    column_with_0 = []\n",
    "    for i, j in zip(dataset[col_1], dataset[col_2]):\n",
    "        if i == 1:\n",
    "            column_with_1.append(j)\n",
    "        if i == 0:\n",
    "            column_with_0.append(j)\n",
    "    return 'data status 1:', statistics.median(column_with_1), 'data status 0:', statistics.median(column_with_0)\n",
    "\n",
    "def feature_min(dataset, col_1, col_2):\n",
    "    column_with_1 = []\n",
    "    column_with_0 = []\n",
    "    for i, j in zip(dataset[col_1], dataset[col_2]):\n",
    "        if i == 1:\n",
    "            column_with_1.append(j)\n",
    "        if i == 0:\n",
    "            column_with_0.append(j)\n",
    "    return 'data status 1:', min(column_with_1), 'data status 0:', min(column_with_0)\n",
    "\n",
    "def feature_max(dataset, col_1, col_2):\n",
    "    column_with_1 = []\n",
    "    column_with_0 = []\n",
    "    for i, j in zip(dataset[col_1], dataset[col_2]):\n",
    "        if i == 1:\n",
    "            column_with_1.append(j)\n",
    "        if i == 0:\n",
    "            column_with_0.append(j)\n",
    "    return 'data status 1:', max(column_with_1), 'data status 0:', max(column_with_0)\n",
    "    "
   ]
  },
  {
   "cell_type": "code",
   "execution_count": 81,
   "metadata": {},
   "outputs": [],
   "source": [
    "import seaborn as sns\n",
    "sns.set(style=\"whitegrid\")"
   ]
  },
  {
   "cell_type": "markdown",
   "metadata": {},
   "source": [
    "## `status` and `age`"
   ]
  },
  {
   "cell_type": "code",
   "execution_count": 82,
   "metadata": {},
   "outputs": [
    {
     "data": {
      "text/plain": [
       "<AxesSubplot:xlabel='status', ylabel='age'>"
      ]
     },
     "execution_count": 82,
     "metadata": {},
     "output_type": "execute_result"
    },
    {
     "data": {
      "image/png": "[encoded data removed]",
      "text/plain": [
       "<Figure size 432x288 with 1 Axes>"
      ]
     },
     "metadata": {},
     "output_type": "display_data"
    }
   ],
   "source": [
    "sns.boxplot(x = 'status', y = 'age', data = new_df)"
   ]
  },
  {
   "cell_type": "code",
   "execution_count": 83,
   "metadata": {},
   "outputs": [
    {
     "name": "stdout",
     "output_type": "stream",
     "text": [
      "mean: ('data status 1:', 45.61764705882353, 'data status 0:', 45.41860465116279)\n",
      "median: ('data status 1:', 45.0, 'data status 0:', 46.0)\n",
      "min: ('data status 1:', 30, 'data status 0:', 28)\n",
      "max: ('data status 1:', 59, 'data status 0:', 59)\n"
     ]
    }
   ],
   "source": [
    "print('mean:', feature_mean(new_df, 'status', 'age'))\n",
    "print('median:', feature_median(new_df, 'status', 'age'))\n",
    "print('min:', feature_min(new_df, 'status', 'age'))\n",
    "print('max:', feature_max(new_df, 'status', 'age'))"
   ]
  },
  {
   "cell_type": "markdown",
   "metadata": {},
   "source": [
    "## `status` and `distance_from_home`"
   ]
  },
  {
   "cell_type": "code",
   "execution_count": 84,
   "metadata": {},
   "outputs": [
    {
     "data": {
      "text/plain": [
       "<AxesSubplot:xlabel='status', ylabel='distance_from_home'>"
      ]
     },
     "execution_count": 84,
     "metadata": {},
     "output_type": "execute_result"
    },
    {
     "data": {
      "image/png": "[encoded data removed]",
      "text/plain": [
       "<Figure size 432x288 with 1 Axes>"
      ]
     },
     "metadata": {},
     "output_type": "display_data"
    }
   ],
   "source": [
    "sns.boxplot(x = 'status', y = 'distance_from_home', data = new_df)"
   ]
  },
  {
   "cell_type": "markdown",
   "metadata": {},
   "source": [
    "Distance from home does not show that there is much difference between them.  We need to check more to see if `distance_from_home` actually impacts someone's decision to leave the company."
   ]
  },
  {
   "cell_type": "code",
   "execution_count": 85,
   "metadata": {
    "scrolled": true
   },
   "outputs": [
    {
     "name": "stdout",
     "output_type": "stream",
     "text": [
      "mean: ('data status 1:', 5.964294117647059, 'data status 0:', 2.29531007751938)\n",
      "median: ('data status 1:', 0.675, 'data status 0:', 0.44)\n",
      "min: ('data status 1:', 0.0, 'data status 0:', 0.0)\n",
      "max: ('data status 1:', 49.59, 'data status 0:', 50.0)\n"
     ]
    }
   ],
   "source": [
    "print('mean:', feature_mean(new_df, 'status', 'distance_from_home'))\n",
    "print('median:', feature_median(new_df, 'status', 'distance_from_home'))\n",
    "print('min:', feature_min(new_df, 'status', 'distance_from_home'))\n",
    "print('max:',feature_max(new_df, 'status', 'distance_from_home'))"
   ]
  },
  {
   "cell_type": "markdown",
   "metadata": {},
   "source": [
    "The average distance from home of people that have left the company is about 6 miles, versus the people who have stayed is 2.3 miles."
   ]
  },
  {
   "cell_type": "markdown",
   "metadata": {},
   "source": [
    "## `status` and `manager_changes`"
   ]
  },
  {
   "cell_type": "code",
   "execution_count": 86,
   "metadata": {},
   "outputs": [
    {
     "data": {
      "text/plain": [
       "<AxesSubplot:xlabel='status', ylabel='manager_changes'>"
      ]
     },
     "execution_count": 86,
     "metadata": {},
     "output_type": "execute_result"
    },
    {
     "data": {
      "image/png": "[encoded data removed]",
      "text/plain": [
       "<Figure size 432x288 with 1 Axes>"
      ]
     },
     "metadata": {},
     "output_type": "display_data"
    }
   ],
   "source": [
    "sns.boxplot(x = 'status', y = 'manager_changes', data = new_df)"
   ]
  },
  {
   "cell_type": "code",
   "execution_count": 87,
   "metadata": {},
   "outputs": [
    {
     "name": "stdout",
     "output_type": "stream",
     "text": [
      "mean: ('data status 1:', 2.0647058823529414, 'data status 0:', 2.4205426356589146)\n",
      "median: ('data status 1:', 2.0, 'data status 0:', 2.0)\n",
      "min: ('data status 1:', 0, 'data status 0:', 0)\n",
      "max: ('data status 1:', 9, 'data status 0:', 15)\n"
     ]
    }
   ],
   "source": [
    "print('mean:', feature_mean(new_df, 'status', 'manager_changes'))\n",
    "print('median:', feature_median(new_df, 'status', 'manager_changes'))\n",
    "print('min:', feature_min(new_df, 'status', 'manager_changes'))\n",
    "print('max:',feature_max(new_df, 'status', 'manager_changes'))"
   ]
  },
  {
   "cell_type": "markdown",
   "metadata": {},
   "source": [
    "## `status` and `bonus`"
   ]
  },
  {
   "cell_type": "code",
   "execution_count": 88,
   "metadata": {},
   "outputs": [
    {
     "data": {
      "text/plain": [
       "<AxesSubplot:xlabel='status', ylabel='bonus'>"
      ]
     },
     "execution_count": 88,
     "metadata": {},
     "output_type": "execute_result"
    },
    {
     "data": {
      "image/png": "[encoded data removed]",
      "text/plain": [
       "<Figure size 432x288 with 1 Axes>"
      ]
     },
     "metadata": {},
     "output_type": "display_data"
    }
   ],
   "source": [
    "sns.boxplot(x = 'status', y = 'bonus', data = new_df)"
   ]
  },
  {
   "cell_type": "code",
   "execution_count": 89,
   "metadata": {},
   "outputs": [
    {
     "name": "stdout",
     "output_type": "stream",
     "text": [
      "mean: ('data status 1:', 1374.0411764705882, 'data status 0:', 1006.4399224806201)\n",
      "median: ('data status 1:', 0.0, 'data status 0:', 0.0)\n",
      "min: ('data status 1:', 0, 'data status 0:', 0)\n",
      "max: ('data status 1:', 15396, 'data status 0:', 19853)\n"
     ]
    }
   ],
   "source": [
    "print('mean:', feature_mean(new_df, 'status', 'bonus'))\n",
    "print('median:', feature_median(new_df, 'status', 'bonus'))\n",
    "print('min:', feature_min(new_df, 'status', 'bonus'))\n",
    "print('max:',feature_max(new_df, 'status', 'bonus'))"
   ]
  },
  {
   "cell_type": "markdown",
   "metadata": {},
   "source": [
    "On average, people who are leaving the company are actually getting more money compared to the people who are staying.  $1374 vs. $1006.  When there is a big difference between median and mean, it tells us that the data is skewed."
   ]
  },
  {
   "cell_type": "markdown",
   "metadata": {},
   "source": [
    "## `status` and `no_courses_taken`"
   ]
  },
  {
   "cell_type": "code",
   "execution_count": 90,
   "metadata": {},
   "outputs": [
    {
     "data": {
      "text/plain": [
       "<AxesSubplot:xlabel='status', ylabel='no_courses_taken'>"
      ]
     },
     "execution_count": 90,
     "metadata": {},
     "output_type": "execute_result"
    },
    {
     "data": {
      "image/png": "[encoded data removed]",
      "text/plain": [
       "<Figure size 432x288 with 1 Axes>"
      ]
     },
     "metadata": {},
     "output_type": "display_data"
    }
   ],
   "source": [
    "sns.boxplot(x = 'status', y = 'no_courses_taken', data = new_df)"
   ]
  },
  {
   "cell_type": "code",
   "execution_count": 91,
   "metadata": {},
   "outputs": [
    {
     "name": "stdout",
     "output_type": "stream",
     "text": [
      "mean: ('data status 1:', 1.5588235294117647, 'data status 0:', 3.804263565891473)\n",
      "median: ('data status 1:', 1.0, 'data status 0:', 3.0)\n",
      "min: ('data status 1:', 0, 'data status 0:', 0)\n",
      "max: ('data status 1:', 12, 'data status 0:', 20)\n"
     ]
    }
   ],
   "source": [
    "print('mean:', feature_mean(new_df, 'status', 'no_courses_taken'))\n",
    "print('median:', feature_median(new_df, 'status', 'no_courses_taken'))\n",
    "print('min:', feature_min(new_df, 'status', 'no_courses_taken'))\n",
    "print('max:',feature_max(new_df, 'status', 'no_courses_taken'))"
   ]
  },
  {
   "cell_type": "markdown",
   "metadata": {},
   "source": [
    "People who are staying in the company have an average of 4 courses.  People that are leaving is about 2 courses.  Do you want to move people horizontally rather than vertically? There is a very big difference between the number of courses people take -- 0 to 12 for people who leave vs 0 - 20 for people who stay."
   ]
  },
  {
   "cell_type": "markdown",
   "metadata": {},
   "source": [
    "## `status` and `time_in_position`"
   ]
  },
  {
   "cell_type": "code",
   "execution_count": 92,
   "metadata": {},
   "outputs": [
    {
     "data": {
      "text/plain": [
       "<AxesSubplot:xlabel='status', ylabel='time_in_position'>"
      ]
     },
     "execution_count": 92,
     "metadata": {},
     "output_type": "execute_result"
    },
    {
     "data": {
      "image/png": "[encoded data removed]",
      "text/plain": [
       "<Figure size 432x288 with 1 Axes>"
      ]
     },
     "metadata": {},
     "output_type": "display_data"
    }
   ],
   "source": [
    "sns.boxplot(x = 'status', y = 'time_in_position', data = new_df)"
   ]
  },
  {
   "cell_type": "code",
   "execution_count": 93,
   "metadata": {},
   "outputs": [
    {
     "name": "stdout",
     "output_type": "stream",
     "text": [
      "mean: ('data status 1:', 29.49411764705882, 'data status 0:', 26.637596899224807)\n",
      "median: ('data status 1:', 21.5, 'data status 0:', 16.5)\n",
      "min: ('data status 1:', 0, 'data status 0:', 0)\n",
      "max: ('data status 1:', 267, 'data status 0:', 278)\n"
     ]
    }
   ],
   "source": [
    "print('mean:', feature_mean(new_df, 'status', 'time_in_position'))\n",
    "print('median:', feature_median(new_df, 'status', 'time_in_position'))\n",
    "print('min:', feature_min(new_df, 'status', 'time_in_position'))\n",
    "print('max:',feature_max(new_df, 'status', 'time_in_position'))"
   ]
  },
  {
   "cell_type": "markdown",
   "metadata": {},
   "source": [
    "The average time that people stay in a position is 26 months, while people who leave, stay in the position for an average of 29 months.  Approximately 21 months is the median of the people who have left the company.  There is either something wrong with data, or people have been in the same position for 267 or 278 months in the company."
   ]
  },
  {
   "cell_type": "markdown",
   "metadata": {},
   "source": [
    "## `status` and `manager_sat`"
   ]
  },
  {
   "cell_type": "code",
   "execution_count": 94,
   "metadata": {},
   "outputs": [
    {
     "data": {
      "text/plain": [
       "<AxesSubplot:xlabel='status', ylabel='manager_sat'>"
      ]
     },
     "execution_count": 94,
     "metadata": {},
     "output_type": "execute_result"
    },
    {
     "data": {
      "image/png": "[encoded data removed]",
      "text/plain": [
       "<Figure size 432x288 with 1 Axes>"
      ]
     },
     "metadata": {},
     "output_type": "display_data"
    }
   ],
   "source": [
    "sns.boxplot(x = 'status', y = 'manager_sat', data = new_df)"
   ]
  },
  {
   "cell_type": "markdown",
   "metadata": {},
   "source": [
    "For status 1, everything is at just the number 79, there is no variation at all, that's why there's just a straight line there -- they all scored a 79."
   ]
  },
  {
   "cell_type": "code",
   "execution_count": 95,
   "metadata": {},
   "outputs": [
    {
     "name": "stdout",
     "output_type": "stream",
     "text": [
      "mean: ('data status 1:', 79, 'data status 0:', 83.2248062015504)\n",
      "median: ('data status 1:', 79.0, 'data status 0:', 82.0)\n",
      "min: ('data status 1:', 79, 'data status 0:', 76)\n",
      "max: ('data status 1:', 79, 'data status 0:', 100)\n"
     ]
    }
   ],
   "source": [
    "print('mean:', feature_mean(new_df, 'status', 'manager_sat'))\n",
    "print('median:', feature_median(new_df, 'status', 'manager_sat'))\n",
    "print('min:', feature_min(new_df, 'status', 'manager_sat'))\n",
    "print('max:',feature_max(new_df, 'status', 'manager_sat'))"
   ]
  },
  {
   "cell_type": "markdown",
   "metadata": {},
   "source": [
    "## `status` and `employee_sat`"
   ]
  },
  {
   "cell_type": "code",
   "execution_count": 96,
   "metadata": {
    "scrolled": true
   },
   "outputs": [
    {
     "data": {
      "text/plain": [
       "<AxesSubplot:xlabel='status', ylabel='employee_sat'>"
      ]
     },
     "execution_count": 96,
     "metadata": {},
     "output_type": "execute_result"
    },
    {
     "data": {
      "image/png": "[encoded data removed]",
      "text/plain": [
       "<Figure size 432x288 with 1 Axes>"
      ]
     },
     "metadata": {},
     "output_type": "display_data"
    }
   ],
   "source": [
    "sns.boxplot(x = 'status', y = 'employee_sat', data = new_df)"
   ]
  },
  {
   "cell_type": "markdown",
   "metadata": {},
   "source": [
    "Good variation in status 0.  When it comes to status 1, we see that everything is staying at the median with a few points above and below."
   ]
  },
  {
   "cell_type": "code",
   "execution_count": 97,
   "metadata": {},
   "outputs": [
    {
     "name": "stdout",
     "output_type": "stream",
     "text": [
      "mean: ('data status 1:', 79.95882352941176, 'data status 0:', 81.62790697674419)\n",
      "median: ('data status 1:', 80.0, 'data status 0:', 80.0)\n",
      "min: ('data status 1:', 70, 'data status 0:', 70)\n",
      "max: ('data status 1:', 86, 'data status 0:', 100)\n"
     ]
    }
   ],
   "source": [
    "print('mean:', feature_mean(new_df, 'status', 'employee_sat'))\n",
    "print('median:', feature_median(new_df, 'status', 'employee_sat'))\n",
    "print('min:', feature_min(new_df, 'status', 'employee_sat'))\n",
    "print('max:',feature_max(new_df, 'status', 'employee_sat'))"
   ]
  },
  {
   "cell_type": "markdown",
   "metadata": {},
   "source": [
    "The average satisfaction for employees who have left the company is about 80% while the average for employee satisfaction of people who have stayed is about 82%."
   ]
  },
  {
   "cell_type": "markdown",
   "metadata": {},
   "source": [
    "## `status` and `percent_salary_change`"
   ]
  },
  {
   "cell_type": "code",
   "execution_count": 98,
   "metadata": {},
   "outputs": [
    {
     "data": {
      "text/plain": [
       "<AxesSubplot:xlabel='status', ylabel='percent_salary_change'>"
      ]
     },
     "execution_count": 98,
     "metadata": {},
     "output_type": "execute_result"
    },
    {
     "data": {
      "image/png": "[encoded data removed]",
      "text/plain": [
       "<Figure size 432x288 with 1 Axes>"
      ]
     },
     "metadata": {},
     "output_type": "display_data"
    }
   ],
   "source": [
    "sns.boxplot(x = 'status', y = 'percent_salary_change', data = new_df)"
   ]
  },
  {
   "cell_type": "markdown",
   "metadata": {},
   "source": [
    "Good variation in the status 0 -- shows that people that are staying are getting a change in salary."
   ]
  },
  {
   "cell_type": "code",
   "execution_count": 99,
   "metadata": {},
   "outputs": [
    {
     "name": "stdout",
     "output_type": "stream",
     "text": [
      "mean: ('data status 1:', 2.8998591210597175, 'data status 0:', 5.88449124991046)\n",
      "median: ('data status 1:', 1.2798805272819869, 'data status 0:', 3.5165506278090772)\n",
      "min: ('data status 1:', 0.0, 'data status 0:', 0.0)\n",
      "max: ('data status 1:', 12.91903548323858, 'data status 0:', 57.608695652173914)\n"
     ]
    }
   ],
   "source": [
    "print('mean:', feature_mean(new_df, 'status', 'percent_salary_change'))\n",
    "print('median:', feature_median(new_df, 'status', 'percent_salary_change'))\n",
    "print('min:', feature_min(new_df, 'status', 'percent_salary_change'))\n",
    "print('max:',feature_max(new_df, 'status', 'percent_salary_change'))"
   ]
  },
  {
   "cell_type": "markdown",
   "metadata": {},
   "source": [
    "People who stay get worse than people who leave, because the average change of salary is about 6% for those of people who left.  The maximum change for people who have left is 57.6%."
   ]
  },
  {
   "cell_type": "markdown",
   "metadata": {},
   "source": [
    "# Bi-Variate Analysis (Numerical-Categorical Hypothesis Testing)\n",
    "- Using t-test helps to find if there is a difference between two groups.  \n",
    "    - p-value > 0.05 means that we need to accept the H0 (they are independent)\n",
    "    - p-value < 0.05 means that we need to accept the H1 (they are dependent)\n",
    "\n",
    "- H0 - Null Hypothesis shows that they are independent (no dependence)\n",
    "- H1 - Alternative Hypothesis show that they are dependent."
   ]
  },
  {
   "cell_type": "markdown",
   "metadata": {},
   "source": [
    "## `status` and `age`"
   ]
  },
  {
   "cell_type": "markdown",
   "metadata": {},
   "source": [
    "- H0 says that there is no relationship between age and status (independent), if p > 0.05\n",
    "- H1 says that there is a relationship between age and status (dependent), if p < 0.05"
   ]
  },
  {
   "cell_type": "code",
   "execution_count": 100,
   "metadata": {},
   "outputs": [],
   "source": [
    "import statsmodels.api as sm\n",
    "from statsmodels.formula.api import ols"
   ]
  },
  {
   "cell_type": "code",
   "execution_count": 101,
   "metadata": {},
   "outputs": [
    {
     "name": "stdout",
     "output_type": "stream",
     "text": [
      "p-value is 0.7712799572804113\n",
      "Independent (H0 holds true)\n"
     ]
    }
   ],
   "source": [
    "p_value = sm.stats.anova_lm(ols('age ~ status', data=new_df).fit())['PR(>F)'][0]\n",
    "\n",
    "alpha = 0.05\n",
    "print(\"p-value is \" + str(p_value))\n",
    "if p_value <= alpha: \n",
    "    print('Dependent (reject H0)') \n",
    "else: \n",
    "    print('Independent (H0 holds true)') "
   ]
  },
  {
   "cell_type": "markdown",
   "metadata": {},
   "source": [
    "The p-value is greater than 0.05, therefore, age does not impact status - not a significant variable."
   ]
  },
  {
   "cell_type": "markdown",
   "metadata": {},
   "source": [
    "- H0 says that there is no relationship between distance_from_home and status (independent), if p > 0.05\n",
    "- H1 says that there is a relationship between distance_from_home and status (dependent), if p < 0.05"
   ]
  },
  {
   "cell_type": "code",
   "execution_count": 102,
   "metadata": {},
   "outputs": [
    {
     "name": "stdout",
     "output_type": "stream",
     "text": [
      "p-value is 7.287146091769263e-07\n",
      "Dependent (reject H0)\n"
     ]
    }
   ],
   "source": [
    "import statsmodels.api as sm\n",
    "from statsmodels.formula.api import ols\n",
    "\n",
    "p_value = sm.stats.anova_lm(ols('distance_from_home ~ status', data=new_df).fit())['PR(>F)'][0]\n",
    "\n",
    "alpha = 0.05\n",
    "print(\"p-value is \" + str(p_value))\n",
    "if p_value <= alpha: \n",
    "    print('Dependent (reject H0)') \n",
    "else: \n",
    "    print('Independent (H0 holds true)') "
   ]
  },
  {
   "cell_type": "markdown",
   "metadata": {},
   "source": [
    "The p-value is less than 0.05, therefore distance_from_home does impact status -- significant variable."
   ]
  },
  {
   "cell_type": "markdown",
   "metadata": {},
   "source": [
    "- H0 says that there is no relationship between manager_changes and status (independent), if p > 0.05\n",
    "- H1 says that there is a relationship between manager_changes and status (dependent), if p < 0.05"
   ]
  },
  {
   "cell_type": "code",
   "execution_count": 103,
   "metadata": {},
   "outputs": [
    {
     "name": "stdout",
     "output_type": "stream",
     "text": [
      "p-value is 0.09799810629978262\n",
      "Independent (H0 holds true)\n"
     ]
    }
   ],
   "source": [
    "p_value = sm.stats.anova_lm(ols('manager_changes ~ status', data=new_df).fit())['PR(>F)'][0]\n",
    "\n",
    "alpha = 0.05\n",
    "print(\"p-value is \" + str(p_value))\n",
    "if p_value <= alpha: \n",
    "    print('Dependent (reject H0)') \n",
    "else: \n",
    "    print('Independent (H0 holds true)') "
   ]
  },
  {
   "cell_type": "markdown",
   "metadata": {},
   "source": [
    "The p-value is greater than 0.05, therefore manager_changes does not impact status -- not a significant variable."
   ]
  },
  {
   "cell_type": "markdown",
   "metadata": {},
   "source": [
    "- H0 says that there is no relationship between bonus and status (independent), if p > 0.05\n",
    "- H1 says that there is a relationship between bonus and status (dependent), if p < 0.05"
   ]
  },
  {
   "cell_type": "code",
   "execution_count": 104,
   "metadata": {},
   "outputs": [
    {
     "name": "stdout",
     "output_type": "stream",
     "text": [
      "p-value is 0.050712664665118805\n",
      "Independent (H0 holds true)\n"
     ]
    }
   ],
   "source": [
    "p_value = sm.stats.anova_lm(ols('bonus ~ status', data=new_df).fit())['PR(>F)'][0]\n",
    "\n",
    "alpha = 0.05\n",
    "print(\"p-value is \" + str(p_value))\n",
    "if p_value <= alpha: \n",
    "    print('Dependent (reject H0)') \n",
    "else: \n",
    "    print('Independent (H0 holds true)') "
   ]
  },
  {
   "cell_type": "markdown",
   "metadata": {},
   "source": [
    "The p-value is greater than 0.05 (not by much), therefore bonus does not impact status -- not a significant variable."
   ]
  },
  {
   "cell_type": "markdown",
   "metadata": {},
   "source": [
    "- H0 says that there is no relationship between no_courses_taken and status (independent), if p > 0.05\n",
    "- H1 says that there is a relationship between no_courses_taken and status (dependent), if p < 0.05"
   ]
  },
  {
   "cell_type": "code",
   "execution_count": 105,
   "metadata": {},
   "outputs": [
    {
     "name": "stdout",
     "output_type": "stream",
     "text": [
      "p-value is 1.9017767629251242e-17\n",
      "Dependent (reject H0)\n"
     ]
    }
   ],
   "source": [
    "p_value = sm.stats.anova_lm(ols('no_courses_taken ~ status', data=new_df).fit())['PR(>F)'][0]\n",
    "\n",
    "alpha = 0.05\n",
    "print(\"p-value is \" + str(p_value))\n",
    "if p_value <= alpha: \n",
    "    print('Dependent (reject H0)') \n",
    "else: \n",
    "    print('Independent (H0 holds true)') "
   ]
  },
  {
   "cell_type": "markdown",
   "metadata": {},
   "source": [
    "The p-value is less than 0.05, therefore no_courses_taken impacts status -- a significant variable."
   ]
  },
  {
   "cell_type": "markdown",
   "metadata": {},
   "source": [
    "- H0 says that there is no relationship between time_in_position and status (independent), if p > 0.05\n",
    "- H1 says that there is a relationship between time_in_position and status (dependent), if p < 0.05"
   ]
  },
  {
   "cell_type": "code",
   "execution_count": 106,
   "metadata": {},
   "outputs": [
    {
     "name": "stdout",
     "output_type": "stream",
     "text": [
      "p-value is 0.30358120086754103\n",
      "Independent (H0 holds true)\n"
     ]
    }
   ],
   "source": [
    "p_value = sm.stats.anova_lm(ols('time_in_position ~ status', data=new_df).fit())['PR(>F)'][0]\n",
    "\n",
    "alpha = 0.05\n",
    "print(\"p-value is \" + str(p_value))\n",
    "if p_value <= alpha: \n",
    "    print('Dependent (reject H0)') \n",
    "else: \n",
    "    print('Independent (H0 holds true)') "
   ]
  },
  {
   "cell_type": "markdown",
   "metadata": {},
   "source": [
    "The p-value is greater than 0.05, therefore time_in-position does not impact status -- not a significant variable."
   ]
  },
  {
   "cell_type": "markdown",
   "metadata": {},
   "source": [
    "- H0 says that there is no relationship between manager_sat and status (independent), if p > 0.05\n",
    "- H1 says that there is a relationship between manager_sat and status (dependent), if p < 0.05"
   ]
  },
  {
   "cell_type": "code",
   "execution_count": 107,
   "metadata": {},
   "outputs": [
    {
     "name": "stdout",
     "output_type": "stream",
     "text": [
      "p-value is 1.268258023386789e-24\n",
      "Dependent (reject H0)\n"
     ]
    }
   ],
   "source": [
    "p_value = sm.stats.anova_lm(ols('manager_sat ~ status', data=new_df).fit())['PR(>F)'][0]\n",
    "\n",
    "alpha = 0.05\n",
    "print(\"p-value is \" + str(p_value))\n",
    "if p_value <= alpha: \n",
    "    print('Dependent (reject H0)') \n",
    "else: \n",
    "    print('Independent (H0 holds true)') "
   ]
  },
  {
   "cell_type": "markdown",
   "metadata": {},
   "source": [
    "The p-value is less than 0.05, therefore manager_sat does impact status -- significant variable"
   ]
  },
  {
   "cell_type": "markdown",
   "metadata": {},
   "source": [
    "- H0 says that there is no relationship between employee_sat and status (independent), if p > 0.05\n",
    "- H1 says that there is a relationship between employee_sat and status (dependent), if p < 0.05"
   ]
  },
  {
   "cell_type": "code",
   "execution_count": 108,
   "metadata": {},
   "outputs": [
    {
     "name": "stdout",
     "output_type": "stream",
     "text": [
      "p-value is 0.00015309713244606512\n",
      "Dependent (reject H0)\n"
     ]
    }
   ],
   "source": [
    "p_value = sm.stats.anova_lm(ols('employee_sat ~ status', data=new_df).fit())['PR(>F)'][0]\n",
    "\n",
    "alpha = 0.05\n",
    "print(\"p-value is \" + str(p_value))\n",
    "if p_value <= alpha: \n",
    "    print('Dependent (reject H0)') \n",
    "else: \n",
    "    print('Independent (H0 holds true)') "
   ]
  },
  {
   "cell_type": "markdown",
   "metadata": {},
   "source": [
    "The p-value is less than 0.05, therefore employee_sat does impact status -- significant variable"
   ]
  },
  {
   "cell_type": "markdown",
   "metadata": {},
   "source": [
    "- H0 says that there is no relationship between percent_salary_change and status (independent), if p > 0.05\n",
    "- H1 says that there is a relationship between percent_salary_change and status (dependent), if p < 0.05"
   ]
  },
  {
   "cell_type": "code",
   "execution_count": 109,
   "metadata": {},
   "outputs": [
    {
     "name": "stdout",
     "output_type": "stream",
     "text": [
      "p-value is 6.063258573016749e-07\n",
      "Dependent (reject H0)\n"
     ]
    }
   ],
   "source": [
    "p_value = sm.stats.anova_lm(ols('percent_salary_change ~ status', data=new_df).fit())['PR(>F)'][0]\n",
    "\n",
    "alpha = 0.05\n",
    "print(\"p-value is \" + str(p_value))\n",
    "if p_value <= alpha: \n",
    "    print('Dependent (reject H0)') \n",
    "else: \n",
    "    print('Independent (H0 holds true)') "
   ]
  },
  {
   "cell_type": "markdown",
   "metadata": {},
   "source": [
    "The p-value is less than 0.05, therefore percent_salary_change does impact salary -- significant variable."
   ]
  },
  {
   "cell_type": "markdown",
   "metadata": {},
   "source": [
    "# Recap\n",
    "- There are some variables that are independent and some that are dependent.\n",
    "- The way to do modeling, if the variables are not dependent to the variable that we're trying to predict then the variable is not important to us.  It's not impacting the target variable -- the ones that gave independent (when we had to accept the Null Hypothesis) \n",
    "- We can remove those variables that do not impact (drop these variables).\n",
    "\n",
    "We got variables from C-C\n",
    "- Gender, job_level, signon\n",
    "\n",
    "We got variables from N-C\n",
    "- age, manager_changes, bonus, time_in_position"
   ]
  },
  {
   "cell_type": "code",
   "execution_count": 110,
   "metadata": {},
   "outputs": [],
   "source": [
    "independent_variables = ['gender', 'job_level', 'signon', 'age', 'manager_changes', 'bonus', 'time_in_position']"
   ]
  },
  {
   "cell_type": "code",
   "execution_count": 111,
   "metadata": {},
   "outputs": [],
   "source": [
    "new_df = new_df.drop(independent_variables, axis=1)"
   ]
  },
  {
   "cell_type": "code",
   "execution_count": 112,
   "metadata": {},
   "outputs": [
    {
     "name": "stdout",
     "output_type": "stream",
     "text": [
      "<class 'pandas.core.frame.DataFrame'>\n",
      "RangeIndex: 686 entries, 0 to 685\n",
      "Data columns (total 12 columns):\n",
      " #   Column                 Non-Null Count  Dtype   \n",
      "---  ------                 --------------  -----   \n",
      " 0   status                 686 non-null    category\n",
      " 1   service_agreement      686 non-null    object  \n",
      " 2   distance_from_home     686 non-null    float64 \n",
      " 3   no_of_promotions       686 non-null    category\n",
      " 4   risk_of_attrition      686 non-null    category\n",
      " 5   potential_rating       686 non-null    category\n",
      " 6   no_courses_taken       686 non-null    int64   \n",
      " 7   awards                 686 non-null    object  \n",
      " 8   manager_sat            686 non-null    int64   \n",
      " 9   employee_sat           686 non-null    int64   \n",
      " 10  var_rating             686 non-null    category\n",
      " 11  percent_salary_change  686 non-null    float64 \n",
      "dtypes: category(5), float64(2), int64(3), object(2)\n",
      "memory usage: 42.0+ KB\n"
     ]
    }
   ],
   "source": [
    "new_df.info()"
   ]
  },
  {
   "cell_type": "markdown",
   "metadata": {},
   "source": [
    "# Dummy Variables"
   ]
  },
  {
   "cell_type": "markdown",
   "metadata": {},
   "source": [
    "The number of dummy variables necessary to represent a single attribute variable which is equal the number of levels of categories in that variable minus 1.\n",
    "\n",
    "Example:\n",
    "- Let's say we have a variable that has 2 levels (gender -- Male and Female), how many variables will we create? 1 because we have 2 levels-- because 2-1 = 1\n",
    "    - The one that is missing is the difference category.\n",
    "\n",
    "Which variable will you make the reference category? -- Example of 4 levels the dummy that will not be created is the one with most frequency."
   ]
  },
  {
   "cell_type": "code",
   "execution_count": 113,
   "metadata": {},
   "outputs": [
    {
     "name": "stdout",
     "output_type": "stream",
     "text": [
      "<class 'pandas.core.frame.DataFrame'>\n",
      "RangeIndex: 686 entries, 0 to 685\n",
      "Data columns (total 12 columns):\n",
      " #   Column                 Non-Null Count  Dtype   \n",
      "---  ------                 --------------  -----   \n",
      " 0   status                 686 non-null    category\n",
      " 1   service_agreement      686 non-null    object  \n",
      " 2   distance_from_home     686 non-null    float64 \n",
      " 3   no_of_promotions       686 non-null    category\n",
      " 4   risk_of_attrition      686 non-null    category\n",
      " 5   potential_rating       686 non-null    category\n",
      " 6   no_courses_taken       686 non-null    int64   \n",
      " 7   awards                 686 non-null    object  \n",
      " 8   manager_sat            686 non-null    int64   \n",
      " 9   employee_sat           686 non-null    int64   \n",
      " 10  var_rating             686 non-null    category\n",
      " 11  percent_salary_change  686 non-null    float64 \n",
      "dtypes: category(5), float64(2), int64(3), object(2)\n",
      "memory usage: 42.0+ KB\n"
     ]
    }
   ],
   "source": [
    "new_df.info()"
   ]
  },
  {
   "cell_type": "code",
   "execution_count": 122,
   "metadata": {},
   "outputs": [
    {
     "name": "stdout",
     "output_type": "stream",
     "text": [
      "1    170\n",
      "Name: status, dtype: int64\n",
      "1     104\n",
      "2      59\n",
      "3      22\n",
      "4      17\n",
      "5       6\n",
      "7       2\n",
      "6       2\n",
      "10      1\n",
      "Name: no_of_promotions, dtype: int64\n",
      "3    285\n",
      "4     66\n",
      "1     34\n",
      "Name: risk_of_attrition, dtype: int64\n",
      "4    196\n",
      "5    193\n",
      "2     38\n",
      "1     34\n",
      "Name: potential_rating, dtype: int64\n",
      "-1    130\n",
      " 1    126\n",
      "-3     16\n",
      " 2      1\n",
      "Name: var_rating, dtype: int64\n",
      "N    576\n",
      "Y    110\n",
      "Name: service_agreement, dtype: int64\n",
      "N    626\n",
      "Y     60\n",
      "Name: awards, dtype: int64\n"
     ]
    }
   ],
   "source": [
    "cats = ['status', 'no_of_promotions', 'risk_of_attrition', 'potential_rating', 'var_rating', 'service_agreement',\n",
    "       'awards']\n",
    "for i in cats:\n",
    "    print(new_df[i].value_counts())\n",
    "# drop the ones that have the most frequent "
   ]
  },
  {
   "cell_type": "markdown",
   "metadata": {},
   "source": [
    "https://stackoverflow.com/questions/18016495/get-subset-of-most-frequent-dummy-variables-in-pandas"
   ]
  },
  {
   "cell_type": "code",
   "execution_count": 115,
   "metadata": {},
   "outputs": [],
   "source": [
    "new_df['var_rating'].replace(new_df['var_rating'].value_counts().index[0], np.nan, inplace=True)"
   ]
  },
  {
   "cell_type": "code",
   "execution_count": 116,
   "metadata": {},
   "outputs": [],
   "source": [
    "new_df.status.replace(new_df.status.value_counts().index[0], np.nan, inplace=True)"
   ]
  },
  {
   "cell_type": "code",
   "execution_count": 117,
   "metadata": {},
   "outputs": [],
   "source": [
    "new_df['no_of_promotions'].replace(new_df['no_of_promotions'].value_counts().index[0], np.nan, inplace=True)"
   ]
  },
  {
   "cell_type": "code",
   "execution_count": 118,
   "metadata": {},
   "outputs": [],
   "source": [
    "new_df['risk_of_attrition'].replace(new_df['risk_of_attrition'].value_counts().index[0], np.nan, inplace=True)"
   ]
  },
  {
   "cell_type": "code",
   "execution_count": 119,
   "metadata": {},
   "outputs": [],
   "source": [
    "new_df['potential_rating'].replace(new_df['potential_rating'].value_counts().index[0], np.nan, inplace=True)"
   ]
  },
  {
   "cell_type": "code",
   "execution_count": 123,
   "metadata": {},
   "outputs": [],
   "source": [
    "new_df['service_agreement'].replace(new_df['service_agreement'].value_counts().index[0], np.nan, inplace=True)"
   ]
  },
  {
   "cell_type": "code",
   "execution_count": 124,
   "metadata": {},
   "outputs": [],
   "source": [
    "new_df.awards.replace(new_df.awards.value_counts().index[0], np.nan, inplace=True)"
   ]
  },
  {
   "cell_type": "code",
   "execution_count": 125,
   "metadata": {},
   "outputs": [],
   "source": [
    "new_df_dummy = pd.get_dummies(new_df[new_df.notnull()])"
   ]
  },
  {
   "cell_type": "code",
   "execution_count": 126,
   "metadata": {},
   "outputs": [
    {
     "name": "stdout",
     "output_type": "stream",
     "text": [
      "<class 'pandas.core.frame.DataFrame'>\n",
      "RangeIndex: 686 entries, 0 to 685\n",
      "Data columns (total 27 columns):\n",
      " #   Column                 Non-Null Count  Dtype  \n",
      "---  ------                 --------------  -----  \n",
      " 0   distance_from_home     686 non-null    float64\n",
      " 1   no_courses_taken       686 non-null    int64  \n",
      " 2   manager_sat            686 non-null    int64  \n",
      " 3   employee_sat           686 non-null    int64  \n",
      " 4   percent_salary_change  686 non-null    float64\n",
      " 5   status_1               686 non-null    uint8  \n",
      " 6   service_agreement_Y    686 non-null    uint8  \n",
      " 7   no_of_promotions_1     686 non-null    uint8  \n",
      " 8   no_of_promotions_2     686 non-null    uint8  \n",
      " 9   no_of_promotions_3     686 non-null    uint8  \n",
      " 10  no_of_promotions_4     686 non-null    uint8  \n",
      " 11  no_of_promotions_5     686 non-null    uint8  \n",
      " 12  no_of_promotions_6     686 non-null    uint8  \n",
      " 13  no_of_promotions_7     686 non-null    uint8  \n",
      " 14  no_of_promotions_10    686 non-null    uint8  \n",
      " 15  risk_of_attrition_1    686 non-null    uint8  \n",
      " 16  risk_of_attrition_3    686 non-null    uint8  \n",
      " 17  risk_of_attrition_4    686 non-null    uint8  \n",
      " 18  potential_rating_1     686 non-null    uint8  \n",
      " 19  potential_rating_2     686 non-null    uint8  \n",
      " 20  potential_rating_4     686 non-null    uint8  \n",
      " 21  potential_rating_5     686 non-null    uint8  \n",
      " 22  awards_Y               686 non-null    uint8  \n",
      " 23  var_rating_-3          686 non-null    uint8  \n",
      " 24  var_rating_-1          686 non-null    uint8  \n",
      " 25  var_rating_1           686 non-null    uint8  \n",
      " 26  var_rating_2           686 non-null    uint8  \n",
      "dtypes: float64(2), int64(3), uint8(22)\n",
      "memory usage: 41.7 KB\n"
     ]
    }
   ],
   "source": [
    "new_df_dummy.info()"
   ]
  },
  {
   "cell_type": "markdown",
   "metadata": {},
   "source": [
    "Need to change the names of the columns that have a negative number.  The column names need to be clean."
   ]
  },
  {
   "cell_type": "code",
   "execution_count": 129,
   "metadata": {},
   "outputs": [],
   "source": [
    "new_df_dummy.rename(columns={\"var_rating_-3\": \"var_rating_minus3\", \"var_rating_-1\": \"var_rating_minus1\"}, inplace=True)"
   ]
  },
  {
   "cell_type": "code",
   "execution_count": 130,
   "metadata": {},
   "outputs": [
    {
     "name": "stdout",
     "output_type": "stream",
     "text": [
      "<class 'pandas.core.frame.DataFrame'>\n",
      "RangeIndex: 686 entries, 0 to 685\n",
      "Data columns (total 27 columns):\n",
      " #   Column                 Non-Null Count  Dtype  \n",
      "---  ------                 --------------  -----  \n",
      " 0   distance_from_home     686 non-null    float64\n",
      " 1   no_courses_taken       686 non-null    int64  \n",
      " 2   manager_sat            686 non-null    int64  \n",
      " 3   employee_sat           686 non-null    int64  \n",
      " 4   percent_salary_change  686 non-null    float64\n",
      " 5   status_1               686 non-null    uint8  \n",
      " 6   service_agreement_Y    686 non-null    uint8  \n",
      " 7   no_of_promotions_1     686 non-null    uint8  \n",
      " 8   no_of_promotions_2     686 non-null    uint8  \n",
      " 9   no_of_promotions_3     686 non-null    uint8  \n",
      " 10  no_of_promotions_4     686 non-null    uint8  \n",
      " 11  no_of_promotions_5     686 non-null    uint8  \n",
      " 12  no_of_promotions_6     686 non-null    uint8  \n",
      " 13  no_of_promotions_7     686 non-null    uint8  \n",
      " 14  no_of_promotions_10    686 non-null    uint8  \n",
      " 15  risk_of_attrition_1    686 non-null    uint8  \n",
      " 16  risk_of_attrition_3    686 non-null    uint8  \n",
      " 17  risk_of_attrition_4    686 non-null    uint8  \n",
      " 18  potential_rating_1     686 non-null    uint8  \n",
      " 19  potential_rating_2     686 non-null    uint8  \n",
      " 20  potential_rating_4     686 non-null    uint8  \n",
      " 21  potential_rating_5     686 non-null    uint8  \n",
      " 22  awards_Y               686 non-null    uint8  \n",
      " 23  var_rating_minus3      686 non-null    uint8  \n",
      " 24  var_rating_minus1      686 non-null    uint8  \n",
      " 25  var_rating_1           686 non-null    uint8  \n",
      " 26  var_rating_2           686 non-null    uint8  \n",
      "dtypes: float64(2), int64(3), uint8(22)\n",
      "memory usage: 41.7 KB\n"
     ]
    }
   ],
   "source": [
    "new_df_dummy.info()"
   ]
  },
  {
   "cell_type": "markdown",
   "metadata": {},
   "source": [
    "# Split the data into two parts\n",
    "- Train-Test-Split\n",
    "\n",
    "Note that `status_1` is the the target variable."
   ]
  },
  {
   "cell_type": "code",
   "execution_count": 132,
   "metadata": {},
   "outputs": [],
   "source": [
    "from sklearn.model_selection import train_test_split\n",
    "\n",
    "X = new_df_dummy.drop(['status_1'], axis=1)\n",
    "y = new_df_dummy['status_1']"
   ]
  },
  {
   "cell_type": "code",
   "execution_count": 146,
   "metadata": {},
   "outputs": [],
   "source": [
    "X_train, X_test, y_train, y_test = train_test_split(X, y, test_size = 0.30, random_state = 6)\n",
    "# test size is .30 because we want to train on 70% of the data"
   ]
  },
  {
   "cell_type": "code",
   "execution_count": 151,
   "metadata": {},
   "outputs": [
    {
     "data": {
      "text/plain": [
       "(206, 26)"
      ]
     },
     "execution_count": 151,
     "metadata": {},
     "output_type": "execute_result"
    }
   ],
   "source": [
    "X_test.shape"
   ]
  },
  {
   "cell_type": "code",
   "execution_count": null,
   "metadata": {},
   "outputs": [],
   "source": []
  }
 ],
 "metadata": {
  "kernelspec": {
   "display_name": "Python [conda env:anaconda3]",
   "language": "python",
   "name": "conda-env-anaconda3-py"
  },
  "language_info": {
   "codemirror_mode": {
    "name": "ipython",
    "version": 3
   },
   "file_extension": ".py",
   "mimetype": "text/x-python",
   "name": "python",
   "nbconvert_exporter": "python",
   "pygments_lexer": "ipython3",
   "version": "3.7.4"
  },
  "toc": {
   "base_numbering": 1,
   "nav_menu": {},
   "number_sections": true,
   "sideBar": true,
   "skip_h1_title": false,
   "title_cell": "Table of Contents",
   "title_sidebar": "Contents",
   "toc_cell": false,
   "toc_position": {},
   "toc_section_display": true,
   "toc_window_display": false
  },
  "varInspector": {
   "cols": {
    "lenName": 16,
    "lenType": 16,
    "lenVar": 40
   },
   "kernels_config": {
    "python": {
     "delete_cmd_postfix": "",
     "delete_cmd_prefix": "del ",
     "library": "var_list.py",
     "varRefreshCmd": "print(var_dic_list())"
    },
    "r": {
     "delete_cmd_postfix": ") ",
     "delete_cmd_prefix": "rm(",
     "library": "var_list.r",
     "varRefreshCmd": "cat(var_dic_list()) "
    }
   },
   "types_to_exclude": [
    "module",
    "function",
    "builtin_function_or_method",
    "instance",
    "_Feature"
   ],
   "window_display": false
  }
 },
 "nbformat": 4,
 "nbformat_minor": 2
}
